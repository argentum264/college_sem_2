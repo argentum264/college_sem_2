{
 "cells": [
  {
   "cell_type": "code",
   "execution_count": 1,
   "id": "36c96c04-5de6-4120-8cfc-2140c9987712",
   "metadata": {
    "tags": []
   },
   "outputs": [],
   "source": [
    "import re"
   ]
  },
  {
   "cell_type": "code",
   "execution_count": 2,
   "id": "fba24609-3b8a-410a-9ef6-319c727eaa95",
   "metadata": {
    "tags": []
   },
   "outputs": [],
   "source": [
    "tweet = \"Hello guys, this is my first #tweet. Check this @joy! #nlp #machine #learning\""
   ]
  },
  {
   "cell_type": "code",
   "execution_count": 3,
   "id": "23d93e21-75f8-430c-93c2-759127950c5d",
   "metadata": {
    "tags": []
   },
   "outputs": [
    {
     "data": {
      "text/plain": [
       "['#', '#', '#', '#']"
      ]
     },
     "execution_count": 3,
     "metadata": {},
     "output_type": "execute_result"
    }
   ],
   "source": [
    "re.findall('#', tweet)"
   ]
  },
  {
   "cell_type": "code",
   "execution_count": 4,
   "id": "63507e8e-9117-426a-b292-450b3a64bda4",
   "metadata": {
    "tags": []
   },
   "outputs": [
    {
     "data": {
      "text/plain": [
       "'Hello guys, this is my first _tweet. Check this @joy! _nlp _machine _learning'"
      ]
     },
     "execution_count": 4,
     "metadata": {},
     "output_type": "execute_result"
    }
   ],
   "source": [
    "re.sub('#', '_', tweet)"
   ]
  },
  {
   "cell_type": "code",
   "execution_count": 5,
   "id": "c6787439-6c30-4ff6-bcc1-ad5e81266bea",
   "metadata": {
    "tags": []
   },
   "outputs": [
    {
     "name": "stdout",
     "output_type": "stream",
     "text": [
      "['The']\n",
      "[]\n"
     ]
    }
   ],
   "source": [
    "# \\A\n",
    "\n",
    "text = \"The categorical cat hello mycat\"\n",
    "text1 = \"categorical cat hello mycat\"\n",
    "print(re.findall(r'\\AThe', text)) # Starting of string\n",
    "print(re.findall(r'\\AThe', text1)) # Starting of string"
   ]
  },
  {
   "cell_type": "code",
   "execution_count": 6,
   "id": "f53a9b04-e01b-4f76-a2f3-a4eccb15b1b4",
   "metadata": {
    "tags": []
   },
   "outputs": [],
   "source": [
    "# \\b\n",
    "\n",
    "text = \"categorical cat hello mycat\""
   ]
  },
  {
   "cell_type": "code",
   "execution_count": 7,
   "id": "e164f510-9c28-4e4b-8fa2-04d391e79ab8",
   "metadata": {
    "tags": []
   },
   "outputs": [
    {
     "data": {
      "text/plain": [
       "['cat', 'cat']"
      ]
     },
     "execution_count": 7,
     "metadata": {},
     "output_type": "execute_result"
    }
   ],
   "source": [
    "re.findall(r'\\bcat', text) # Starting of 'word'\n",
    "# Challenge: Write a code that returns the index or the specified pattern 'cat'"
   ]
  },
  {
   "cell_type": "code",
   "execution_count": 10,
   "id": "57e2816d-3c7e-4c0e-8d5b-21ffc140d992",
   "metadata": {
    "tags": []
   },
   "outputs": [
    {
     "name": "stdout",
     "output_type": "stream",
     "text": [
      "Index: 0, Match: cat\n",
      "Index: 12, Match: cat\n"
     ]
    }
   ],
   "source": [
    "pattern = r'\\bcat'\n",
    "matches = [(match.start(), match.group()) for match in re.finditer(pattern, text)]\n",
    "\n",
    "for match in matches:\n",
    "    print(f\"Index: {match[0]}, Match: {match[1]}\")"
   ]
  },
  {
   "cell_type": "code",
   "execution_count": 8,
   "id": "d74ac5a4-95f8-46fc-92cf-134e0d441441",
   "metadata": {
    "tags": []
   },
   "outputs": [
    {
     "data": {
      "text/plain": [
       "['cat', 'cat']"
      ]
     },
     "execution_count": 8,
     "metadata": {},
     "output_type": "execute_result"
    }
   ],
   "source": [
    "re.findall(r'cat\\b', text) # Ending with 'cat'"
   ]
  },
  {
   "cell_type": "code",
   "execution_count": 9,
   "id": "dd305bed-6db1-4460-8db0-a2e14e242212",
   "metadata": {
    "tags": []
   },
   "outputs": [
    {
     "data": {
      "text/plain": [
       "['cat']"
      ]
     },
     "execution_count": 9,
     "metadata": {},
     "output_type": "execute_result"
    }
   ],
   "source": [
    "re.findall(r'\\bcat\\b', text) # Starting and ending with 'cat'"
   ]
  },
  {
   "cell_type": "code",
   "execution_count": null,
   "id": "67bce71e-f539-452c-b794-5452ba026e47",
   "metadata": {
    "tags": []
   },
   "outputs": [],
   "source": []
  },
  {
   "cell_type": "code",
   "execution_count": 13,
   "id": "6d35200d-9cdb-48ba-a295-8385f9006d1c",
   "metadata": {
    "tags": []
   },
   "outputs": [
    {
     "name": "stdout",
     "output_type": "stream",
     "text": [
      "['zi']\n",
      "[]\n"
     ]
    }
   ],
   "source": [
    "text1 = \"This is an amazing classroom, every one speaks ENGLISH zizazo!\"\n",
    "text2 = \"This is a good classroom, every one speaks ENGLISH zizxzd!!\"\n",
    "print(re.findall('\\Bzi', text1)) # Return the pattern if not at the beggining of the word\n",
    "print(re.findall('\\Bzi', text2)) # Return the pattern if not at the beggining of the word"
   ]
  },
  {
   "cell_type": "code",
   "execution_count": 17,
   "id": "b9da83c5-0660-4108-a405-c1acd3c5b2d1",
   "metadata": {
    "tags": []
   },
   "outputs": [
    {
     "data": {
      "text/plain": [
       "['class']"
      ]
     },
     "execution_count": 17,
     "metadata": {},
     "output_type": "execute_result"
    }
   ],
   "source": [
    "text = \"This is an amazing classroom, every one speaks ENGLISH. THis is Highclass!!\"\n",
    "re.findall(r'\\Bclass', text) # The output is from the word highclass"
   ]
  },
  {
   "cell_type": "code",
   "execution_count": 18,
   "id": "bf18260e-f896-4366-912b-8e1c2cc691b8",
   "metadata": {
    "tags": []
   },
   "outputs": [
    {
     "data": {
      "text/plain": [
       "[]"
      ]
     },
     "execution_count": 18,
     "metadata": {},
     "output_type": "execute_result"
    }
   ],
   "source": [
    "text = \"This is an amazing classroom, every one speaks ENGLISH !!\"\n",
    "re.findall(r'\\Bclass', text) # Because class in the above string is always at the begining"
   ]
  },
  {
   "cell_type": "code",
   "execution_count": 19,
   "id": "a528efb2-6672-4ee8-be5f-fb267064a581",
   "metadata": {
    "tags": []
   },
   "outputs": [
    {
     "data": {
      "text/plain": [
       "['class', 'class']"
      ]
     },
     "execution_count": 19,
     "metadata": {},
     "output_type": "execute_result"
    }
   ],
   "source": [
    "text = \"This is an amazing classroom, every one speaks ENGLISH. classy !!\"\n",
    "re.findall(r'class\\B', text) # Below output is from classroom and classy\n",
    "# Because class is not at the end of word"
   ]
  },
  {
   "cell_type": "code",
   "execution_count": 20,
   "id": "8e3dc6da-be12-4d9d-aadb-e1ddc1f948c4",
   "metadata": {
    "tags": []
   },
   "outputs": [
    {
     "data": {
      "text/plain": [
       "['class']"
      ]
     },
     "execution_count": 20,
     "metadata": {},
     "output_type": "execute_result"
    }
   ],
   "source": [
    "text = \"These are amazing 2classrooms, every one speaks ENGLISH!!\"\n",
    "re.findall(r'\\Bclass\\B', text)"
   ]
  },
  {
   "cell_type": "code",
   "execution_count": 27,
   "id": "8181dfc2-80be-4a4b-ba98-82b5e126d2f2",
   "metadata": {
    "tags": []
   },
   "outputs": [
    {
     "data": {
      "text/plain": [
       "['9', '5', '1', '2', '3']"
      ]
     },
     "execution_count": 27,
     "metadata": {},
     "output_type": "execute_result"
    }
   ],
   "source": [
    "# \\d\n",
    "\n",
    "text = \"This is an 9amazing 5classroom, every one speaks ENGLISH 123. classy !!\"\n",
    "re.findall(r'\\d', text) # The digits are returned"
   ]
  },
  {
   "cell_type": "code",
   "execution_count": 28,
   "id": "beb0c378-b2e8-4df2-a6fd-1f574b5bba32",
   "metadata": {
    "tags": []
   },
   "outputs": [
    {
     "data": {
      "text/plain": [
       "['9', '5', '123']"
      ]
     },
     "execution_count": 28,
     "metadata": {},
     "output_type": "execute_result"
    }
   ],
   "source": [
    "# \\d\n",
    "\n",
    "text = \"This is an 9amazing 5classroom, every one speaks ENGLISH 123. classy !!\"\n",
    "re.findall(r'\\d+', text) # The digits are returned"
   ]
  },
  {
   "cell_type": "code",
   "execution_count": 34,
   "id": "12854dd9-4cc7-4d9b-89d0-44301e6c700d",
   "metadata": {
    "tags": []
   },
   "outputs": [
    {
     "name": "stdout",
     "output_type": "stream",
     "text": [
      "['T', 'h', 'i', 's', ' ', 'i', 's', ' ', 'a', 'n', ' ', ' ', 'a', 'm', 'a', 'z', 'i', 'n', 'g', ' ', 'c', 'l', 'a', 's', 's', 'r', 'o', 'o', 'm', ',', ' ', 'e', 'v', 'e', 'r', 'y', ' ', 'o', 'n', 'e', ' ', 's', 'p', 'e', 'a', 'k', 's', ' ', 'E', 'N', 'G', 'L', 'I', 'S', 'H', ' ', '.', ' ', 'c', 'l', 'a', 's', 's', 'y', ' ', '!', '!']\n"
     ]
    }
   ],
   "source": [
    "# \\D\n",
    "text = \"This is an 2 amazing classroom,4 every one speaks ENGLISH 123. classy !!\"\n",
    "print(re.findall(r'\\D', text)) # The non-digits are returned"
   ]
  },
  {
   "cell_type": "code",
   "execution_count": 29,
   "id": "34ec33ef-5ff2-40ad-8881-d63026faa500",
   "metadata": {
    "tags": []
   },
   "outputs": [
    {
     "name": "stdout",
     "output_type": "stream",
     "text": [
      "[' ', ' ', ' ', ' ', ' ', ' ', ' ', ' ', ' ', ' ', ' ']\n",
      "11\n",
      "11\n"
     ]
    }
   ],
   "source": [
    "# \\s\n",
    "\n",
    "text = \"This is an amazing classroom, every one speaks ENGLISH 123. classy !!\"\n",
    "print(re.findall(r'\\s', text)) # Return all the white spaces\n",
    "print(len(re.findall(r'\\s', text))) # Count the white spaces\n",
    "print(len(re.findall(' ', text))) # Count the white spaces"
   ]
  },
  {
   "cell_type": "code",
   "execution_count": 33,
   "id": "d14bdf96-b2aa-4c85-a305-a36b814df114",
   "metadata": {
    "tags": []
   },
   "outputs": [
    {
     "name": "stdout",
     "output_type": "stream",
     "text": [
      "['T', 'h', 'i', 's', 'i', 's', 'a', 'n', 'a', 'm', 'a', 'z', 'i', 'n', 'g', 'c', 'l', 'a', 's', 's', 'r', 'o', 'o', 'm', ',', 'e', 'v', 'e', 'r', 'y', 'o', 'n', 'e', 's', 'p', 'e', 'a', 'k', 's', 'E', 'N', 'G', 'L', 'I', 'S', 'H', '1', '2', '3', '.', 'c', 'l', 'a', 's', 's', 'y', '!', '!']\n",
      "58\n"
     ]
    }
   ],
   "source": [
    "# \\S\n",
    "\n",
    "text = \"This is an amazing classroom, every one speaks ENGLISH 123. classy !!\"\n",
    "print(re.findall(r'\\S', text)) # Return all the letters that are not white space\n",
    "print(len(re.findall(r'\\S', text))) # Count the the letters that are not white space"
   ]
  },
  {
   "cell_type": "code",
   "execution_count": 38,
   "id": "c814614d-95db-4e8d-9288-9036a0560632",
   "metadata": {
    "tags": []
   },
   "outputs": [
    {
     "name": "stdout",
     "output_type": "stream",
     "text": [
      "['T', 'h', 'i', 's', ' ', 'i', 's', ' ', 'a', 'n', ' ', ' ', 'a', 'm', 'a', 'z', 'i', 'n', 'g', ' ', 'c', 'l', 'a', 's', 's', 'r', 'o', 'o', 'm', ',', ' ', 'e', 'v', 'e', 'r', 'y', ' ', 'o', 'n', 'e', ' ', 's', 'p', 'e', 'a', 'k', 's', ' ', 'E', 'N', 'G', 'L', 'I', 'S', 'H', ' ', '.', ' ', 'c', 'l', 'a', 's', 's', 'y', ' ', '!', '!']\n",
      "This is an  amazing classroom, every one speaks ENGLISH . classy !!\n"
     ]
    }
   ],
   "source": [
    "# \\D in loop\n",
    "\n",
    "text = \"This is an 2 amazing classroom,4 every one speaks ENGLISH 123. classy !!\"\n",
    "print(re.findall(r'\\D', text)) # The digits are returned\n",
    "\n",
    "sentence = \"\"\n",
    "for char in re.findall(r'\\D', text):\n",
    "    sentence += char\n",
    "    \n",
    "print(sentence)"
   ]
  },
  {
   "cell_type": "code",
   "execution_count": 66,
   "id": "0533f04f-b1cb-4007-9682-53ff9941c502",
   "metadata": {
    "tags": []
   },
   "outputs": [
    {
     "name": "stdout",
     "output_type": "stream",
     "text": [
      "This is an  amazing classroom, every one speaks ENGLISH . classy !!\n"
     ]
    }
   ],
   "source": [
    "\n",
    "text = \"This is an 2 amazing classroom,4 every one speaks ENGLISH 123. classy !!\"\n",
    "num = ['1', '2', '3', '4', '5', '6', '7', '8', '9', '0']\n",
    "\n",
    "letters = []\n",
    "for x in text:\n",
    "    if x not in num:\n",
    "        letters.append(x)\n",
    "        \n",
    "print(''.join(letters))"
   ]
  },
  {
   "cell_type": "code",
   "execution_count": 65,
   "id": "acaba587-1147-4292-bf50-b0604e9803ee",
   "metadata": {
    "tags": []
   },
   "outputs": [
    {
     "name": "stdout",
     "output_type": "stream",
     "text": [
      "This is an  amazing classroom, every one speaks ENGLISH . classy !!\n"
     ]
    }
   ],
   "source": [
    "text = \"This is an 2 amazing classroom,4 every one speaks ENGLISH 123. classy !!\"\n",
    "num = ['1', '2', '3', '4', '5', '6', '7', '8', '9', '0']\n",
    "\n",
    "letters = []\n",
    "for x in re.finditer(r'\\D', text):\n",
    "    letters.append(x.group())\n",
    "        \n",
    "print(''.join(letters))"
   ]
  },
  {
   "cell_type": "code",
   "execution_count": null,
   "id": "c990593f-ab4b-44b0-9f79-83e91a4bb04a",
   "metadata": {},
   "outputs": [],
   "source": []
  },
  {
   "cell_type": "code",
   "execution_count": 55,
   "id": "efc0bb53-193e-4cc3-868e-0ad8913904cf",
   "metadata": {
    "tags": []
   },
   "outputs": [
    {
     "name": "stdout",
     "output_type": "stream",
     "text": [
      "['T', 'h', 'i', 's', 'i', 's', 'a', 'n', 'a', 'm', 'a', 'z', 'i', 'n', 'g', 'c', 'l', 'a', 's', 's', '_', 'r', 'o', 'o', 'm', 'e', 'v', 'e', 'r', 'y', 'o', 'n', 'e', 's', 'p', 'e', 'a', 'k', 's', 'E', 'N', 'G', 'L', 'I', 'S', 'H', '1', '2', '3', 'c', 'l', 'a', 's', 's', 'y']\n",
      "55\n"
     ]
    }
   ],
   "source": [
    "# \\w\n",
    "\n",
    "text = \"This is an amazing class_room, every one speaks ENGLISH 123. classy !!\"\n",
    "print(re.findall('\\w', text)) # . and , and ! and white spaces are not included\n",
    "print(len(re.findall('\\w', text)))"
   ]
  },
  {
   "cell_type": "code",
   "execution_count": 56,
   "id": "78c228a4-5baf-49d7-b9f1-a34e24f8ffdb",
   "metadata": {
    "tags": []
   },
   "outputs": [
    {
     "name": "stdout",
     "output_type": "stream",
     "text": [
      "[' ', ' ', ' ', ' ', ',', ' ', ' ', ' ', ' ', ' ', '.', ' ', ' ', '!', '!']\n",
      "15\n"
     ]
    }
   ],
   "source": [
    "# \\W\n",
    "\n",
    "text = \"This is an amazing class_room, every one speaks ENGLISH 123. classy !!\"\n",
    "print(re.findall('\\W', text)) # anything a-z lower or upper, digits and _ excluded\n",
    "print(len(re.findall('\\W', text)))"
   ]
  },
  {
   "cell_type": "code",
   "execution_count": null,
   "id": "dd8e6a76-83bd-4551-9073-1f3d4bebaef1",
   "metadata": {},
   "outputs": [],
   "source": []
  },
  {
   "cell_type": "code",
   "execution_count": 57,
   "id": "f2dfc532-efb9-45d1-99e0-e30c7dceafbd",
   "metadata": {
    "tags": []
   },
   "outputs": [
    {
     "name": "stdout",
     "output_type": "stream",
     "text": [
      "['']\n",
      "1\n"
     ]
    }
   ],
   "source": [
    "# \\Z\n",
    "\n",
    "text = \"This is an amazing class_room, every one speaks ENGLISH 123. classy !!\"\n",
    "print(re.findall('\\Z', text)) # return the word (the word classy in this example) if st the end\n",
    "print(len(re.findall('\\Z', text)))"
   ]
  },
  {
   "cell_type": "code",
   "execution_count": 58,
   "id": "326327be-d461-4fcf-a754-d7e2d0dd0137",
   "metadata": {
    "tags": []
   },
   "outputs": [
    {
     "name": "stdout",
     "output_type": "stream",
     "text": [
      "[]\n",
      "0\n"
     ]
    }
   ],
   "source": [
    "# '[m-q][M-Q]'\n",
    "\n",
    "text = \"This is an amazing class_room, every one speaks ENGLISH 123. classy !!\"\n",
    "print(re.findall('[m-q][M-Q]', text))\n",
    "print(len(re.findall('[m-q][M-Q]', text)))"
   ]
  },
  {
   "cell_type": "code",
   "execution_count": 59,
   "id": "35b1bb72-0178-4301-944d-dd607486f6f4",
   "metadata": {
    "tags": []
   },
   "outputs": [
    {
     "name": "stdout",
     "output_type": "stream",
     "text": [
      "[]\n",
      "0\n"
     ]
    }
   ],
   "source": [
    "# '[m-q][M-Q]+'\n",
    "\n",
    "text = \"This is an amazing class_room, every one speaks ENGLISH 123. classy !!\"\n",
    "print(re.findall('[m-q][M-Q]+', text))\n",
    "print(len(re.findall('[m-q][M-Q]+', text)))"
   ]
  },
  {
   "cell_type": "code",
   "execution_count": 60,
   "id": "5180add4-5b0b-4041-8662-f4b0f6fe3631",
   "metadata": {
    "tags": []
   },
   "outputs": [
    {
     "name": "stdout",
     "output_type": "stream",
     "text": [
      "['n', 'm', 'n', 'oom', 'on', 'p']\n",
      "6\n"
     ]
    }
   ],
   "source": [
    "# '[m-q]+'\n",
    "\n",
    "text = \"This is an amazing class_room, every one speaks ENGLISH 123. classy !!\"\n",
    "print(re.findall('[m-q]+', text))\n",
    "print(len(re.findall('[m-q]+', text)))"
   ]
  },
  {
   "cell_type": "code",
   "execution_count": 61,
   "id": "f71b4066-10df-4dec-a81f-409ecf8768a9",
   "metadata": {
    "tags": []
   },
   "outputs": [
    {
     "name": "stdout",
     "output_type": "stream",
     "text": [
      "['N']\n",
      "1\n"
     ]
    }
   ],
   "source": [
    "# '[M-Q]+'\n",
    "\n",
    "text = \"This is an amazing class_room, every one speaks ENGLISH 123. classy !!\"\n",
    "print(re.findall('[M-Q]+', text))\n",
    "print(len(re.findall('[M-Q]+', text)))"
   ]
  },
  {
   "cell_type": "code",
   "execution_count": 62,
   "id": "451c28ae-1ab6-4364-a2cb-09308b015bbd",
   "metadata": {
    "tags": []
   },
   "outputs": [
    {
     "name": "stdout",
     "output_type": "stream",
     "text": [
      "['class', 'class']\n",
      "2\n"
     ]
    }
   ],
   "source": [
    "# . (dot)\n",
    "\n",
    "text = \"This is an amazing class_room, every one speaks ENGLISH 123. classy !!\"\n",
    "print(re.findall('c...s', text))\n",
    "print(len(re.findall('c...s', text)))"
   ]
  },
  {
   "cell_type": "code",
   "execution_count": 63,
   "id": "7204bac2-1854-46cb-b122-fa36a51f93ea",
   "metadata": {
    "tags": []
   },
   "outputs": [
    {
     "name": "stdout",
     "output_type": "stream",
     "text": [
      "['Th']\n",
      "1\n"
     ]
    }
   ],
   "source": [
    "# '^'\n",
    "\n",
    "text = \"This is an amazing class_room, every one speaks ENGLISH 123. classy the c   s!!\"\n",
    "print(re.findall('^Th', text)) # Looks for the string\n",
    "print(len(re.findall('^Th', text)))"
   ]
  },
  {
   "cell_type": "code",
   "execution_count": 67,
   "id": "f1b3c96a-0c6a-4735-87f1-52a15f911fba",
   "metadata": {
    "tags": []
   },
   "outputs": [
    {
     "name": "stdout",
     "output_type": "stream",
     "text": [
      "[]\n",
      "0\n"
     ]
    }
   ],
   "source": [
    "# '^'\n",
    "\n",
    "text = \"Tat is an amazing class_room, every one speaks ENGLISH 123. classy the c   s!!\"\n",
    "print(re.findall('^Th', text)) # Looks for the string\n",
    "print(len(re.findall('^Th', text)))"
   ]
  },
  {
   "cell_type": "code",
   "execution_count": 68,
   "id": "169d5689-2b40-4401-a1f0-76a68c461c8c",
   "metadata": {
    "tags": []
   },
   "outputs": [
    {
     "name": "stdout",
     "output_type": "stream",
     "text": [
      "['T']\n",
      "1\n"
     ]
    }
   ],
   "source": [
    "# '^'\n",
    "\n",
    "text = \"This is an amazing class_room, every one speaks ENGLISH 123. classy the c   s!!\"\n",
    "print(re.findall('^A|^T', text)) # Looks for the string, if the first condition met, that is returned\n",
    "print(len(re.findall('^A|^T', text)))"
   ]
  },
  {
   "cell_type": "code",
   "execution_count": 70,
   "id": "19ab3bf7-97f8-40a4-8693-9a36f6e09d65",
   "metadata": {
    "tags": []
   },
   "outputs": [
    {
     "name": "stdout",
     "output_type": "stream",
     "text": [
      "['This is an amazing class_room, every one speaks ENGLISH 123. classy the c   s!!']\n",
      "1\n"
     ]
    }
   ],
   "source": [
    "# '^'\n",
    "\n",
    "text = \"This is an amazing class_room, every one speaks ENGLISH 123. classy the c   s!!\"\n",
    "print(re.findall('^A.*|^T.*', text)) # Looks for the string, if the first condition met, that is returned\n",
    "print(len(re.findall('^A.*|^T.*', text)))"
   ]
  },
  {
   "cell_type": "code",
   "execution_count": 69,
   "id": "0769a600-a72f-4e75-b10f-25205d581555",
   "metadata": {
    "tags": []
   },
   "outputs": [
    {
     "name": "stdout",
     "output_type": "stream",
     "text": [
      "[]\n",
      "0\n"
     ]
    }
   ],
   "source": [
    "# '[+]'\n",
    "\n",
    "text = \"This is an amazing++ class_room, @every #one *speaks !ENGLISH |123. classy c +/  s!!\"\n",
    "print(re.findall('^[+]', text)) # Looks at the string\n",
    "print(len(re.findall('^[+]', text)))"
   ]
  },
  {
   "cell_type": "code",
   "execution_count": 76,
   "id": "4c9835ba-82e1-460a-96cc-1931e009f7aa",
   "metadata": {
    "tags": []
   },
   "outputs": [
    {
     "name": "stdout",
     "output_type": "stream",
     "text": [
      "1 [('1', '30'), ('12', '30'), ('1', '5'), ('12', '5')]\n",
      "2 [('12', '30')]\n",
      "3 [('1', '30'), ('12', '30')]\n",
      "4 [('12', '30'), ('12', '5')]\n"
     ]
    }
   ],
   "source": [
    "# '?'\n",
    "\n",
    "text = \"\\yes 1:30   no 12:30  maybe 1:5   test me 12:5\"\n",
    "print(1, re.findall(r'(\\d?\\d):(\\d?\\d)', text))\n",
    "print(2, re.findall(r'(\\d\\d):(\\d\\d)', text))\n",
    "print(3, re.findall(r'(\\d?\\d):(\\d\\d)', text))\n",
    "print(4, re.findall(r'(\\d\\d):(\\d?\\d)', text))"
   ]
  },
  {
   "cell_type": "code",
   "execution_count": 103,
   "id": "58f76e43-b69d-4784-bc84-9b1f03f0c10c",
   "metadata": {
    "tags": []
   },
   "outputs": [
    {
     "name": "stdout",
     "output_type": "stream",
     "text": [
      "[('23', '10', '2002'), ('25', '10', '2002'), ('27', '10', '02')]\n",
      "['23/10/2002', '25-10-2002', '27-10-02']\n",
      "[('25', '10', '2002')]\n"
     ]
    }
   ],
   "source": [
    "# Capture date => 23/10/2002\n",
    "\n",
    "text = \"This topic not available on the date 23/10/2002 or 25-10-2002 or 27-10-02\"\n",
    "print(re.findall(r'(\\d?\\d).(\\d?\\d).(\\d?\\d?\\d\\d)', text))\n",
    "print(re.findall(r'\\d{1,2}[/-]\\d{1,2}[/-]\\d{2,4}', text))\n",
    "print(re.findall(r'(\\d?\\d)-(\\d?\\d)-(\\d\\d\\d\\d)', text))"
   ]
  },
  {
   "cell_type": "code",
   "execution_count": 115,
   "id": "92c177dd-3353-4ea2-8216-3f2eb1d0a0ad",
   "metadata": {
    "tags": []
   },
   "outputs": [
    {
     "name": "stdout",
     "output_type": "stream",
     "text": [
      "['Oct']\n",
      "['23 Oct 2002']\n",
      "['23 Oct 2002', '24 October 2022', 'Oct 25, 2002', 'October 26, 2002']\n",
      "['23 Oct 2002', '24 October 2022', 'Oct 25, 2002', 'October 26, 2002']\n",
      "['23 Oct 2002', '24 October 2022', 'Oct 25, 2002', 'October 26, 2002']\n"
     ]
    }
   ],
   "source": [
    "# Capture date =>\n",
    "# 23 Oct 2002\n",
    "# 23 October 20220\n",
    "# Oct 23, 2002\n",
    "# October 23, 2002\n",
    "\n",
    "text = \"This topic not available on the date 23 Oct 2002 or 24 October 2022 or Oct 25, 2002 or October 26, 2002\"\n",
    "print(re.findall(r'\\d{2} (Sept|Oct) \\d{4}', text))\n",
    "print(re.findall(r'\\d{2} (?:Sept|Oct) \\d{4}', text))\n",
    "print(re.findall(r'(?:\\d{2} )?(?:Oct|Nov)[a-z]* (?:\\d{2}, )?\\d{4}', text))\n",
    "print(re.findall(r'\\b(?:\\d{1,2} (?:Sep|Oct|September|October) \\d{4}|\\d{1,2} \\d{4}|(?:Sep|Oct|September|October) \\d{1,2},? \\d{4}|\\d{1,2} (?:Sep|Oct|September|October) \\d{2,4})\\b', text))\n",
    "print(re.findall(r'\\b(?:\\d{1,2} (?:Sep|Oct|September|October) \\d{4}|\\d{1,2} \\d{4}|(?:Sep|Oct|September|October) \\d{1,2},? \\d{4}|\\d{1,2})\\b', text))"
   ]
  },
  {
   "cell_type": "code",
   "execution_count": 73,
   "id": "b6d04471-957f-450f-9d1c-a43b34bfcdc6",
   "metadata": {
    "tags": []
   },
   "outputs": [
    {
     "name": "stdout",
     "output_type": "stream",
     "text": [
      "['12', '89', '34']\n"
     ]
    }
   ],
   "source": [
    "text = \"hello 12 hi 89. Howdy 34\"\n",
    "\n",
    "pattern = '\\d+'\n",
    "result = re.findall(pattern, text)\n",
    "print(result)"
   ]
  },
  {
   "cell_type": "code",
   "execution_count": 74,
   "id": "dfc4b7c3-6c20-47a1-aac5-994ecdb691ee",
   "metadata": {
    "tags": []
   },
   "outputs": [
    {
     "name": "stdout",
     "output_type": "stream",
     "text": [
      "abc12de23f456\n"
     ]
    }
   ],
   "source": [
    "text = 'abc 12 de 23 f45 6'\n",
    "\n",
    "pattern = '\\s+'\n",
    "replace = ''\n",
    "new_text = re.sub(pattern, replace, text)\n",
    "print(new_text)"
   ]
  },
  {
   "cell_type": "code",
   "execution_count": 75,
   "id": "576e3401-13e7-439f-8416-9269302485a4",
   "metadata": {
    "tags": []
   },
   "outputs": [
    {
     "data": {
      "text/plain": [
       "['@UN', '@UN_Women']"
      ]
     },
     "execution_count": 75,
     "metadata": {},
     "output_type": "execute_result"
    }
   ],
   "source": [
    "text = '#UNSG @ NY Society for Ethical Culture bit.ly/2gyVelr @UN @UN_Women '\n",
    "tokens = text.split()\n",
    "[w for w in tokens if re.search('@[a-zA-Z+]', w)]"
   ]
  },
  {
   "cell_type": "code",
   "execution_count": 77,
   "id": "acc826c3-2e9e-463a-9b90-ce95488135f2",
   "metadata": {
    "tags": []
   },
   "outputs": [
    {
     "data": {
      "text/plain": [
       "[('2', '45')]"
      ]
     },
     "execution_count": 77,
     "metadata": {},
     "output_type": "execute_result"
    }
   ],
   "source": [
    "time_sentences = \"Monday: The dotor's appointment is at 2:45pm. Tuesday: The dentist's appointment is at 11.30 am\"\n",
    "re.findall(r'(\\d?\\d):(\\d\\d)', time_sentences)"
   ]
  },
  {
   "cell_type": "code",
   "execution_count": null,
   "id": "896db909-221e-468f-b8f6-1269d085cfed",
   "metadata": {},
   "outputs": [],
   "source": []
  }
 ],
 "metadata": {
  "kernelspec": {
   "display_name": "Python 3 (ipykernel)",
   "language": "python",
   "name": "python3"
  },
  "language_info": {
   "codemirror_mode": {
    "name": "ipython",
    "version": 3
   },
   "file_extension": ".py",
   "mimetype": "text/x-python",
   "name": "python",
   "nbconvert_exporter": "python",
   "pygments_lexer": "ipython3",
   "version": "3.11.4"
  }
 },
 "nbformat": 4,
 "nbformat_minor": 5
}
