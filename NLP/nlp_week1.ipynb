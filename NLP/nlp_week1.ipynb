{
 "cells": [
  {
   "cell_type": "markdown",
   "id": "c204c26b-089f-43d5-8244-bb029560a64a",
   "metadata": {},
   "source": [
    "# <center> NLP | Week 1 | Rajat Kumar | C0912858"
   ]
  },
  {
   "cell_type": "code",
   "execution_count": 1,
   "id": "b23fad0a-105d-4475-b566-902f7241a015",
   "metadata": {
    "tags": []
   },
   "outputs": [
    {
     "name": "stdout",
     "output_type": "stream",
     "text": [
      "Hi::my:name is Rajat Kumar: I'm: a student, at Lambton College:\n"
     ]
    }
   ],
   "source": [
    "# Write a Python program to replace maximum 2 occurrences of space, comma, or dot with a colon\n",
    "\n",
    "def replace_max_2(sample_str):\n",
    "    space_count = 0\n",
    "    comma_count = 0\n",
    "    dot_count = 0\n",
    "    \n",
    "    new_str = ''\n",
    "    for char in sample_str:\n",
    "        if char == ' ' and space_count < 2:\n",
    "            new_str += ':'\n",
    "            space_count += 1\n",
    "        elif char == ',' and comma_count < 2:\n",
    "            new_str += ':'\n",
    "            comma_count += 1\n",
    "        elif char == '.' and dot_count < 2:\n",
    "            new_str += ':'\n",
    "            dot_count += 1\n",
    "        else:\n",
    "            new_str += char\n",
    "    \n",
    "    print(new_str)\n",
    "    \n",
    "replace_max_2(\"Hi, my name is Rajat Kumar. I'm, a student, at Lambton College.\")"
   ]
  },
  {
   "cell_type": "code",
   "execution_count": 2,
   "id": "01fa6a09-566e-4760-ab51-77fa0a278a52",
   "metadata": {
    "tags": []
   },
   "outputs": [
    {
     "name": "stdout",
     "output_type": "stream",
     "text": [
      "Rajat is a 5-character word in the string\n",
      "Kumar is a 5-character word in the string\n"
     ]
    }
   ],
   "source": [
    "# Write a Python program to find all five-character words in a string\n",
    "\n",
    "def five_char_word(sample_str):\n",
    "    sample_str += ' '\n",
    "    word_count = 0\n",
    "    word = ''\n",
    "    for char in sample_str:\n",
    "        if char == ' ':\n",
    "            if word_count == 5:\n",
    "                print(f'{word} is a 5-character word in the string')\n",
    "            word_count = 0\n",
    "            word = ''\n",
    "        else:\n",
    "            word_count += 1\n",
    "            word += char\n",
    "            \n",
    "five_char_word(\"Hi My name is Rajat Kumar\")"
   ]
  },
  {
   "cell_type": "code",
   "execution_count": 3,
   "id": "eb6807d3-4ab2-4352-8d06-5ee8c8a713c3",
   "metadata": {
    "tags": []
   },
   "outputs": [
    {
     "name": "stdout",
     "output_type": "stream",
     "text": [
      "name is a 4-character word in the string\n",
      "Rajat is a 5-character word in the string\n",
      "Kumar is a 5-character word in the string\n",
      "and is a 3-character word in the string\n"
     ]
    }
   ],
   "source": [
    "# Write a Python program to find all three, four, and five character words in a string\n",
    "\n",
    "def char_word_3_4_5(sample_str):\n",
    "    sample_str += ' '\n",
    "    word_count = 0\n",
    "    word = ''\n",
    "    for char in sample_str:\n",
    "        if char == ' ':\n",
    "            if word_count == 5:\n",
    "                print(f'{word} is a 5-character word in the string')\n",
    "            elif word_count == 4:\n",
    "                print(f'{word} is a 4-character word in the string')\n",
    "            elif word_count == 3:\n",
    "                print(f'{word} is a 3-character word in the string')\n",
    "            word_count = 0\n",
    "            word = ''\n",
    "        else:\n",
    "            word_count += 1\n",
    "            word += char\n",
    "            \n",
    "char_word_3_4_5(\"Hi My name is Rajat Kumar and I am a Student at Lambton College\")"
   ]
  },
  {
   "cell_type": "code",
   "execution_count": 4,
   "id": "ba1ab237-83d8-407d-93cd-3b2d9ed5094c",
   "metadata": {
    "tags": []
   },
   "outputs": [
    {
     "name": "stdout",
     "output_type": "stream",
     "text": [
      "name is at least 4-character word in the string\n",
      "Rajat is at least 4-character word in the string\n",
      "Kumar is at least 4-character word in the string\n",
      "Student is at least 4-character word in the string\n",
      "Lambton is at least 4-character word in the string\n",
      "College is at least 4-character word in the string\n"
     ]
    }
   ],
   "source": [
    "# Write a Python program to find all words that are at least 4 characters long in a string\n",
    "\n",
    "def least_four_char(sample_str):\n",
    "    sample_str += ' '\n",
    "    word_count = 0\n",
    "    word = ''\n",
    "    for char in sample_str:\n",
    "        if char == ' ':\n",
    "            if word_count >= 4:\n",
    "                print(f'{word} is at least 4-character word in the string')\n",
    "            word_count = 0\n",
    "            word = ''\n",
    "        else:\n",
    "            word_count += 1\n",
    "            word += char\n",
    "            \n",
    "least_four_char(\"Hi My name is Rajat Kumar and I am a Student at Lambton College\")"
   ]
  },
  {
   "cell_type": "code",
   "execution_count": 5,
   "id": "fbc10301-a8b1-4df0-b2c6-d161fe0a2d34",
   "metadata": {
    "tags": []
   },
   "outputs": [
    {
     "name": "stdout",
     "output_type": "stream",
     "text": [
      "camel_to_snake_function\n"
     ]
    }
   ],
   "source": [
    "# Write a Python program to convert a camel-case string to a snake-case string\n",
    "\n",
    "def camel_to_snake(camel_str):\n",
    "    snake_str = ''\n",
    "    for char in camel_str:\n",
    "        if char.isupper():\n",
    "            snake_str += '_' + char.lower()\n",
    "        else:\n",
    "            snake_str += char\n",
    "        \n",
    "    print(snake_str)\n",
    "            \n",
    "camel_to_snake(\"camelToSnakeFunction\")"
   ]
  },
  {
   "cell_type": "code",
   "execution_count": 6,
   "id": "e20b9111-9c09-425e-a094-7eba9f7bda53",
   "metadata": {
    "tags": []
   },
   "outputs": [
    {
     "name": "stdout",
     "output_type": "stream",
     "text": [
      "camelToSnakeFunction\n"
     ]
    }
   ],
   "source": [
    "# Write a python program to convert snake-case string to camel-case string\n",
    "\n",
    "def snake_to_camel(snake_str):\n",
    "    camel_str = ''\n",
    "    flag_ = 0\n",
    "    for char in snake_str:\n",
    "        if char == '_':\n",
    "            flag_ = 1\n",
    "        elif flag_ == 1:\n",
    "            camel_str += char.upper()\n",
    "            flag_ = 0\n",
    "        else:\n",
    "            camel_str += char\n",
    "        \n",
    "    print(camel_str)\n",
    "            \n",
    "snake_to_camel(\"camel_to_snake_function\")"
   ]
  },
  {
   "cell_type": "code",
   "execution_count": 7,
   "id": "9bad3a3f-7398-45f6-a347-ee1f7d624e83",
   "metadata": {
    "tags": []
   },
   "outputs": [
    {
     "name": "stdout",
     "output_type": "stream",
     "text": [
      "You are under CCTV surveillance\n"
     ]
    }
   ],
   "source": [
    "# Write a Python program to extract values between quotation marks of a string\n",
    "\n",
    "def extract_quotation(sample_str):\n",
    "    quoted_str = ''\n",
    "    flag_quote = 0\n",
    "    for char in sample_str:\n",
    "        if flag_quote == 1:\n",
    "            if char == '\"':\n",
    "                flag_quote = 0\n",
    "            else:\n",
    "                quoted_str += char\n",
    "        else:\n",
    "            if char == '\"':\n",
    "                flag_quote = 1\n",
    "    print(quoted_str)\n",
    "    \n",
    "extract_quotation('The board cleary said taht \"You are under CCTV surveillance\" because there was security required')"
   ]
  },
  {
   "cell_type": "code",
   "execution_count": 8,
   "id": "c052a787-dd3c-4c2c-a610-638a44fb613d",
   "metadata": {
    "tags": []
   },
   "outputs": [
    {
     "name": "stdout",
     "output_type": "stream",
     "text": [
      "Hi my Name is Rajat Kumar \n"
     ]
    }
   ],
   "source": [
    "# Write a Python program to remove multiple spaces from a string\n",
    "\n",
    "def remove_extra_spaces(sample_str):\n",
    "    new_str = ''\n",
    "    space_flag = 0\n",
    "    for char in sample_str:\n",
    "        if space_flag == 1:\n",
    "            if char != ' ':\n",
    "                new_str += char\n",
    "                space_flag = 0\n",
    "        elif char == ' ':\n",
    "            new_str += char\n",
    "            space_flag = 1\n",
    "        else:\n",
    "            new_str += char\n",
    "    print(new_str)\n",
    "    \n",
    "remove_extra_spaces(\"Hi   my         Name is               Rajat                 Kumar       \")"
   ]
  },
  {
   "cell_type": "code",
   "execution_count": 9,
   "id": "e7485097-9a26-43bb-943f-d4f711376edf",
   "metadata": {
    "tags": []
   },
   "outputs": [
    {
     "name": "stdout",
     "output_type": "stream",
     "text": [
      "HimyNameisRajatKumar\n"
     ]
    }
   ],
   "source": [
    "# Write a Python program to remove all whitespaces from a string\n",
    "\n",
    "def remove_spaces(sample_str):\n",
    "    new_str = ''\n",
    "    for char in sample_str:\n",
    "        if char != ' ':\n",
    "            new_str += char\n",
    "    print(new_str)\n",
    "    \n",
    "remove_spaces(\"Hi   my         Name is               Rajat                 Kumar       \")"
   ]
  },
  {
   "cell_type": "code",
   "execution_count": 10,
   "id": "055f586f-7cbe-40b8-8d41-ca1cf4d93498",
   "metadata": {
    "tags": []
   },
   "outputs": [
    {
     "name": "stdout",
     "output_type": "stream",
     "text": [
      "HiYourtotlbillis376forThnkyouforvisitingthisstore\n"
     ]
    }
   ],
   "source": [
    "# Write a Python program to remove everything except alphanumeric characters from a string\n",
    "\n",
    "def alpha_numeric(sample_str):\n",
    "    new_str = ''\n",
    "    for char in sample_str:\n",
    "        if (ord(char) > ord('a') and ord(char) < ord('z')) or (ord(char) > ord('A') and ord(char) < ord('Z')) or (ord(char) > ord('0') and ord(char) < ord('9')):\n",
    "            new_str += char\n",
    "    print(new_str)\n",
    "    \n",
    "alpha_numeric(\"Hi, Your total bill is $376 for ##!@#$%^&_*. Thank you for visiting this store\")"
   ]
  },
  {
   "cell_type": "code",
   "execution_count": 11,
   "id": "b3de1925-cb2d-499c-824d-cfde048f3008",
   "metadata": {
    "tags": []
   },
   "outputs": [
    {
     "name": "stdout",
     "output_type": "stream",
     "text": [
      "http://www.google.com\n",
      "www.bing.com\n"
     ]
    }
   ],
   "source": [
    "# Write a Python program to find URLs in a string\n",
    "\n",
    "def find_url(sample_str):\n",
    "    new_str = ''\n",
    "    for pos, char in enumerate(sample_str):\n",
    "        words = sample_str.split(' ')\n",
    "    for word in words:\n",
    "        if any(substring in word for substring in ['http', '://', '.com', 'www.']):\n",
    "            print(word)\n",
    "    \n",
    "find_url(\"Click on the url: http://www.google.com or try searching on the alternate link: www.bing.com\")"
   ]
  },
  {
   "cell_type": "code",
   "execution_count": 12,
   "id": "7cc5cf00-e909-44b9-a428-77f59b4cb464",
   "metadata": {
    "tags": []
   },
   "outputs": [
    {
     "name": "stdout",
     "output_type": "stream",
     "text": [
      "RRMR\n"
     ]
    }
   ],
   "source": [
    "# Write a Python program to split a string into uppercase letters\n",
    "\n",
    "def abbreviate(sample_str):\n",
    "    new_str = ''\n",
    "    for char in sample_str:\n",
    "        if char.isupper():\n",
    "            new_str += char\n",
    "    print(new_str)\n",
    "    \n",
    "abbreviate(\"Raja Ram Mohan Roy\")"
   ]
  },
  {
   "cell_type": "code",
   "execution_count": 13,
   "id": "277018fd-445c-45de-bdad-81ff9ea5cf1a",
   "metadata": {
    "tags": []
   },
   "outputs": [
    {
     "name": "stdout",
     "output_type": "stream",
     "text": [
      "ontario is the capital of canada\n"
     ]
    }
   ],
   "source": [
    "# Write a Python program to do case-insensitive string replacement\n",
    "\n",
    "def replace_no_case(sample_str, word, replace):\n",
    "    new_str = sample_str.lower().replace(word.lower(), replace.lower())\n",
    "    print(new_str)\n",
    "    \n",
    "replace_no_case(\"Toronto is the capital of Canada\", \"toROnTo\", \"OnTaRIo\")"
   ]
  },
  {
   "cell_type": "code",
   "execution_count": 14,
   "id": "afd1713d-8f7b-4b22-9fcc-d38339805e7a",
   "metadata": {
    "tags": []
   },
   "outputs": [
    {
     "name": "stdout",
     "output_type": "stream",
     "text": [
      "hi My Name Is Rajat Kumar\n"
     ]
    }
   ],
   "source": [
    "# Write a Python program to insert spaces between words starting with capital letters\n",
    "\n",
    "def add_spaces(sample_str):\n",
    "    new_str = ''\n",
    "    for char in sample_str:\n",
    "        if char.isupper():\n",
    "            new_str += ' ' + char\n",
    "        else:\n",
    "            new_str += char\n",
    "    print(new_str)\n",
    "    \n",
    "add_spaces(\"hiMyNameIsRajatKumar\")"
   ]
  },
  {
   "cell_type": "code",
   "execution_count": null,
   "id": "7d22e066-4c66-452d-90a7-7cda06dfaa57",
   "metadata": {},
   "outputs": [],
   "source": []
  }
 ],
 "metadata": {
  "kernelspec": {
   "display_name": "Python 3 (ipykernel)",
   "language": "python",
   "name": "python3"
  },
  "language_info": {
   "codemirror_mode": {
    "name": "ipython",
    "version": 3
   },
   "file_extension": ".py",
   "mimetype": "text/x-python",
   "name": "python",
   "nbconvert_exporter": "python",
   "pygments_lexer": "ipython3",
   "version": "3.11.4"
  }
 },
 "nbformat": 4,
 "nbformat_minor": 5
}
