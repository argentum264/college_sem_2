{
 "cells": [
  {
   "cell_type": "code",
   "execution_count": 4,
   "id": "60e15896-dfb8-4365-88b6-41b84f9f1a46",
   "metadata": {
    "tags": []
   },
   "outputs": [],
   "source": [
    "import re"
   ]
  },
  {
   "cell_type": "code",
   "execution_count": 5,
   "id": "95827e26-647f-4222-8f29-1199ecad6f6d",
   "metadata": {
    "tags": []
   },
   "outputs": [],
   "source": [
    "# Write a regular expression to valiate a password with the following criteria:\n",
    "\n",
    "# At least 8 characters long\n",
    "# Contains at least one uppercase letter\n",
    "# Contains at least one lowercase letter\n",
    "# Contains at least one digit\n",
    "# Contains at least one special character (!@#$%^&*)"
   ]
  },
  {
   "cell_type": "code",
   "execution_count": 54,
   "id": "d58e3b4a-cbeb-4682-98b0-cb0be450dd1d",
   "metadata": {
    "tags": []
   },
   "outputs": [
    {
     "name": "stdout",
     "output_type": "stream",
     "text": [
      "The Password is valid.\n"
     ]
    }
   ],
   "source": [
    "def validate(password):\n",
    "    pattern = re.compile(r'^(?=.*[A-Z])')#(?=.*[a-z])(?=.*[0-9])(?=.*[!@#$%^&*]).{8,}$')\n",
    "\n",
    "    if pattern.match(password) is None:\n",
    "        print(\"Password does not contain an Uppercase character.\")\n",
    "    \n",
    "    pattern = re.compile(r'^(?=.*[a-z])')#(?=.*[0-9])(?=.*[!@#$%^&*]).{8,}$')\n",
    "\n",
    "    if pattern.match(password) is None:\n",
    "        print(\"Password does not contain a Lowercase character.\")\n",
    "    \n",
    "    pattern = re.compile(r'^(?=.*[0-9])')#(?=.*[!@#$%^&*]).{8,}$')\n",
    "\n",
    "    if pattern.match(password) is None:\n",
    "        print(\"Password does not contain a numeric digit.\")\n",
    "    \n",
    "    pattern = re.compile(r'^(?=.*[!@#$%^&*])')#.{8,}$')\n",
    "\n",
    "    if pattern.match(password) is None:\n",
    "        print(\"Password does not contain a special character.\")\n",
    "    \n",
    "    pattern = re.compile(r'^.{8,}$')\n",
    "\n",
    "    if pattern.match(password) is None:\n",
    "        print(\"Password is not at least 8 characters long.\")\n",
    "        \n",
    "    pattern = re.compile(r'^(?=.*[A-Z])(?=.*[a-z])(?=.*\\d)(?=.*[!@#$%^&*]).{8,}$')\n",
    "    \n",
    "    if pattern.match(password):\n",
    "        print(\"The Password is valid.\")\n",
    "    \n",
    "password = \"pasSword#123\"\n",
    "validate(password)"
   ]
  },
  {
   "cell_type": "code",
   "execution_count": 56,
   "id": "192341b4-0779-4392-926a-db0b68e50d25",
   "metadata": {
    "tags": []
   },
   "outputs": [],
   "source": [
    "import numpy as np\n",
    "from sklearn.feature_extraction.text import CountVectorizer\n",
    "\n",
    "text_data = np.array(['I love Brazil. Brazil',\n",
    "                      'Sweden is best',\n",
    "                      'Germany beats both'])"
   ]
  },
  {
   "cell_type": "code",
   "execution_count": 60,
   "id": "01ee552d-9c2a-43f2-8628-e644c9e029c5",
   "metadata": {
    "tags": []
   },
   "outputs": [],
   "source": [
    "count = CountVectorizer()\n",
    "bag_of_words = count.fit_transform(text_data)"
   ]
  },
  {
   "cell_type": "code",
   "execution_count": 64,
   "id": "f1002e54-64f8-442f-83fd-4dc3cff855ca",
   "metadata": {
    "tags": []
   },
   "outputs": [
    {
     "data": {
      "text/plain": [
       "<3x8 sparse matrix of type '<class 'numpy.int64'>'\n",
       "\twith 8 stored elements in Compressed Sparse Row format>"
      ]
     },
     "execution_count": 64,
     "metadata": {},
     "output_type": "execute_result"
    }
   ],
   "source": [
    "bag_of_words"
   ]
  },
  {
   "cell_type": "code",
   "execution_count": 61,
   "id": "55a16173-e797-4f9a-b86e-bacfb3f4eaa6",
   "metadata": {
    "tags": []
   },
   "outputs": [
    {
     "data": {
      "text/plain": [
       "array([[0, 0, 0, 2, 0, 0, 1, 0],\n",
       "       [0, 1, 0, 0, 0, 1, 0, 1],\n",
       "       [1, 0, 1, 0, 1, 0, 0, 0]], dtype=int64)"
      ]
     },
     "execution_count": 61,
     "metadata": {},
     "output_type": "execute_result"
    }
   ],
   "source": [
    "bag_of_words.toarray()"
   ]
  },
  {
   "cell_type": "code",
   "execution_count": null,
   "id": "ccf683b4-6cbe-49db-a573-878ac8b3afcd",
   "metadata": {},
   "outputs": [],
   "source": []
  },
  {
   "cell_type": "code",
   "execution_count": 65,
   "id": "7e3ad69f-5a5e-4020-b1fe-9a81d2377172",
   "metadata": {
    "tags": []
   },
   "outputs": [],
   "source": [
    "from sklearn.feature_extraction.text import TfidfVectorizer\n",
    "\n",
    "text_data = np.array(['I love Brazil. Brazil',\n",
    "                      'Sweden is best',\n",
    "                      'Germany beats both'])"
   ]
  },
  {
   "cell_type": "code",
   "execution_count": 66,
   "id": "617ec1a9-3ac8-4525-bd08-904629ec4b74",
   "metadata": {
    "tags": []
   },
   "outputs": [],
   "source": [
    "tfidf = TfidfVectorizer()\n",
    "feature_matrix = tfidf.fit_transform(text_data)"
   ]
  },
  {
   "cell_type": "code",
   "execution_count": 67,
   "id": "8b016bb2-ef72-4101-a1c5-70e9c472dfae",
   "metadata": {
    "tags": []
   },
   "outputs": [
    {
     "data": {
      "text/plain": [
       "<3x8 sparse matrix of type '<class 'numpy.float64'>'\n",
       "\twith 8 stored elements in Compressed Sparse Row format>"
      ]
     },
     "execution_count": 67,
     "metadata": {},
     "output_type": "execute_result"
    }
   ],
   "source": [
    "feature_matrix"
   ]
  },
  {
   "cell_type": "code",
   "execution_count": 68,
   "id": "bc1dd29f-ab77-4f6a-8159-7782fb71f917",
   "metadata": {
    "tags": []
   },
   "outputs": [
    {
     "data": {
      "text/plain": [
       "array([[0.        , 0.        , 0.        , 0.89442719, 0.        ,\n",
       "        0.        , 0.4472136 , 0.        ],\n",
       "       [0.        , 0.57735027, 0.        , 0.        , 0.        ,\n",
       "        0.57735027, 0.        , 0.57735027],\n",
       "       [0.57735027, 0.        , 0.57735027, 0.        , 0.57735027,\n",
       "        0.        , 0.        , 0.        ]])"
      ]
     },
     "execution_count": 68,
     "metadata": {},
     "output_type": "execute_result"
    }
   ],
   "source": [
    "feature_matrix.toarray()"
   ]
  },
  {
   "cell_type": "code",
   "execution_count": 69,
   "id": "7fbc9067-45f9-43bd-b719-9e08be5ba29a",
   "metadata": {
    "tags": []
   },
   "outputs": [
    {
     "data": {
      "text/plain": [
       "{'love': 6,\n",
       " 'brazil': 3,\n",
       " 'sweden': 7,\n",
       " 'is': 5,\n",
       " 'best': 1,\n",
       " 'germany': 4,\n",
       " 'beats': 0,\n",
       " 'both': 2}"
      ]
     },
     "execution_count": 69,
     "metadata": {},
     "output_type": "execute_result"
    }
   ],
   "source": [
    "tfidf.vocabulary_"
   ]
  },
  {
   "cell_type": "code",
   "execution_count": 70,
   "id": "addc0e96-8634-4a3a-8348-9b5e9ae68309",
   "metadata": {
    "tags": []
   },
   "outputs": [],
   "source": [
    "# Bag of Wrods faster than tfidf as it just counts the frequency and creates a vector without any calculation\n",
    "# tfidf needs calculation"
   ]
  },
  {
   "cell_type": "code",
   "execution_count": null,
   "id": "2851de0b-3556-43b5-aa31-edfd67e944b8",
   "metadata": {},
   "outputs": [],
   "source": []
  },
  {
   "cell_type": "code",
   "execution_count": 72,
   "id": "f6a50593-baf5-45e5-87aa-5f0f5e33aa54",
   "metadata": {
    "tags": []
   },
   "outputs": [
    {
     "name": "stdout",
     "output_type": "stream",
     "text": [
      "Vocabulary:\n",
      "{'love': 6, 'brazil': 3, 'sweden': 7, 'is': 5, 'best': 1, 'germany': 4, 'beats': 0, 'both': 2}\n",
      "Feature Matrix:  (0, 3)\t0.8944271909999159\n",
      "  (0, 6)\t0.4472135954999579\n",
      "  (1, 1)\t0.5773502691896257\n",
      "  (1, 5)\t0.5773502691896257\n",
      "  (1, 7)\t0.5773502691896257\n",
      "  (2, 2)\t0.5773502691896257\n",
      "  (2, 0)\t0.5773502691896257\n",
      "  (2, 4)\t0.5773502691896257\n"
     ]
    }
   ],
   "source": [
    "# Function to calculate tfidf:\n",
    "from sklearn.feature_extraction.text import TfidfVectorizer\n",
    "\n",
    "\n",
    "def tfidf(document_list):\n",
    "    \n",
    "    tfidf = TfidfVectorizer()\n",
    "    feature_matrix = tfidf.fit_transform(text_data)\n",
    "    vocabulary = tfidf.vocabulary_\n",
    "    \n",
    "    return vocabulary, feature_matrix\n",
    "    \n",
    "text_data = np.array(['I love Brazil. Brazil',\n",
    "                      'Sweden is best',\n",
    "                      'Germany beats both'])\n",
    "vocabulary, feature_matrix = tfidf(text_data)\n",
    "\n",
    "print(f'Vocabulary:\\n{vocabulary}\\nFeature Matrix:{feature_matrix}')"
   ]
  },
  {
   "cell_type": "code",
   "execution_count": null,
   "id": "a316d2c7-5527-44bc-94cf-671b3700ef14",
   "metadata": {},
   "outputs": [],
   "source": []
  }
 ],
 "metadata": {
  "kernelspec": {
   "display_name": "Python 3 (ipykernel)",
   "language": "python",
   "name": "python3"
  },
  "language_info": {
   "codemirror_mode": {
    "name": "ipython",
    "version": 3
   },
   "file_extension": ".py",
   "mimetype": "text/x-python",
   "name": "python",
   "nbconvert_exporter": "python",
   "pygments_lexer": "ipython3",
   "version": "3.11.4"
  }
 },
 "nbformat": 4,
 "nbformat_minor": 5
}
