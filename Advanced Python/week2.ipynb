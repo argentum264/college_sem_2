{
 "cells": [
  {
   "cell_type": "markdown",
   "id": "2dddb6e1-3fcb-4321-a8d0-a973cc91f142",
   "metadata": {},
   "source": [
    "# <center> Week 2 | Rajat Kumar | C0912858"
   ]
  },
  {
   "cell_type": "markdown",
   "id": "16d7a3e7-f605-4479-9468-0997095c4240",
   "metadata": {},
   "source": [
    "## A"
   ]
  },
  {
   "cell_type": "code",
   "execution_count": 1,
   "id": "af9c8391-1fbd-4aa0-b2c6-e5c871e3f33a",
   "metadata": {
    "tags": []
   },
   "outputs": [
    {
     "name": "stdin",
     "output_type": "stream",
     "text": [
      "Enter a number to check if it is a perfect square:  81\n"
     ]
    },
    {
     "name": "stdout",
     "output_type": "stream",
     "text": [
      "81 is a perfect square\n"
     ]
    }
   ],
   "source": [
    "# Write a Python program to check if a number is a perfect square\n",
    "\n",
    "class check:\n",
    "    def __init__(self):\n",
    "        pass\n",
    "    \n",
    "    def perfect_square(self, num):\n",
    "        result = False\n",
    "        if num <= 36:\n",
    "            for i in range(num):\n",
    "                if i * i == num:\n",
    "                    result = True\n",
    "        else:\n",
    "            for i in range(int(num/6)):\n",
    "                if i * i == num:\n",
    "                    result = True\n",
    "                    \n",
    "        return result\n",
    "    \n",
    "def main():\n",
    "    obj = check()\n",
    "    num = int(input(\"Enter a number to check if it is a perfect square: \"))\n",
    "    result = obj.perfect_square(num)\n",
    "    if result == True:\n",
    "        print(f'{num} is a perfect square')\n",
    "    else:\n",
    "        print(f'{num} is not a perfect square')\n",
    "\n",
    "if __name__ == \"__main__\":\n",
    "    main()"
   ]
  },
  {
   "cell_type": "markdown",
   "id": "835a9c81-5593-404b-8d8e-c7b501d7cabe",
   "metadata": {},
   "source": [
    "# B"
   ]
  },
  {
   "cell_type": "code",
   "execution_count": 2,
   "id": "00396bcb-a726-475f-a627-e6db91a099a8",
   "metadata": {
    "tags": []
   },
   "outputs": [
    {
     "name": "stdout",
     "output_type": "stream",
     "text": [
      "The missing number in the list is 5\n"
     ]
    }
   ],
   "source": [
    "# Write a Python program to find a missing number from a list\n",
    "\n",
    "class find:\n",
    "    def __init__(self, l1):\n",
    "        self.lis = l1\n",
    "    \n",
    "    def missing(self):\n",
    "        lis_len = len(self.lis)\n",
    "        for i in range(lis_len-1):\n",
    "            if self.lis[i+1] != self.lis[i] + 1:\n",
    "                return self.lis[i] + 1\n",
    "        return -99\n",
    "            \n",
    "def main():\n",
    "    l1 = [1,2,3,4,6,7,8,9]\n",
    "    find_obj = find(l1)\n",
    "    result = find_obj.missing()\n",
    "    if result == -99:\n",
    "        print(\"There is no missing number\")\n",
    "    else:\n",
    "        print(f'The missing number in the list is {result}')\n",
    "        \n",
    "if __name__ == \"__main__\":\n",
    "    main()"
   ]
  },
  {
   "cell_type": "code",
   "execution_count": 3,
   "id": "5dec921f-1d7e-4803-b616-58db3946efac",
   "metadata": {
    "tags": []
   },
   "outputs": [
    {
     "name": "stdout",
     "output_type": "stream",
     "text": [
      "The number occuring just once in the list is 5\n"
     ]
    }
   ],
   "source": [
    "# Write a Python program to find the single number in a list that doesn't occur twice\n",
    "\n",
    "class look:\n",
    "    def __init__(self, l1):\n",
    "        self.lis = l1\n",
    "    \n",
    "    def not2(self):\n",
    "        count = {}\n",
    "        for i in self.lis:\n",
    "            count[i] = 0\n",
    "        for i in self.lis:\n",
    "            count[i] += 1\n",
    "        for i in count:\n",
    "            if count[i] == 1:\n",
    "                return i\n",
    "\n",
    "def main():\n",
    "    l1 = [5, 3, 4, 3, 4]\n",
    "    look_obj = look(l1)\n",
    "    result = look_obj.not2()\n",
    "    print(f'The number occuring just once in the list is {result}')\n",
    "    \n",
    "if __name__ == \"__main__\":\n",
    "    main()"
   ]
  },
  {
   "cell_type": "code",
   "execution_count": null,
   "id": "a755dd68-e1f8-4504-b7aa-f5041451dc00",
   "metadata": {},
   "outputs": [],
   "source": []
  }
 ],
 "metadata": {
  "kernelspec": {
   "display_name": "Python 3 (ipykernel)",
   "language": "python",
   "name": "python3"
  },
  "language_info": {
   "codemirror_mode": {
    "name": "ipython",
    "version": 3
   },
   "file_extension": ".py",
   "mimetype": "text/x-python",
   "name": "python",
   "nbconvert_exporter": "python",
   "pygments_lexer": "ipython3",
   "version": "3.11.4"
  }
 },
 "nbformat": 4,
 "nbformat_minor": 5
}
