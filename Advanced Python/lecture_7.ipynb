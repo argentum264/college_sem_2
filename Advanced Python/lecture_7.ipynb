{
 "cells": [
  {
   "cell_type": "code",
   "execution_count": null,
   "id": "8a6b62d6-8d33-4c77-834d-9dc1a89af0c7",
   "metadata": {},
   "outputs": [],
   "source": []
  },
  {
   "cell_type": "markdown",
   "id": "7d0beb44-e856-4e15-b1c4-acb80655d5ef",
   "metadata": {},
   "source": [
    "# Outliers"
   ]
  },
  {
   "cell_type": "code",
   "execution_count": 1,
   "id": "65c1e02a-abbd-485e-819b-7043c996be0d",
   "metadata": {
    "tags": []
   },
   "outputs": [],
   "source": [
    "import pandas as pd"
   ]
  },
  {
   "cell_type": "code",
   "execution_count": 2,
   "id": "b358e6ef-3c2b-4acd-8e77-27f2bc583a4e",
   "metadata": {
    "tags": []
   },
   "outputs": [],
   "source": [
    "df = pd.read_csv('Practice_File.csv', usecols = ['LotArea', 'SalePrice'])"
   ]
  },
  {
   "cell_type": "code",
   "execution_count": 3,
   "id": "d17e58ca-e8dc-4836-be73-1794119d523f",
   "metadata": {
    "tags": []
   },
   "outputs": [
    {
     "data": {
      "text/html": [
       "<div>\n",
       "<style scoped>\n",
       "    .dataframe tbody tr th:only-of-type {\n",
       "        vertical-align: middle;\n",
       "    }\n",
       "\n",
       "    .dataframe tbody tr th {\n",
       "        vertical-align: top;\n",
       "    }\n",
       "\n",
       "    .dataframe thead th {\n",
       "        text-align: right;\n",
       "    }\n",
       "</style>\n",
       "<table border=\"1\" class=\"dataframe\">\n",
       "  <thead>\n",
       "    <tr style=\"text-align: right;\">\n",
       "      <th></th>\n",
       "      <th>LotArea</th>\n",
       "      <th>SalePrice</th>\n",
       "    </tr>\n",
       "  </thead>\n",
       "  <tbody>\n",
       "    <tr>\n",
       "      <th>count</th>\n",
       "      <td>1460.000000</td>\n",
       "      <td>1460.000000</td>\n",
       "    </tr>\n",
       "    <tr>\n",
       "      <th>mean</th>\n",
       "      <td>10516.828082</td>\n",
       "      <td>180921.195890</td>\n",
       "    </tr>\n",
       "    <tr>\n",
       "      <th>std</th>\n",
       "      <td>9981.264932</td>\n",
       "      <td>79442.502883</td>\n",
       "    </tr>\n",
       "    <tr>\n",
       "      <th>min</th>\n",
       "      <td>1300.000000</td>\n",
       "      <td>34900.000000</td>\n",
       "    </tr>\n",
       "    <tr>\n",
       "      <th>25%</th>\n",
       "      <td>7553.500000</td>\n",
       "      <td>129975.000000</td>\n",
       "    </tr>\n",
       "    <tr>\n",
       "      <th>50%</th>\n",
       "      <td>9478.500000</td>\n",
       "      <td>163000.000000</td>\n",
       "    </tr>\n",
       "    <tr>\n",
       "      <th>75%</th>\n",
       "      <td>11601.500000</td>\n",
       "      <td>214000.000000</td>\n",
       "    </tr>\n",
       "    <tr>\n",
       "      <th>max</th>\n",
       "      <td>215245.000000</td>\n",
       "      <td>755000.000000</td>\n",
       "    </tr>\n",
       "  </tbody>\n",
       "</table>\n",
       "</div>"
      ],
      "text/plain": [
       "             LotArea      SalePrice\n",
       "count    1460.000000    1460.000000\n",
       "mean    10516.828082  180921.195890\n",
       "std      9981.264932   79442.502883\n",
       "min      1300.000000   34900.000000\n",
       "25%      7553.500000  129975.000000\n",
       "50%      9478.500000  163000.000000\n",
       "75%     11601.500000  214000.000000\n",
       "max    215245.000000  755000.000000"
      ]
     },
     "execution_count": 3,
     "metadata": {},
     "output_type": "execute_result"
    }
   ],
   "source": [
    "df.describe()"
   ]
  },
  {
   "cell_type": "code",
   "execution_count": 4,
   "id": "0af2675b-8b25-4bd7-8587-b86ffac74438",
   "metadata": {
    "tags": []
   },
   "outputs": [
    {
     "data": {
      "text/plain": [
       "(1460, 2)"
      ]
     },
     "execution_count": 4,
     "metadata": {},
     "output_type": "execute_result"
    }
   ],
   "source": [
    "df.shape"
   ]
  },
  {
   "cell_type": "code",
   "execution_count": 8,
   "id": "5f2c598d-95d9-43b9-ae5f-444da01eed5e",
   "metadata": {
    "tags": []
   },
   "outputs": [
    {
     "name": "stdout",
     "output_type": "stream",
     "text": [
      "q1 :  129975.0\n",
      "q3 :  214000.0\n",
      "iqr :  84025.0\n"
     ]
    }
   ],
   "source": [
    "# IQR\n",
    "q1 = df['SalePrice'].quantile(0.25)\n",
    "q3 = df['SalePrice'].quantile(0.75)\n",
    "\n",
    "iqr = q3 - q1\n",
    "print('q1 : ', q1)\n",
    "print('q3 : ', q3)\n",
    "print('iqr : ', iqr)"
   ]
  },
  {
   "cell_type": "code",
   "execution_count": 11,
   "id": "98b3b3bb-0e65-49cf-b015-0359687bbd43",
   "metadata": {
    "tags": []
   },
   "outputs": [
    {
     "name": "stdout",
     "output_type": "stream",
     "text": [
      "upper_whisker :  340037.5\n",
      "lower_whisker :  3937.5\n"
     ]
    }
   ],
   "source": [
    "# Upper and Lower Whiskers\n",
    "lower_whisker = q1 - (1.5 * iqr)\n",
    "upper_whisker = q3 + (1.5 * iqr)\n",
    "\n",
    "print('upper_whisker : ', upper_whisker)\n",
    "print('lower_whisker : ', lower_whisker)"
   ]
  },
  {
   "cell_type": "code",
   "execution_count": 12,
   "id": "8aa88c63-a9b8-47da-af11-d840f345b75b",
   "metadata": {
    "tags": []
   },
   "outputs": [
    {
     "name": "stdout",
     "output_type": "stream",
     "text": [
      "0       False\n",
      "1       False\n",
      "2       False\n",
      "3       False\n",
      "4       False\n",
      "        ...  \n",
      "1455    False\n",
      "1456    False\n",
      "1457    False\n",
      "1458    False\n",
      "1459    False\n",
      "Name: SalePrice, Length: 1460, dtype: bool\n"
     ]
    }
   ],
   "source": [
    "print((df['SalePrice'] < lower_whisker) | (df['SalePrice'] > upper_whisker))"
   ]
  },
  {
   "cell_type": "code",
   "execution_count": 15,
   "id": "9494d426-10c2-4d05-8925-564f00bceb61",
   "metadata": {
    "tags": []
   },
   "outputs": [],
   "source": [
    "new_df = df[(df['SalePrice'] > lower_whisker) & (df['SalePrice'] < upper_whisker)]"
   ]
  },
  {
   "cell_type": "code",
   "execution_count": 16,
   "id": "2611f5ab-2075-4071-9ebc-23583593dffd",
   "metadata": {
    "tags": []
   },
   "outputs": [
    {
     "data": {
      "text/plain": [
       "(1399, 2)"
      ]
     },
     "execution_count": 16,
     "metadata": {},
     "output_type": "execute_result"
    }
   ],
   "source": [
    "new_df.shape"
   ]
  },
  {
   "cell_type": "code",
   "execution_count": 18,
   "id": "b1cc1c85-7623-45a8-87df-df9eb7b42d89",
   "metadata": {
    "tags": []
   },
   "outputs": [
    {
     "name": "stdout",
     "output_type": "stream",
     "text": [
      "q1 : \n",
      "LotArea        7553.5\n",
      "SalePrice    129975.0\n",
      "Name: 0.25, dtype: float64\n",
      "q3 : \n",
      "LotArea       11601.5\n",
      "SalePrice    214000.0\n",
      "Name: 0.75, dtype: float64\n",
      "iqr : \n",
      "LotArea       4048.0\n",
      "SalePrice    84025.0\n",
      "dtype: float64\n"
     ]
    }
   ],
   "source": [
    "q1 = df.quantile(0.25)\n",
    "q3 = df.quantile(0.75)\n",
    "iqr = q3 - q1\n",
    "print('q1 : ')\n",
    "print(q1)\n",
    "print('q3 : ')\n",
    "print(q3)\n",
    "print('iqr : ')\n",
    "print(iqr)"
   ]
  },
  {
   "cell_type": "code",
   "execution_count": 19,
   "id": "e2e6108b-ae1f-467c-898b-d13de110e44e",
   "metadata": {
    "tags": []
   },
   "outputs": [
    {
     "name": "stdout",
     "output_type": "stream",
     "text": [
      "upper_whisker :  LotArea       17673.5\n",
      "SalePrice    340037.5\n",
      "dtype: float64\n",
      "lower_whisker :  LotArea      1481.5\n",
      "SalePrice    3937.5\n",
      "dtype: float64\n"
     ]
    }
   ],
   "source": [
    "# Upper and Lower Whiskers\n",
    "lower_whisker = q1 - (1.5 * iqr)\n",
    "upper_whisker = q3 + (1.5 * iqr)\n",
    "\n",
    "print('upper_whisker : ', upper_whisker)\n",
    "print('lower_whisker : ', lower_whisker)"
   ]
  },
  {
   "cell_type": "code",
   "execution_count": 29,
   "id": "68c9806f-ea3f-4cd5-85f1-d4856c73f4be",
   "metadata": {
    "tags": []
   },
   "outputs": [
    {
     "data": {
      "text/plain": [
       "Index(['LotArea', 'SalePrice'], dtype='object')"
      ]
     },
     "execution_count": 29,
     "metadata": {},
     "output_type": "execute_result"
    }
   ],
   "source": [
    "lower_whisker.index"
   ]
  },
  {
   "cell_type": "code",
   "execution_count": 30,
   "id": "d6c7489e-c3be-433a-af5e-84da5ebb0a0a",
   "metadata": {
    "tags": []
   },
   "outputs": [
    {
     "data": {
      "text/plain": [
       "1481.5"
      ]
     },
     "execution_count": 30,
     "metadata": {},
     "output_type": "execute_result"
    }
   ],
   "source": [
    "lower_whisker['LotArea']"
   ]
  },
  {
   "cell_type": "code",
   "execution_count": 27,
   "id": "48aa7ed3-1e97-4ed2-a3f6-e5812fee94ec",
   "metadata": {
    "tags": []
   },
   "outputs": [],
   "source": [
    "new_df_2 = df[(df['LotArea'] > lower_whisker[0]) & (df['LotArea'] < upper_whisker[0])]\n",
    "new_df_2 = new_df_2[(new_df_2['SalePrice'] > lower_whisker[1]) & (new_df_2['SalePrice'] < upper_whisker[1])]"
   ]
  },
  {
   "cell_type": "code",
   "execution_count": 28,
   "id": "5a2a6141-b7fc-404b-a97e-a88471349bcc",
   "metadata": {
    "tags": []
   },
   "outputs": [
    {
     "data": {
      "text/plain": [
       "(1339, 2)"
      ]
     },
     "execution_count": 28,
     "metadata": {},
     "output_type": "execute_result"
    }
   ],
   "source": [
    "new_df_2.shape"
   ]
  },
  {
   "cell_type": "markdown",
   "id": "a08a1760-9d63-4196-aeb5-968f33eb5db2",
   "metadata": {},
   "source": [
    "# Box Plot for Outlier Visualization"
   ]
  },
  {
   "cell_type": "code",
   "execution_count": 31,
   "id": "3244978c-e3bd-4311-a0c2-ff00425457ec",
   "metadata": {
    "tags": []
   },
   "outputs": [],
   "source": [
    "import matplotlib.pyplot as plt"
   ]
  },
  {
   "cell_type": "code",
   "execution_count": 32,
   "id": "2b6a0e0c-e02c-4255-b05a-f9c3a81149aa",
   "metadata": {
    "tags": []
   },
   "outputs": [
    {
     "data": {
      "text/plain": [
       "{'whiskers': [<matplotlib.lines.Line2D at 0x1fbee1b1090>,\n",
       "  <matplotlib.lines.Line2D at 0x1fbefd23310>],\n",
       " 'caps': [<matplotlib.lines.Line2D at 0x1fbefd23ed0>,\n",
       "  <matplotlib.lines.Line2D at 0x1fbefd2cd50>],\n",
       " 'boxes': [<matplotlib.lines.Line2D at 0x1fbee194f50>],\n",
       " 'medians': [<matplotlib.lines.Line2D at 0x1fbefd2d890>],\n",
       " 'fliers': [<matplotlib.lines.Line2D at 0x1fbefd2e2d0>],\n",
       " 'means': []}"
      ]
     },
     "execution_count": 32,
     "metadata": {},
     "output_type": "execute_result"
    },
    {
     "data": {
      "image/png": "[encoded data removed]",
      "text/plain": [
       "<Figure size 640x480 with 1 Axes>"
      ]
     },
     "metadata": {},
     "output_type": "display_data"
    }
   ],
   "source": [
    "plt.boxplot(df['LotArea'], vert = False)"
   ]
  },
  {
   "cell_type": "code",
   "execution_count": 34,
   "id": "f94a62c7-2c4b-4658-b2b2-82a5f8ea5408",
   "metadata": {
    "tags": []
   },
   "outputs": [
    {
     "data": {
      "text/plain": [
       "{'whiskers': [<matplotlib.lines.Line2D at 0x1fbf3e6e210>,\n",
       "  <matplotlib.lines.Line2D at 0x1fbf3e6f010>],\n",
       " 'caps': [<matplotlib.lines.Line2D at 0x1fbf3e6fc90>,\n",
       "  <matplotlib.lines.Line2D at 0x1fbf3e73090>],\n",
       " 'boxes': [<matplotlib.lines.Line2D at 0x1fbf3e6d750>],\n",
       " 'medians': [<matplotlib.lines.Line2D at 0x1fbf3e70190>],\n",
       " 'fliers': [<matplotlib.lines.Line2D at 0x1fbf3e71150>],\n",
       " 'means': []}"
      ]
     },
     "execution_count": 34,
     "metadata": {},
     "output_type": "execute_result"
    },
    {
     "data": {
      "image/png": "[encoded data removed]",
      "text/plain": [
       "<Figure size 640x480 with 1 Axes>"
      ]
     },
     "metadata": {},
     "output_type": "display_data"
    }
   ],
   "source": [
    "plt.boxplot(df['SalePrice'], vert = False)"
   ]
  },
  {
   "cell_type": "code",
   "execution_count": 35,
   "id": "552da55a-53ec-4ee8-a724-c1312ffde1d0",
   "metadata": {
    "tags": []
   },
   "outputs": [
    {
     "data": {
      "text/plain": [
       "{'whiskers': [<matplotlib.lines.Line2D at 0x1fbf3efb210>,\n",
       "  <matplotlib.lines.Line2D at 0x1fbf3efbb50>],\n",
       " 'caps': [<matplotlib.lines.Line2D at 0x1fbf3f04550>,\n",
       "  <matplotlib.lines.Line2D at 0x1fbf3f04e10>],\n",
       " 'boxes': [<matplotlib.lines.Line2D at 0x1fbf3efab50>],\n",
       " 'medians': [<matplotlib.lines.Line2D at 0x1fbf3f056d0>],\n",
       " 'fliers': [<matplotlib.lines.Line2D at 0x1fbf3f05e50>],\n",
       " 'means': []}"
      ]
     },
     "execution_count": 35,
     "metadata": {},
     "output_type": "execute_result"
    },
    {
     "data": {
      "image/png": "[encoded data removed]",
      "text/plain": [
       "<Figure size 640x480 with 1 Axes>"
      ]
     },
     "metadata": {},
     "output_type": "display_data"
    }
   ],
   "source": [
    "plt.boxplot(new_df['SalePrice'], vert = False)"
   ]
  },
  {
   "cell_type": "code",
   "execution_count": 36,
   "id": "aba7bebf-b370-4e1e-bad7-d48122d857a4",
   "metadata": {
    "tags": []
   },
   "outputs": [
    {
     "data": {
      "text/plain": [
       "{'whiskers': [<matplotlib.lines.Line2D at 0x1fbf3f4a8d0>,\n",
       "  <matplotlib.lines.Line2D at 0x1fbf3f4b210>],\n",
       " 'caps': [<matplotlib.lines.Line2D at 0x1fbf3f4bbd0>,\n",
       "  <matplotlib.lines.Line2D at 0x1fbf3f584d0>],\n",
       " 'boxes': [<matplotlib.lines.Line2D at 0x1fbf3f4a050>],\n",
       " 'medians': [<matplotlib.lines.Line2D at 0x1fbf3f58d50>],\n",
       " 'fliers': [<matplotlib.lines.Line2D at 0x1fbf3f59590>],\n",
       " 'means': []}"
      ]
     },
     "execution_count": 36,
     "metadata": {},
     "output_type": "execute_result"
    },
    {
     "data": {
      "image/png": "[encoded data removed]",
      "text/plain": [
       "<Figure size 640x480 with 1 Axes>"
      ]
     },
     "metadata": {},
     "output_type": "display_data"
    }
   ],
   "source": [
    "plt.boxplot(new_df_2['SalePrice'], vert = False)"
   ]
  },
  {
   "cell_type": "code",
   "execution_count": 37,
   "id": "834710e5-8c3b-4a93-afcc-afd491274c7b",
   "metadata": {
    "tags": []
   },
   "outputs": [
    {
     "data": {
      "text/plain": [
       "{'whiskers': [<matplotlib.lines.Line2D at 0x1fbf3fbc450>,\n",
       "  <matplotlib.lines.Line2D at 0x1fbf3fbce90>],\n",
       " 'caps': [<matplotlib.lines.Line2D at 0x1fbf3fbd7d0>,\n",
       "  <matplotlib.lines.Line2D at 0x1fbf3fbe010>],\n",
       " 'boxes': [<matplotlib.lines.Line2D at 0x1fbf3fb3cd0>],\n",
       " 'medians': [<matplotlib.lines.Line2D at 0x1fbf3fbe910>],\n",
       " 'fliers': [<matplotlib.lines.Line2D at 0x1fbf18b30d0>],\n",
       " 'means': []}"
      ]
     },
     "execution_count": 37,
     "metadata": {},
     "output_type": "execute_result"
    },
    {
     "data": {
      "image/png": "[encoded data removed]",
      "text/plain": [
       "<Figure size 640x480 with 1 Axes>"
      ]
     },
     "metadata": {},
     "output_type": "display_data"
    }
   ],
   "source": [
    "plt.boxplot(new_df_2['LotArea'], vert = False)"
   ]
  },
  {
   "cell_type": "code",
   "execution_count": 39,
   "id": "c13d4384-0a04-4749-a7d3-448ec581554f",
   "metadata": {
    "tags": []
   },
   "outputs": [
    {
     "data": {
      "text/plain": [
       "<Axes: >"
      ]
     },
     "execution_count": 39,
     "metadata": {},
     "output_type": "execute_result"
    },
    {
     "data": {
      "image/png": "[encoded data removed]",
      "text/plain": [
       "<Figure size 640x480 with 1 Axes>"
      ]
     },
     "metadata": {},
     "output_type": "display_data"
    }
   ],
   "source": [
    "df['SalePrice'].hist()"
   ]
  },
  {
   "cell_type": "code",
   "execution_count": 40,
   "id": "d28ab8fb-1163-4748-ac2c-7c73e4bc8c24",
   "metadata": {
    "tags": []
   },
   "outputs": [
    {
     "data": {
      "text/plain": [
       "<Axes: >"
      ]
     },
     "execution_count": 40,
     "metadata": {},
     "output_type": "execute_result"
    },
    {
     "data": {
      "image/png": "[encoded data removed]",
      "text/plain": [
       "<Figure size 640x480 with 1 Axes>"
      ]
     },
     "metadata": {},
     "output_type": "display_data"
    }
   ],
   "source": [
    "df['LotArea'].hist()"
   ]
  },
  {
   "cell_type": "code",
   "execution_count": 41,
   "id": "36c04eae-7fcc-4781-be7f-9dd20c20d322",
   "metadata": {
    "tags": []
   },
   "outputs": [
    {
     "data": {
      "text/plain": [
       "Text(0, 0.5, 'Sales price')"
      ]
     },
     "execution_count": 41,
     "metadata": {},
     "output_type": "execute_result"
    },
    {
     "data": {
      "image/png": "[encoded data removed]",
      "text/plain": [
       "<Figure size 1000x600 with 1 Axes>"
      ]
     },
     "metadata": {},
     "output_type": "display_data"
    }
   ],
   "source": [
    "fig ,ax = plt.subplots(figsize = (10, 6))\n",
    "ax.scatter(df['LotArea'], df['SalePrice'])\n",
    "ax.set_xlabel('Lot area')\n",
    "ax.set_ylabel('Sales price')"
   ]
  },
  {
   "cell_type": "markdown",
   "id": "fd9e36bd-bb6b-4545-863f-2f37ed36bd8f",
   "metadata": {},
   "source": [
    "# Quantile based capping and flooring"
   ]
  },
  {
   "cell_type": "code",
   "execution_count": 42,
   "id": "a857d888-5f64-4138-bf2c-fffdc0acceff",
   "metadata": {
    "tags": []
   },
   "outputs": [
    {
     "name": "stdout",
     "output_type": "stream",
     "text": [
      "Floor :  61815.97\n",
      "Floor :  442567.01000000053\n"
     ]
    }
   ],
   "source": [
    "floor = df['SalePrice'].quantile(0.01)\n",
    "cap = df['SalePrice'].quantile(0.99)\n",
    "print('Floor : ', floor)\n",
    "print('Floor : ', cap)"
   ]
  },
  {
   "cell_type": "code",
   "execution_count": 43,
   "id": "3f4b4e59-6974-4d33-875b-fe4e2cd85e2a",
   "metadata": {
    "tags": []
   },
   "outputs": [],
   "source": [
    "import numpy as np"
   ]
  },
  {
   "cell_type": "code",
   "execution_count": 44,
   "id": "8ceea0d6-6b53-4022-9479-5b1ade06cd70",
   "metadata": {
    "tags": []
   },
   "outputs": [],
   "source": [
    "df1 = df.copy()\n",
    "df1['SalePrice'] = np.where(df1['SalePrice']<floor, floor, df1['SalePrice'])\n",
    "df1['SalePrice'] = np.where(df1['SalePrice']>cap, cap, df1['SalePrice'])"
   ]
  },
  {
   "cell_type": "code",
   "execution_count": 45,
   "id": "e8b4b6cb-b593-4965-af6e-a2ba48331248",
   "metadata": {
    "tags": []
   },
   "outputs": [
    {
     "data": {
      "text/plain": [
       "(1460, 2)"
      ]
     },
     "execution_count": 45,
     "metadata": {},
     "output_type": "execute_result"
    }
   ],
   "source": [
    "df1.shape"
   ]
  },
  {
   "cell_type": "code",
   "execution_count": 46,
   "id": "b58977e8-8b89-4850-b4e9-69340a207426",
   "metadata": {
    "tags": []
   },
   "outputs": [
    {
     "data": {
      "text/plain": [
       "{'whiskers': [<matplotlib.lines.Line2D at 0x1fbf3fcb750>,\n",
       "  <matplotlib.lines.Line2D at 0x1fbf4227850>],\n",
       " 'caps': [<matplotlib.lines.Line2D at 0x1fbf42302d0>,\n",
       "  <matplotlib.lines.Line2D at 0x1fbf4230a50>],\n",
       " 'boxes': [<matplotlib.lines.Line2D at 0x1fbf41c96d0>],\n",
       " 'medians': [<matplotlib.lines.Line2D at 0x1fbf4231350>],\n",
       " 'fliers': [<matplotlib.lines.Line2D at 0x1fbf4231ad0>],\n",
       " 'means': []}"
      ]
     },
     "execution_count": 46,
     "metadata": {},
     "output_type": "execute_result"
    },
    {
     "data": {
      "image/png": "[encoded data removed]",
      "text/plain": [
       "<Figure size 640x480 with 1 Axes>"
      ]
     },
     "metadata": {},
     "output_type": "display_data"
    }
   ],
   "source": [
    "plt.boxplot(df['SalePrice'])"
   ]
  },
  {
   "cell_type": "code",
   "execution_count": 47,
   "id": "1bd4cb45-30a7-4eb6-9820-6ce0b4a1eb1b",
   "metadata": {
    "tags": []
   },
   "outputs": [
    {
     "data": {
      "text/plain": [
       "{'whiskers': [<matplotlib.lines.Line2D at 0x1fbefdc2d10>,\n",
       "  <matplotlib.lines.Line2D at 0x1fbefdc1890>],\n",
       " 'caps': [<matplotlib.lines.Line2D at 0x1fbefdc0450>,\n",
       "  <matplotlib.lines.Line2D at 0x1fbefdb8e90>],\n",
       " 'boxes': [<matplotlib.lines.Line2D at 0x1fbefdc37d0>],\n",
       " 'medians': [<matplotlib.lines.Line2D at 0x1fbefdb8310>],\n",
       " 'fliers': [<matplotlib.lines.Line2D at 0x1fbefdbbd50>],\n",
       " 'means': []}"
      ]
     },
     "execution_count": 47,
     "metadata": {},
     "output_type": "execute_result"
    },
    {
     "data": {
      "image/png": "[encoded data removed]",
      "text/plain": [
       "<Figure size 640x480 with 1 Axes>"
      ]
     },
     "metadata": {},
     "output_type": "display_data"
    }
   ],
   "source": [
    "plt.boxplot(df1['SalePrice'])"
   ]
  },
  {
   "cell_type": "code",
   "execution_count": 48,
   "id": "ff4434d5-bc3d-404c-870e-1f194eadceb2",
   "metadata": {
    "tags": []
   },
   "outputs": [
    {
     "name": "stdout",
     "output_type": "stream",
     "text": [
      "Floor :  106475.0\n",
      "Floor :  278000.0\n"
     ]
    }
   ],
   "source": [
    "floor = df['SalePrice'].quantile(0.10)\n",
    "cap = df['SalePrice'].quantile(0.90)\n",
    "print('Floor : ', floor)\n",
    "print('Floor : ', cap)\n",
    "\n",
    "df2 = df.copy()\n",
    "df2['SalePrice'] = np.where(df2['SalePrice']<floor, floor, df2['SalePrice'])\n",
    "df2['SalePrice'] = np.where(df2['SalePrice']>cap, cap, df2['SalePrice'])"
   ]
  },
  {
   "cell_type": "code",
   "execution_count": 49,
   "id": "34bc7a2a-ff5c-4775-9cd3-b0138bb4fb73",
   "metadata": {
    "tags": []
   },
   "outputs": [
    {
     "data": {
      "text/plain": [
       "{'whiskers': [<matplotlib.lines.Line2D at 0x1fbf440f050>,\n",
       "  <matplotlib.lines.Line2D at 0x1fbf440fd10>],\n",
       " 'caps': [<matplotlib.lines.Line2D at 0x1fbf4418910>,\n",
       "  <matplotlib.lines.Line2D at 0x1fbf44193d0>],\n",
       " 'boxes': [<matplotlib.lines.Line2D at 0x1fbf43fa050>],\n",
       " 'medians': [<matplotlib.lines.Line2D at 0x1fbf4419ed0>],\n",
       " 'fliers': [<matplotlib.lines.Line2D at 0x1fbf441a9d0>],\n",
       " 'means': []}"
      ]
     },
     "execution_count": 49,
     "metadata": {},
     "output_type": "execute_result"
    },
    {
     "data": {
      "image/png": "[encoded data removed]",
      "text/plain": [
       "<Figure size 640x480 with 1 Axes>"
      ]
     },
     "metadata": {},
     "output_type": "display_data"
    }
   ],
   "source": [
    "plt.boxplot(df2['SalePrice'])"
   ]
  },
  {
   "cell_type": "code",
   "execution_count": 62,
   "id": "38c538e0-9401-43d5-9d37-c0ba7f1970ea",
   "metadata": {
    "tags": []
   },
   "outputs": [],
   "source": [
    "df_fresh = df.copy()"
   ]
  },
  {
   "cell_type": "code",
   "execution_count": 67,
   "id": "937d9c1f-7914-4296-b504-65d7a35f45d7",
   "metadata": {
    "tags": []
   },
   "outputs": [],
   "source": [
    "index = df_fresh[(df_fresh['SalePrice'] < lower_whisker[1]) | (df_fresh['SalePrice'] > upper_whisker[1])].index"
   ]
  },
  {
   "cell_type": "code",
   "execution_count": 68,
   "id": "562d3fbc-8f2c-4ce6-8ca6-bbeea92ab63a",
   "metadata": {
    "tags": []
   },
   "outputs": [
    {
     "data": {
      "text/plain": [
       "(61,)"
      ]
     },
     "execution_count": 68,
     "metadata": {},
     "output_type": "execute_result"
    }
   ],
   "source": [
    "index.shape"
   ]
  },
  {
   "cell_type": "code",
   "execution_count": 69,
   "id": "b09d9987-2bec-4161-b6c4-849f80a1f8cf",
   "metadata": {
    "tags": []
   },
   "outputs": [
    {
     "data": {
      "text/plain": [
       "(1399, 2)"
      ]
     },
     "execution_count": 69,
     "metadata": {},
     "output_type": "execute_result"
    }
   ],
   "source": [
    "df_fresh.drop(index, inplace = True)\n",
    "df_fresh.shape"
   ]
  },
  {
   "cell_type": "markdown",
   "id": "2fa8eff6-34ec-4ff1-a069-ed5651d9b3c3",
   "metadata": {},
   "source": [
    "# Skewness and Log Transformation"
   ]
  },
  {
   "cell_type": "code",
   "execution_count": 70,
   "id": "fb915dd5-d786-45b1-b423-d49cc3a4f073",
   "metadata": {
    "tags": []
   },
   "outputs": [
    {
     "name": "stdout",
     "output_type": "stream",
     "text": [
      "1.88\n"
     ]
    }
   ],
   "source": [
    "print(df['SalePrice'].skew().round(2))"
   ]
  },
  {
   "cell_type": "code",
   "execution_count": 72,
   "id": "17ab14ad-928c-4586-b19f-75895d74a046",
   "metadata": {
    "tags": []
   },
   "outputs": [
    {
     "name": "stdout",
     "output_type": "stream",
     "text": [
      "0.12\n"
     ]
    }
   ],
   "source": [
    "# .map can be replaced by .apply\n",
    "df['log_scale'] = df['SalePrice'].map(lambda i: np.log(i) if i>0 else 0)\n",
    "print(df['log_scale'].skew().round(2))"
   ]
  },
  {
   "cell_type": "code",
   "execution_count": 76,
   "id": "9c89989a-3f56-4854-b1c6-5faa0a308087",
   "metadata": {
    "tags": []
   },
   "outputs": [
    {
     "data": {
      "text/plain": [
       "<Axes: >"
      ]
     },
     "execution_count": 76,
     "metadata": {},
     "output_type": "execute_result"
    },
    {
     "data": {
      "image/png": "[encoded data removed]",
      "text/plain": [
       "<Figure size 640x480 with 1 Axes>"
      ]
     },
     "metadata": {},
     "output_type": "display_data"
    }
   ],
   "source": [
    "df['SalePrice'].hist(bins = 25)"
   ]
  },
  {
   "cell_type": "code",
   "execution_count": 77,
   "id": "120fea0f-3a95-4607-880e-dc3ab71bc121",
   "metadata": {
    "tags": []
   },
   "outputs": [
    {
     "data": {
      "text/plain": [
       "<Axes: >"
      ]
     },
     "execution_count": 77,
     "metadata": {},
     "output_type": "execute_result"
    },
    {
     "data": {
      "image/png": "[encoded data removed]",
      "text/plain": [
       "<Figure size 640x480 with 1 Axes>"
      ]
     },
     "metadata": {},
     "output_type": "display_data"
    }
   ],
   "source": [
    "df['log_scale'].hist(bins = 25)"
   ]
  },
  {
   "cell_type": "code",
   "execution_count": null,
   "id": "d66f105a-67b3-4d15-bb0b-aa7dc236e6df",
   "metadata": {},
   "outputs": [],
   "source": []
  }
 ],
 "metadata": {
  "kernelspec": {
   "display_name": "Python 3 (ipykernel)",
   "language": "python",
   "name": "python3"
  },
  "language_info": {
   "codemirror_mode": {
    "name": "ipython",
    "version": 3
   },
   "file_extension": ".py",
   "mimetype": "text/x-python",
   "name": "python",
   "nbconvert_exporter": "python",
   "pygments_lexer": "ipython3",
   "version": "3.11.4"
  }
 },
 "nbformat": 4,
 "nbformat_minor": 5
}
