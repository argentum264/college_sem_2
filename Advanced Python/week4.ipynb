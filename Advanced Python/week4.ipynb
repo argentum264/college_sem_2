{
 "cells": [
  {
   "cell_type": "markdown",
   "id": "8b712f90-c86c-4193-9d5b-e1a31459793e",
   "metadata": {},
   "source": [
    "# <center> Rajat Kumar | C0912858 | Week 4"
   ]
  },
  {
   "cell_type": "markdown",
   "id": "1619c9e7-bd60-4ce1-b61e-8131087e4ada",
   "metadata": {},
   "source": [
    "# Answer 1"
   ]
  },
  {
   "cell_type": "code",
   "execution_count": 32,
   "id": "4b5f71ef-1f65-4821-af0e-1d90c50965b3",
   "metadata": {},
   "outputs": [],
   "source": [
    "# Given an input string s and a pattern p, implement regular expression matching with support for '.' and '*' where:\n",
    "\n",
    "# '.' Matches any single character.\n",
    "# '*' Matches zero or more of the preceding element.\n",
    "# The matching should cover the entire input string (not partial)."
   ]
  },
  {
   "cell_type": "code",
   "execution_count": 48,
   "id": "be39b1e9-ba19-424f-b549-dd2d3cc039d8",
   "metadata": {
    "tags": []
   },
   "outputs": [
    {
     "name": "stdout",
     "output_type": "stream",
     "text": [
      "False\n",
      "True\n",
      "True\n",
      "True\n"
     ]
    }
   ],
   "source": [
    "def regexp(s, p):\n",
    "    if not p:\n",
    "        return not s\n",
    "\n",
    "    first_char = bool(s) and (s[0] == p[0] or p[0] == '.')\n",
    "\n",
    "    if len(p) >= 2 and p[1] == '*':\n",
    "        return (regexp(s, p[2:]) or (first_char and regexp(s[1:], p)))\n",
    "    else:\n",
    "        return first_char and regexp(s[1:], p[1:])\n",
    "\n",
    "print(regexp(\"aa\", \"a\"))\n",
    "print(regexp(\"aa\", \"a*\"))\n",
    "print(regexp(\"ab\", \".*\"))\n",
    "print(regexp(\"abcbba\", \".*ba\"))"
   ]
  },
  {
   "cell_type": "markdown",
   "id": "a460a980-cfef-4044-b40b-214844c0dd35",
   "metadata": {},
   "source": [
    "# Answer 2"
   ]
  },
  {
   "cell_type": "code",
   "execution_count": 50,
   "id": "0efb6156-6dc4-4acb-8e2e-934c3a8e358d",
   "metadata": {
    "tags": []
   },
   "outputs": [],
   "source": [
    "# You are given a 0-indexed integer array nums having length n, an integer indexDifference, and an integer valueDifference.\n",
    "\n",
    "# Your task is to find two indices i and j, both in the range [0, n - 1], that satisfy the following conditions:\n",
    "\n",
    "# abs(i - j) >= indexDifference, and\n",
    "# abs(nums[i] - nums[j]) >= valueDifference\n",
    "# Return an integer array answer, where answer = [i, j] if there are two such indices, and answer = [-1, -1] otherwise. If there are multiple choices for the two indices, return any of them.\n",
    "\n",
    "# Note: i and j may be equal."
   ]
  },
  {
   "cell_type": "code",
   "execution_count": 51,
   "id": "7a932eba-b250-4fdc-bd82-12e7793b7f23",
   "metadata": {
    "tags": []
   },
   "outputs": [
    {
     "name": "stdout",
     "output_type": "stream",
     "text": [
      "[0, 3]\n",
      "[0, 0]\n",
      "[-1, -1]\n"
     ]
    }
   ],
   "source": [
    "def findIndices(nums, indexDifference, valueDifference):\n",
    "    n = len(nums)\n",
    "\n",
    "    for i in range(n):\n",
    "        for j in range(i + indexDifference, n):\n",
    "            if abs(i - j) >= indexDifference and abs(nums[i] - nums[j]) >= valueDifference:\n",
    "                return [i, j]\n",
    "\n",
    "    return [-1, -1]\n",
    "\n",
    "nums1 = [5, 1, 4, 1]\n",
    "indexDifference1 = 2\n",
    "valueDifference1 = 4\n",
    "print(findIndices(nums1, indexDifference1, valueDifference1))\n",
    "\n",
    "nums2 = [2, 1]\n",
    "indexDifference2 = 0\n",
    "valueDifference2 = 0\n",
    "print(findIndices(nums2, indexDifference2, valueDifference2))\n",
    "\n",
    "nums3 = [1, 2, 3]\n",
    "indexDifference3 = 2\n",
    "valueDifference3 = 4\n",
    "print(findIndices(nums3, indexDifference3, valueDifference3))"
   ]
  },
  {
   "cell_type": "markdown",
   "id": "8515ad0d-6447-4ebd-8107-b2a7f77548df",
   "metadata": {},
   "source": [
    "# Answer 3"
   ]
  },
  {
   "cell_type": "code",
   "execution_count": 4,
   "id": "85e188a8-0260-4ea9-9f9e-c53883177fda",
   "metadata": {
    "tags": []
   },
   "outputs": [],
   "source": [
    "# Write a Python program to find the single element in a list where every element appears multiple times except for one.\n",
    "# Input : [5, 3, 4, 3, 5, 5, 3],\n",
    "# Output : 4"
   ]
  },
  {
   "cell_type": "code",
   "execution_count": 2,
   "id": "470fad28-061d-42a1-86a8-f526173c9f53",
   "metadata": {
    "tags": []
   },
   "outputs": [
    {
     "name": "stdout",
     "output_type": "stream",
     "text": [
      "4 occurred just once in the given list\n"
     ]
    }
   ],
   "source": [
    "def if_one(li):\n",
    "    for i in li:\n",
    "        if li.count(i) == 1:\n",
    "            print(f'{i} occurred just once in the given list')\n",
    "        \n",
    "number = if_one([5, 3, 4, 3, 5, 5, 3])"
   ]
  },
  {
   "cell_type": "markdown",
   "id": "ba38dae5-0db9-4991-ab16-c3b8cc01d595",
   "metadata": {},
   "source": [
    "# Answer 4"
   ]
  },
  {
   "cell_type": "code",
   "execution_count": 5,
   "id": "86ceec9e-3f1d-4ce3-b525-dd16bfb1b26b",
   "metadata": {
    "tags": []
   },
   "outputs": [],
   "source": [
    "# Write a Python program to compute and return the square root of a given 'integer'. \n",
    "# Input : 16\n",
    "# Output : 4\n",
    "# Note : The returned value will be an 'integer', do not use square root functions from python."
   ]
  },
  {
   "cell_type": "code",
   "execution_count": 20,
   "id": "f8a93d4e-451a-4d6f-8490-0446e58a75c2",
   "metadata": {},
   "outputs": [
    {
     "name": "stdout",
     "output_type": "stream",
     "text": [
      "The square root of 25 is 5.\n"
     ]
    }
   ],
   "source": [
    "def square_root(num):\n",
    "    if num >= 0:\n",
    "        return num ** 0.5\n",
    "    else:\n",
    "        return 0\n",
    "\n",
    "num = 25\n",
    "root = int(square_root(num))\n",
    "print(f'The square root of {num} is {root}.')"
   ]
  },
  {
   "cell_type": "markdown",
   "id": "d1f6e602-ef4f-4e50-a4b7-5900b4d629a4",
   "metadata": {},
   "source": [
    "# Answer 5"
   ]
  },
  {
   "cell_type": "code",
   "execution_count": 21,
   "id": "fc532373-3522-402d-ba89-358fa6d8383c",
   "metadata": {},
   "outputs": [],
   "source": [
    "# Write a Python program to check a sequence of numbers is a geometric progression or not. \n",
    "# Input : [2, 6, 18, 54]\n",
    "# Output : True"
   ]
  },
  {
   "cell_type": "code",
   "execution_count": 23,
   "id": "d1a54593-6f66-490d-a225-d66f5920f428",
   "metadata": {
    "tags": []
   },
   "outputs": [
    {
     "name": "stdout",
     "output_type": "stream",
     "text": [
      "True\n"
     ]
    }
   ],
   "source": [
    "def gp(li):\n",
    "    common_ratio = li[1] / li[0]\n",
    "\n",
    "    for i in range(1, len(li) - 1):\n",
    "        if li[i + 1] / li[i] != common_ratio:\n",
    "            return False\n",
    "\n",
    "    return True\n",
    "\n",
    "# Example usage\n",
    "li = [2, 6, 18, 54]\n",
    "\n",
    "result = gp(li)\n",
    "print(result)"
   ]
  },
  {
   "cell_type": "code",
   "execution_count": null,
   "id": "3412f78e-e64a-47b6-afbb-f867a2ef430c",
   "metadata": {},
   "outputs": [],
   "source": []
  }
 ],
 "metadata": {
  "kernelspec": {
   "display_name": "Python 3 (ipykernel)",
   "language": "python",
   "name": "python3"
  },
  "language_info": {
   "codemirror_mode": {
    "name": "ipython",
    "version": 3
   },
   "file_extension": ".py",
   "mimetype": "text/x-python",
   "name": "python",
   "nbconvert_exporter": "python",
   "pygments_lexer": "ipython3",
   "version": "3.11.4"
  }
 },
 "nbformat": 4,
 "nbformat_minor": 5
}
