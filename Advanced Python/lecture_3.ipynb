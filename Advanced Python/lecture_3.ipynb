{
 "cells": [
  {
   "cell_type": "code",
   "execution_count": 43,
   "id": "01b581da-2e39-46a4-91a7-29ec09b55063",
   "metadata": {
    "tags": []
   },
   "outputs": [],
   "source": [
    "# Record | Document {Instead if rows}"
   ]
  },
  {
   "cell_type": "code",
   "execution_count": 1,
   "id": "40cbfccb-cc1b-42dc-acf3-4e0a047fee0a",
   "metadata": {
    "tags": []
   },
   "outputs": [
    {
     "name": "stdout",
     "output_type": "stream",
     "text": [
      "Requirement already satisfied: pymongo in c:\\users\\rajat\\anaconda3\\lib\\site-packages (4.6.1)\n",
      "Requirement already satisfied: dnspython<3.0.0,>=1.16.0 in c:\\users\\rajat\\anaconda3\\lib\\site-packages (from pymongo) (2.5.0)\n"
     ]
    }
   ],
   "source": [
    "# Install pymongo\n",
    "!pip install pymongo"
   ]
  },
  {
   "cell_type": "code",
   "execution_count": 2,
   "id": "c6718544-f052-4b4f-b275-6e346f5a5026",
   "metadata": {
    "tags": []
   },
   "outputs": [],
   "source": [
    "import pymongo"
   ]
  },
  {
   "cell_type": "code",
   "execution_count": 3,
   "id": "b70f62a3-771c-4fbe-b604-2ef6121c9aeb",
   "metadata": {
    "tags": []
   },
   "outputs": [],
   "source": [
    "from pymongo import MongoClient"
   ]
  },
  {
   "cell_type": "code",
   "execution_count": 4,
   "id": "40bdeb93-0aa4-4401-ab56-23e4881eacfb",
   "metadata": {
    "tags": []
   },
   "outputs": [],
   "source": [
    "client = MongoClient()"
   ]
  },
  {
   "cell_type": "code",
   "execution_count": 5,
   "id": "57cffc53-7e74-4d39-bb7a-129352e75e97",
   "metadata": {
    "tags": []
   },
   "outputs": [],
   "source": [
    "db = client.test"
   ]
  },
  {
   "cell_type": "code",
   "execution_count": 6,
   "id": "dce2737a-3a11-4e5d-86cc-bb0120182e31",
   "metadata": {
    "tags": []
   },
   "outputs": [
    {
     "data": {
      "text/plain": [
       "Database(MongoClient(host=['localhost:27017'], document_class=dict, tz_aware=False, connect=True), 'test')"
      ]
     },
     "execution_count": 6,
     "metadata": {},
     "output_type": "execute_result"
    }
   ],
   "source": [
    "db"
   ]
  },
  {
   "cell_type": "code",
   "execution_count": 7,
   "id": "a4556ff0-1f47-4b10-ad4c-8b6cf4203561",
   "metadata": {},
   "outputs": [],
   "source": [
    "employee = db.employee"
   ]
  },
  {
   "cell_type": "code",
   "execution_count": 8,
   "id": "323de9d9-fba3-4ed7-8711-1a1d9966cb14",
   "metadata": {
    "tags": []
   },
   "outputs": [
    {
     "data": {
      "text/plain": [
       "Collection(Database(MongoClient(host=['localhost:27017'], document_class=dict, tz_aware=False, connect=True), 'test'), 'employee')"
      ]
     },
     "execution_count": 8,
     "metadata": {},
     "output_type": "execute_result"
    }
   ],
   "source": [
    "employee"
   ]
  },
  {
   "cell_type": "code",
   "execution_count": 9,
   "id": "03d9de95-6b21-48ff-8785-22724dddb7cf",
   "metadata": {
    "tags": []
   },
   "outputs": [
    {
     "name": "stdout",
     "output_type": "stream",
     "text": [
      "['admin', 'config', 'local', 'test']\n"
     ]
    }
   ],
   "source": [
    "print(client.list_database_names())"
   ]
  },
  {
   "cell_type": "code",
   "execution_count": 10,
   "id": "58d25ede-2e35-45b7-8913-26c26a57bc1d",
   "metadata": {},
   "outputs": [
    {
     "name": "stdout",
     "output_type": "stream",
     "text": [
      "['employee']\n"
     ]
    }
   ],
   "source": [
    "print(db.list_collection_names())"
   ]
  },
  {
   "cell_type": "code",
   "execution_count": 11,
   "id": "c45e40f4-5327-430f-8bf4-c26995f8501c",
   "metadata": {
    "tags": []
   },
   "outputs": [
    {
     "name": "stdout",
     "output_type": "stream",
     "text": [
      "The 'test' exists.\n"
     ]
    }
   ],
   "source": [
    "dblist = client.list_database_names()\n",
    "if \"test\" in dblist:\n",
    "    print(\"The '{}' exists.\".format('test'))"
   ]
  },
  {
   "cell_type": "code",
   "execution_count": 12,
   "id": "87d01d71-19ca-4135-88c2-d65ae45c2d98",
   "metadata": {
    "tags": []
   },
   "outputs": [],
   "source": [
    "employee_details = {\n",
    "                    'Name': 'Raj Kumar',\n",
    "                    'Address': 'Sears Steer, NZ',\n",
    "                    'Age': '42'}"
   ]
  },
  {
   "cell_type": "code",
   "execution_count": 13,
   "id": "b0f40713-a6b2-4bea-a690-bf293b0a7bb9",
   "metadata": {
    "tags": []
   },
   "outputs": [],
   "source": [
    "result = employee.insert_one(employee_details)"
   ]
  },
  {
   "cell_type": "code",
   "execution_count": 14,
   "id": "9f148f01-8783-4b27-b37f-f18393ff6f2d",
   "metadata": {
    "tags": []
   },
   "outputs": [
    {
     "data": {
      "text/plain": [
       "InsertOneResult(ObjectId('65b059e2a5a468808bb0032b'), acknowledged=True)"
      ]
     },
     "execution_count": 14,
     "metadata": {},
     "output_type": "execute_result"
    }
   ],
   "source": [
    "result"
   ]
  },
  {
   "cell_type": "code",
   "execution_count": 15,
   "id": "eaf12e2c-d519-4048-99df-9fc288cfde69",
   "metadata": {
    "tags": []
   },
   "outputs": [
    {
     "name": "stdout",
     "output_type": "stream",
     "text": [
      "['employee']\n"
     ]
    }
   ],
   "source": [
    "print(db.list_collection_names())"
   ]
  },
  {
   "cell_type": "code",
   "execution_count": 16,
   "id": "f452597a-06e3-499e-ab75-1927617fb2c1",
   "metadata": {},
   "outputs": [
    {
     "name": "stdout",
     "output_type": "stream",
     "text": [
      "['admin', 'config', 'local', 'test']\n"
     ]
    }
   ],
   "source": [
    "print(client.list_database_names())"
   ]
  },
  {
   "cell_type": "code",
   "execution_count": 18,
   "id": "8fa6b66e-1516-478d-b8cb-56fa60cae2a9",
   "metadata": {
    "tags": []
   },
   "outputs": [
    {
     "name": "stdout",
     "output_type": "stream",
     "text": [
      "The 'test' exists.\n"
     ]
    }
   ],
   "source": [
    "dblist = client.list_database_names()\n",
    "if \"test\" in dblist:\n",
    "    print(\"The '{}' exists.\".format('test'))"
   ]
  },
  {
   "cell_type": "code",
   "execution_count": 19,
   "id": "ba5fd749-b47b-41ad-9b8c-ad9d14b73034",
   "metadata": {
    "tags": []
   },
   "outputs": [
    {
     "name": "stdout",
     "output_type": "stream",
     "text": [
      "The employee collection exists.\n"
     ]
    }
   ],
   "source": [
    "collist = db.list_collection_names()\n",
    "if \"employee\" in collist:\n",
    "    print(\"The employee collection exists.\")"
   ]
  },
  {
   "cell_type": "code",
   "execution_count": 20,
   "id": "a9c9d75e-32cd-4d92-8d9a-530a30dc5da8",
   "metadata": {
    "tags": []
   },
   "outputs": [
    {
     "name": "stdout",
     "output_type": "stream",
     "text": [
      "65b059e2a5a468808bb0032b\n"
     ]
    }
   ],
   "source": [
    "print(result.inserted_id)"
   ]
  },
  {
   "cell_type": "code",
   "execution_count": 22,
   "id": "996d8d6b-25b7-4aa5-9d27-c26212b9ff28",
   "metadata": {
    "tags": []
   },
   "outputs": [],
   "source": [
    "mylist = [{\"_id\":1,\"name\":\"John\",\"address\":\"Highway 37\"},\n",
    "          {\"_id\":2,\"name\":\"Peter\",\"address\":\"Lowstreet 27\"},\n",
    "          {\"_id\":3,\"name\":\"Amy\",\"address\":\"Close st 652\"},\n",
    "          {\"_id\":4,\"name\":\"Hannah\",\"address\":\"Mountain 21\"},\n",
    "          {\"_id\":5,\"name\":\"Michael\",\"address\":\"Valley 345\"},\n",
    "          {\"_id\":6,\"name\": \"Vicky\", \"address\": \"Yellow Garden 124\"},\n",
    "          {\"_id\":7,\"name\": \"Nicky\", \"address\": \"Yellow Garden 23\"},\n",
    "          {\"_id\":8,\"name\": \"Nancy\", \"address\": \"Younge Ave. 123\"},\n",
    "          {\"_id\":9,\"name\": \"Viola\", \"address\": \"Sideway Ave\"}]\n"
   ]
  },
  {
   "cell_type": "code",
   "execution_count": 23,
   "id": "f2126eec-6fdd-4020-ace4-a26d792dbe65",
   "metadata": {
    "tags": []
   },
   "outputs": [
    {
     "name": "stdout",
     "output_type": "stream",
     "text": [
      "[1, 2, 3, 4, 5, 6, 7, 8, 9]\n"
     ]
    }
   ],
   "source": [
    "x = employee.insert_many(mylist)\n",
    "# Print list of the _id values of the inserted documents\n",
    "print(x.inserted_ids)"
   ]
  },
  {
   "cell_type": "code",
   "execution_count": 25,
   "id": "2508cc51-1cb7-47ee-b764-a55d4e8f4f88",
   "metadata": {
    "tags": []
   },
   "outputs": [
    {
     "data": {
      "text/plain": [
       "9"
      ]
     },
     "execution_count": 25,
     "metadata": {},
     "output_type": "execute_result"
    }
   ],
   "source": [
    "len(x.inserted_ids)"
   ]
  },
  {
   "cell_type": "code",
   "execution_count": 34,
   "id": "76d446fc-3d18-4605-9368-19ced3038e47",
   "metadata": {
    "tags": []
   },
   "outputs": [
    {
     "data": {
      "text/plain": [
       "11"
      ]
     },
     "execution_count": 34,
     "metadata": {},
     "output_type": "execute_result"
    }
   ],
   "source": [
    "employee.count_documents({})"
   ]
  },
  {
   "cell_type": "code",
   "execution_count": 35,
   "id": "1502046e-4413-48f7-b30e-530224b4de68",
   "metadata": {
    "tags": []
   },
   "outputs": [
    {
     "name": "stdout",
     "output_type": "stream",
     "text": [
      "{'_id': ObjectId('65b0599d21071fe1a1f0ee2e'), 'Name': 'Raj Kumar', 'Address': 'Sears Steer, NZ', 'Age': '42'}\n"
     ]
    }
   ],
   "source": [
    "x = employee.find_one()\n",
    "print(x)"
   ]
  },
  {
   "cell_type": "code",
   "execution_count": 36,
   "id": "08a37835-d07f-4c57-be37-29c95bcc7efd",
   "metadata": {
    "tags": []
   },
   "outputs": [
    {
     "name": "stdout",
     "output_type": "stream",
     "text": [
      "{'_id': ObjectId('65b0599d21071fe1a1f0ee2e'), 'Name': 'Raj Kumar', 'Address': 'Sears Steer, NZ', 'Age': '42'}\n"
     ]
    }
   ],
   "source": [
    "x = employee.find_one()\n",
    "print(x)"
   ]
  },
  {
   "cell_type": "code",
   "execution_count": 37,
   "id": "3e7ed002-533f-41dd-82fe-ee2906b81cc2",
   "metadata": {
    "tags": []
   },
   "outputs": [
    {
     "name": "stdout",
     "output_type": "stream",
     "text": [
      "{'_id': ObjectId('65b0599d21071fe1a1f0ee2e'), 'Name': 'Raj Kumar', 'Address': 'Sears Steer, NZ', 'Age': '42'}\n",
      "{'_id': ObjectId('65b059e2a5a468808bb0032b'), 'Name': 'Raj Kumar', 'Address': 'Sears Steer, NZ', 'Age': '42'}\n",
      "{'_id': 1, 'name': 'John', 'address': 'Highway 37'}\n",
      "{'_id': 2, 'name': 'Peter', 'address': 'Lowstreet 27'}\n",
      "{'_id': 3, 'name': 'Amy', 'address': 'Close st 652'}\n",
      "{'_id': 4, 'name': 'Hannah', 'address': 'Mountain 21'}\n",
      "{'_id': 5, 'name': 'Michael', 'address': 'Valley 345'}\n",
      "{'_id': 6, 'name': 'Vicky', 'address': 'Yellow Garden 124'}\n",
      "{'_id': 7, 'name': 'Nicky', 'address': 'Yellow Garden 23'}\n",
      "{'_id': 8, 'name': 'Nancy', 'address': 'Younge Ave. 123'}\n",
      "{'_id': 9, 'name': 'Viola', 'address': 'Sideway Ave'}\n"
     ]
    }
   ],
   "source": [
    "for x in employee.find():\n",
    "    print(x)"
   ]
  },
  {
   "cell_type": "code",
   "execution_count": 38,
   "id": "0b6cd422-5cdf-494d-bc50-948da85855cb",
   "metadata": {
    "tags": []
   },
   "outputs": [
    {
     "name": "stdout",
     "output_type": "stream",
     "text": [
      "{'_id': ObjectId('65b0599d21071fe1a1f0ee2e'), 'Name': 'Raj Kumar', 'Address': 'Sears Steer, NZ', 'Age': '42'}\n",
      "{'_id': ObjectId('65b059e2a5a468808bb0032b'), 'Name': 'Raj Kumar', 'Address': 'Sears Steer, NZ', 'Age': '42'}\n",
      "{'_id': 1, 'name': 'John', 'address': 'Highway 37'}\n",
      "{'_id': 2, 'name': 'Peter', 'address': 'Lowstreet 27'}\n",
      "{'_id': 3, 'name': 'Amy', 'address': 'Close st 652'}\n"
     ]
    }
   ],
   "source": [
    "myresult = employee.find().limit(5)\n",
    "\n",
    "# Print the result\n",
    "for x in myresult:\n",
    "    print(x)"
   ]
  },
  {
   "cell_type": "code",
   "execution_count": 39,
   "id": "b62bd5a2-88d3-48a2-9f63-3bd7c0d81e05",
   "metadata": {
    "tags": []
   },
   "outputs": [
    {
     "name": "stdout",
     "output_type": "stream",
     "text": [
      "{'_id': ObjectId('65b0599d21071fe1a1f0ee2e'), 'Name': 'Raj Kumar', 'Address': 'Sears Steer, NZ', 'Age': '42'}\n",
      "{'_id': ObjectId('65b059e2a5a468808bb0032b'), 'Name': 'Raj Kumar', 'Address': 'Sears Steer, NZ', 'Age': '42'}\n",
      "{'_id': 1, 'name': 'John', 'address': 'Highway 37'}\n",
      "{'_id': 2, 'name': 'Peter', 'address': 'Lowstreet 27'}\n",
      "{'_id': 3, 'name': 'Amy', 'address': 'Close st 652'}\n"
     ]
    }
   ],
   "source": [
    "myresult = employee.find()\n",
    "\n",
    "# Print the result\n",
    "for x in range(5):\n",
    "    print(myresult[x])"
   ]
  },
  {
   "cell_type": "code",
   "execution_count": 40,
   "id": "04e76133-e9e2-44b0-a4d1-de4cc50dbcf7",
   "metadata": {
    "tags": []
   },
   "outputs": [
    {
     "name": "stdout",
     "output_type": "stream",
     "text": [
      "{}\n",
      "{}\n",
      "{'name': 'John', 'address': 'Highway 37'}\n",
      "{'name': 'Peter', 'address': 'Lowstreet 27'}\n",
      "{'name': 'Amy', 'address': 'Close st 652'}\n",
      "{'name': 'Hannah', 'address': 'Mountain 21'}\n",
      "{'name': 'Michael', 'address': 'Valley 345'}\n",
      "{'name': 'Vicky', 'address': 'Yellow Garden 124'}\n",
      "{'name': 'Nicky', 'address': 'Yellow Garden 23'}\n",
      "{'name': 'Nancy', 'address': 'Younge Ave. 123'}\n",
      "{'name': 'Viola', 'address': 'Sideway Ave'}\n"
     ]
    }
   ],
   "source": [
    "for x in employee.find({}, {\"_id\": 0, \"name\": 1, \"address\": 1}):\n",
    "    print(x)"
   ]
  },
  {
   "cell_type": "code",
   "execution_count": 41,
   "id": "30db83bd-ac76-4fb6-ba07-61f2a62b9f84",
   "metadata": {
    "tags": []
   },
   "outputs": [
    {
     "name": "stdout",
     "output_type": "stream",
     "text": [
      "{}\n",
      "{}\n",
      "{'address': 'Highway 37'}\n",
      "{'address': 'Lowstreet 27'}\n",
      "{'address': 'Close st 652'}\n",
      "{'address': 'Mountain 21'}\n",
      "{'address': 'Valley 345'}\n",
      "{'address': 'Yellow Garden 124'}\n",
      "{'address': 'Yellow Garden 23'}\n",
      "{'address': 'Younge Ave. 123'}\n",
      "{'address': 'Sideway Ave'}\n"
     ]
    }
   ],
   "source": [
    "for x in employee.find({}, {\"_id\": 0, \"address\": 1}):\n",
    "    print(x)"
   ]
  },
  {
   "cell_type": "code",
   "execution_count": 42,
   "id": "76eda327-5858-4da7-9aa1-e2fb7d5ba165",
   "metadata": {
    "tags": []
   },
   "outputs": [
    {
     "name": "stdout",
     "output_type": "stream",
     "text": [
      "{'Name': 'Raj Kumar', 'Address': 'Sears Steer, NZ', 'Age': '42'}\n",
      "{'Name': 'Raj Kumar', 'Address': 'Sears Steer, NZ', 'Age': '42'}\n",
      "{'name': 'John', 'address': 'Highway 37'}\n",
      "{'name': 'Peter', 'address': 'Lowstreet 27'}\n",
      "{'name': 'Amy', 'address': 'Close st 652'}\n",
      "{'name': 'Hannah', 'address': 'Mountain 21'}\n",
      "{'name': 'Michael', 'address': 'Valley 345'}\n",
      "{'name': 'Vicky', 'address': 'Yellow Garden 124'}\n",
      "{'name': 'Nicky', 'address': 'Yellow Garden 23'}\n",
      "{'name': 'Nancy', 'address': 'Younge Ave. 123'}\n",
      "{'name': 'Viola', 'address': 'Sideway Ave'}\n"
     ]
    }
   ],
   "source": [
    "for x in employee.find({}, {\"_id\": 0}):\n",
    "    print(x)"
   ]
  },
  {
   "cell_type": "code",
   "execution_count": 44,
   "id": "308c1b7a-18d8-457d-9f8b-a7dbc145af15",
   "metadata": {
    "tags": []
   },
   "outputs": [
    {
     "name": "stdout",
     "output_type": "stream",
     "text": [
      "{'_id': 1, 'name': 'John', 'address': 'Highway 37'}\n"
     ]
    }
   ],
   "source": [
    "# Python MongoDB Query\n",
    "myquery = {\"address\": \"Highway 37\"}\n",
    "\n",
    "mydoc = employee.find(myquery)\n",
    "\n",
    "for x in mydoc:\n",
    "    print(x)"
   ]
  },
  {
   "cell_type": "code",
   "execution_count": 45,
   "id": "20f02168-ac97-4e92-a2ca-b1bcea31b715",
   "metadata": {
    "tags": []
   },
   "outputs": [
    {
     "name": "stdout",
     "output_type": "stream",
     "text": [
      "{'_id': 5, 'name': 'Michael', 'address': 'Valley 345'}\n"
     ]
    }
   ],
   "source": [
    "myquery = {\"address\": {\"$regex\": \"^V\"}}\n",
    "\n",
    "mydoc = employee.find(myquery)\n",
    "\n",
    "for x in mydoc:\n",
    "    print(x)"
   ]
  },
  {
   "cell_type": "code",
   "execution_count": 58,
   "id": "4a0f3ce1-fa98-465f-9d24-7c485b1e2d9f",
   "metadata": {
    "tags": []
   },
   "outputs": [
    {
     "name": "stdout",
     "output_type": "stream",
     "text": [
      "{'_id': 3, 'name': 'Amy', 'address': 'Close st 652'}\n",
      "{'_id': 5, 'name': 'Michael', 'address': 'Valley 345'}\n",
      "{'_id': 6, 'name': 'Vicky', 'address': 'Yellow Garden 124'}\n",
      "{'_id': 7, 'name': 'Nicky', 'address': 'Yellow Garden 23'}\n"
     ]
    }
   ],
   "source": [
    "myquery = {\"address\": {\"$regex\": \"l\"}}\n",
    "\n",
    "mydoc = employee.find(myquery)\n",
    "\n",
    "for x in mydoc:\n",
    "    print(x)"
   ]
  },
  {
   "cell_type": "code",
   "execution_count": 48,
   "id": "4fd340de-2049-43e6-b643-f984f2f953db",
   "metadata": {
    "tags": []
   },
   "outputs": [
    {
     "name": "stdout",
     "output_type": "stream",
     "text": [
      "{'_id': 6, 'name': 'Vicky', 'address': 'Yellow Garden 124'}\n",
      "{'_id': 7, 'name': 'Nicky', 'address': 'Yellow Garden 23'}\n",
      "{'_id': 8, 'name': 'Nancy', 'address': 'Younge Ave. 123'}\n",
      "{'_id': 9, 'name': 'Viola', 'address': 'Sideway Ave'}\n"
     ]
    }
   ],
   "source": [
    "myquery = {\"$or\" : [{\"address\": {\"$regex\": \"^Y\"}}, {\"address\": {\"$regex\": \"^S\"}}]}\n",
    "\n",
    "mydoc = employee.find(myquery)\n",
    "\n",
    "for x in mydoc:\n",
    "    print(x)"
   ]
  },
  {
   "cell_type": "code",
   "execution_count": 59,
   "id": "3c052527-be5e-4a72-9e4a-a236a330e359",
   "metadata": {
    "tags": []
   },
   "outputs": [
    {
     "name": "stdout",
     "output_type": "stream",
     "text": [
      "{'_id': 6, 'name': 'Vicky', 'address': 'Yellow Garden 124'}\n",
      "{'_id': 7, 'name': 'Nicky', 'address': 'Yellow Garden 23'}\n",
      "{'_id': 8, 'name': 'Nancy', 'address': 'Younge Ave. 123'}\n",
      "{'_id': 9, 'name': 'Viola', 'address': 'Sideway Ave'}\n"
     ]
    }
   ],
   "source": [
    "myquery = {\"address\": {\"$regex\": \"^Y|^S\"}}\n",
    "\n",
    "mydoc = employee.find(myquery)\n",
    "\n",
    "for x in mydoc:\n",
    "    print(x)"
   ]
  },
  {
   "cell_type": "code",
   "execution_count": 66,
   "id": "54512efc-90a5-405c-81eb-810ae0b067d3",
   "metadata": {
    "tags": []
   },
   "outputs": [
    {
     "name": "stdout",
     "output_type": "stream",
     "text": [
      "{'_id': 4, 'name': 'Hannah', 'address': 'Mountain 21'}\n",
      "{'_id': 6, 'name': 'Vicky', 'address': 'Yellow Garden 124'}\n",
      "{'_id': 7, 'name': 'Nicky', 'address': 'Yellow Garden 23'}\n",
      "{'_id': 8, 'name': 'Nancy', 'address': 'Younge Ave. 123'}\n",
      "{'_id': 9, 'name': 'Viola', 'address': 'Sideway Ave'}\n"
     ]
    }
   ],
   "source": [
    "myquery = {\"address\": {\"$regex\": \"^Y|^S|^M\"}}\n",
    "\n",
    "mydoc = employee.find(myquery)\n",
    "\n",
    "for x in mydoc:\n",
    "    print(x)"
   ]
  },
  {
   "cell_type": "code",
   "execution_count": 63,
   "id": "d278bee9-c8fb-40ae-985f-4fa3d5dd14d7",
   "metadata": {
    "tags": []
   },
   "outputs": [
    {
     "name": "stdout",
     "output_type": "stream",
     "text": [
      "{'_id': 6, 'name': 'Vicky', 'address': 'Yellow Garden 124'}\n",
      "{'_id': 7, 'name': 'Nicky', 'address': 'Yellow Garden 23'}\n"
     ]
    }
   ],
   "source": [
    "myquery = {\"$or\" : [{\"address\": {\"$regex\": \"^Y\"}}, {\"address\": {\"$regex\": \"^S\"}}]}\n",
    "\n",
    "mydoc = employee.find(myquery).limit(2)\n",
    "\n",
    "for x in mydoc:\n",
    "    print(x)"
   ]
  },
  {
   "cell_type": "code",
   "execution_count": 73,
   "id": "1a2de984-f144-459e-96ee-5d3e2301205d",
   "metadata": {
    "tags": []
   },
   "outputs": [
    {
     "name": "stdout",
     "output_type": "stream",
     "text": [
      "{'_id': 6, 'name': 'Vicky', 'address': 'Yellow Garden 124'}\n",
      "{'_id': 8, 'name': 'Nancy', 'address': 'Younge Ave. 123'}\n"
     ]
    }
   ],
   "source": [
    "myquery = {\"$and\" : [{\"address\": {\"$regex\": \"^Y\"}}, {\"address\": {\"$regex\": \"1\"}}]}\n",
    "\n",
    "mydoc = employee.find(myquery)\n",
    "\n",
    "for x in mydoc:\n",
    "    print(x)"
   ]
  },
  {
   "cell_type": "code",
   "execution_count": 74,
   "id": "8aac9069-293a-40c3-a99f-e5e56d0a68db",
   "metadata": {
    "tags": []
   },
   "outputs": [
    {
     "name": "stdout",
     "output_type": "stream",
     "text": [
      "{'_id': 8, 'name': 'Nancy', 'address': 'Younge Ave. 123'}\n"
     ]
    }
   ],
   "source": [
    "myquery = {\"$and\" : [{\"address\": {\"$regex\": \"^Y\"}}, {\"address\": {\"$regex\": \"1\"}}, {\"name\": {\"$regex\": \"^N\"}}]}\n",
    "\n",
    "mydoc = employee.find(myquery)\n",
    "\n",
    "for x in mydoc:\n",
    "    print(x)"
   ]
  },
  {
   "cell_type": "code",
   "execution_count": 77,
   "id": "42302c46-15ae-4a26-89a1-986263e6f500",
   "metadata": {
    "tags": []
   },
   "outputs": [
    {
     "name": "stdout",
     "output_type": "stream",
     "text": [
      "{'_id': 8, 'name': 'Nancy', 'address': 'Younge Ave. 123'}\n"
     ]
    }
   ],
   "source": [
    "myquery = {\"$and\" : [{\"address\": {\"$regex\": \"^Y\"}}, {\"address\": {\"$regex\": \"1\"}}, {\"name\": {\"$ne\": \"Vicky\"}}]}\n",
    "\n",
    "mydoc = employee.find(myquery)\n",
    "\n",
    "for x in mydoc:\n",
    "    print(x)"
   ]
  },
  {
   "cell_type": "code",
   "execution_count": 75,
   "id": "92a76f5c-0594-4211-9784-6f5cf8afd43b",
   "metadata": {
    "tags": []
   },
   "outputs": [
    {
     "name": "stdout",
     "output_type": "stream",
     "text": [
      "{'_id': 6, 'name': 'Vicky', 'address': 'Yellow Garden 124'}\n",
      "{'_id': 8, 'name': 'Nancy', 'address': 'Younge Ave. 123'}\n"
     ]
    }
   ],
   "source": [
    "myquery = {\"$and\" : [{\"address\": {\"$regex\": \"^Y\"}}, {\"address\": {\"$regex\": \"1\"}}, {\"name\": {\"$ne\": \"Nicky\"}}]}\n",
    "\n",
    "mydoc = employee.find(myquery)\n",
    "\n",
    "for x in mydoc:\n",
    "    print(x)"
   ]
  },
  {
   "cell_type": "code",
   "execution_count": 86,
   "id": "418dc1ed-cc8b-48d8-82ff-a85e59272e52",
   "metadata": {
    "tags": []
   },
   "outputs": [
    {
     "name": "stdout",
     "output_type": "stream",
     "text": [
      "{'_id': ObjectId('65b0599d21071fe1a1f0ee2e'), 'Name': 'Raj Kumar', 'Address': 'Sears Steer, NZ', 'Age': '42'}\n",
      "{'_id': ObjectId('65b059e2a5a468808bb0032b'), 'Name': 'Raj Kumar', 'Address': 'Sears Steer, NZ', 'Age': '42'}\n",
      "{'_id': 1, 'name': 'John', 'address': 'Highway 37'}\n",
      "{'_id': 2, 'name': 'Peter', 'address': 'Lowstreet 27'}\n",
      "{'_id': 3, 'name': 'Amy', 'address': 'Close st 652'}\n",
      "{'_id': 4, 'name': 'Hannah', 'address': 'Mountain 21'}\n",
      "{'_id': 5, 'name': 'Michael', 'address': 'Valley 345'}\n",
      "{'_id': 7, 'name': 'Nicky', 'address': 'Yellow Garden 23'}\n",
      "{'_id': 8, 'name': 'Nancy', 'address': 'Younge Ave. 123'}\n",
      "{'_id': 9, 'name': 'Viola', 'address': 'Sideway Ave'}\n"
     ]
    }
   ],
   "source": [
    "myquery = {\"name\" : {\"$ne\": \"Vicky\"}}\n",
    "\n",
    "mydoc = employee.find(myquery)\n",
    "\n",
    "for x in mydoc:\n",
    "    print(x)"
   ]
  },
  {
   "cell_type": "code",
   "execution_count": 78,
   "id": "228e12a3-8b6d-4e1d-8f9d-c2d9c860b6e4",
   "metadata": {
    "tags": []
   },
   "outputs": [
    {
     "name": "stdout",
     "output_type": "stream",
     "text": [
      "{'_id': 5, 'name': 'Michael', 'address': 'Valley 345'}\n",
      "{'_id': 6, 'name': 'Vicky', 'address': 'Yellow Garden 124'}\n",
      "{'_id': 7, 'name': 'Nicky', 'address': 'Yellow Garden 23'}\n",
      "{'_id': 8, 'name': 'Nancy', 'address': 'Younge Ave. 123'}\n",
      "{'_id': 9, 'name': 'Viola', 'address': 'Sideway Ave'}\n"
     ]
    }
   ],
   "source": [
    "myquery = {\"address\" : {\"$gt\": \"S\"}}\n",
    "\n",
    "mydoc = employee.find(myquery)\n",
    "\n",
    "for x in mydoc:\n",
    "    print(x)"
   ]
  },
  {
   "cell_type": "code",
   "execution_count": 87,
   "id": "73c611b6-d088-4a40-ae5f-13b565b0a52c",
   "metadata": {
    "tags": []
   },
   "outputs": [
    {
     "name": "stdout",
     "output_type": "stream",
     "text": [
      "{'_id': ObjectId('65b0599d21071fe1a1f0ee2e'), 'Name': 'Raj Kumar', 'Address': 'Sears Steer, NZ', 'Age': '42'}\n",
      "{'_id': ObjectId('65b059e2a5a468808bb0032b'), 'Name': 'Raj Kumar', 'Address': 'Sears Steer, NZ', 'Age': '42'}\n",
      "{'_id': 3, 'name': 'Amy', 'address': 'Close st 652'}\n",
      "{'_id': 4, 'name': 'Hannah', 'address': 'Mountain 21'}\n",
      "{'_id': 1, 'name': 'John', 'address': 'Highway 37'}\n",
      "{'_id': 5, 'name': 'Michael', 'address': 'Valley 345'}\n",
      "{'_id': 8, 'name': 'Nancy', 'address': 'Younge Ave. 123'}\n",
      "{'_id': 7, 'name': 'Nicky', 'address': 'Yellow Garden 23'}\n",
      "{'_id': 2, 'name': 'Peter', 'address': 'Lowstreet 27'}\n",
      "{'_id': 6, 'name': 'Vicky', 'address': 'Yellow Garden 124'}\n",
      "{'_id': 9, 'name': 'Viola', 'address': 'Sideway Ave'}\n"
     ]
    }
   ],
   "source": [
    "mydoc = employee.find().sort(\"name\")\n",
    "\n",
    "for x in mydoc:\n",
    "    print(x)"
   ]
  },
  {
   "cell_type": "code",
   "execution_count": 88,
   "id": "4e6beddd-a406-4249-b349-c55e63422f27",
   "metadata": {
    "tags": []
   },
   "outputs": [
    {
     "name": "stdout",
     "output_type": "stream",
     "text": [
      "{'_id': 9, 'name': 'Viola', 'address': 'Sideway Ave'}\n",
      "{'_id': 6, 'name': 'Vicky', 'address': 'Yellow Garden 124'}\n",
      "{'_id': 2, 'name': 'Peter', 'address': 'Lowstreet 27'}\n",
      "{'_id': 7, 'name': 'Nicky', 'address': 'Yellow Garden 23'}\n",
      "{'_id': 8, 'name': 'Nancy', 'address': 'Younge Ave. 123'}\n",
      "{'_id': 5, 'name': 'Michael', 'address': 'Valley 345'}\n",
      "{'_id': 1, 'name': 'John', 'address': 'Highway 37'}\n",
      "{'_id': 4, 'name': 'Hannah', 'address': 'Mountain 21'}\n",
      "{'_id': 3, 'name': 'Amy', 'address': 'Close st 652'}\n",
      "{'_id': ObjectId('65b0599d21071fe1a1f0ee2e'), 'Name': 'Raj Kumar', 'Address': 'Sears Steer, NZ', 'Age': '42'}\n",
      "{'_id': ObjectId('65b059e2a5a468808bb0032b'), 'Name': 'Raj Kumar', 'Address': 'Sears Steer, NZ', 'Age': '42'}\n"
     ]
    }
   ],
   "source": [
    "mydoc = employee.find().sort(\"name\", -1)\n",
    "\n",
    "for x in mydoc:\n",
    "    print(x)"
   ]
  },
  {
   "cell_type": "code",
   "execution_count": 95,
   "id": "8813675c-679e-489d-8f76-2e6268aded46",
   "metadata": {
    "tags": []
   },
   "outputs": [
    {
     "name": "stdout",
     "output_type": "stream",
     "text": [
      "{'_id': 5, 'name': 'Michael', 'address': 'Valley 345'}\n"
     ]
    }
   ],
   "source": [
    "# Run before Update\n",
    "myquery = {\"address\" : \"Valley 345\"}\n",
    "mydoc = employee.find(myquery)\n",
    "\n",
    "for x in mydoc:\n",
    "    print(x)"
   ]
  },
  {
   "cell_type": "code",
   "execution_count": 96,
   "id": "4cb7ac6b-eee4-47ee-9b6a-c9b9243d10df",
   "metadata": {
    "tags": []
   },
   "outputs": [
    {
     "data": {
      "text/plain": [
       "UpdateResult({'n': 1, 'nModified': 1, 'ok': 1.0, 'updatedExisting': True}, acknowledged=True)"
      ]
     },
     "execution_count": 96,
     "metadata": {},
     "output_type": "execute_result"
    }
   ],
   "source": [
    "myquery = {\"address\" : \"Valley 345\"}\n",
    "newvalues = {\"$set\" : {\"address\" : \"Canyon 123\"}}\n",
    "\n",
    "employee.update_one(myquery, newvalues)"
   ]
  },
  {
   "cell_type": "code",
   "execution_count": 97,
   "id": "3efc5480-90a2-4408-a615-efefc8ac277f",
   "metadata": {
    "tags": []
   },
   "outputs": [
    {
     "name": "stdout",
     "output_type": "stream",
     "text": [
      "{'_id': 5, 'name': 'Michael', 'address': 'Canyon 123'}\n"
     ]
    }
   ],
   "source": [
    "# Print after the update\n",
    "myquery = {\"address\" : \"Canyon 123\"}\n",
    "\n",
    "mydoc = employee.find(myquery)\n",
    "\n",
    "for x in mydoc:\n",
    "    print(x)"
   ]
  },
  {
   "cell_type": "code",
   "execution_count": 98,
   "id": "f2c8719e-2f0f-47f1-b67d-4d0c86765b61",
   "metadata": {
    "tags": []
   },
   "outputs": [
    {
     "name": "stdout",
     "output_type": "stream",
     "text": [
      "{'_id': ObjectId('65b0599d21071fe1a1f0ee2e'), 'Name': 'Raj Kumar', 'Address': 'Sears Steer, NZ', 'Age': '42'}\n",
      "{'_id': ObjectId('65b059e2a5a468808bb0032b'), 'Name': 'Raj Kumar', 'Address': 'Sears Steer, NZ', 'Age': '42'}\n",
      "{'_id': 1, 'name': 'John', 'address': 'Highway 37'}\n",
      "{'_id': 2, 'name': 'Peter', 'address': 'Lowstreet 27'}\n",
      "{'_id': 3, 'name': 'Amy', 'address': 'Close st 652'}\n",
      "{'_id': 4, 'name': 'Hannah', 'address': 'Mountain 21'}\n",
      "{'_id': 5, 'name': 'Michael', 'address': 'Canyon 123'}\n",
      "{'_id': 6, 'name': 'Vicky', 'address': 'Yellow Garden 124'}\n",
      "{'_id': 7, 'name': 'Nicky', 'address': 'Yellow Garden 23'}\n",
      "{'_id': 8, 'name': 'Nancy', 'address': 'Younge Ave. 123'}\n",
      "{'_id': 9, 'name': 'Viola', 'address': 'Sideway Ave'}\n"
     ]
    }
   ],
   "source": [
    "mydoc = employee.find()\n",
    "\n",
    "for x in mydoc:\n",
    "    print(x)"
   ]
  },
  {
   "cell_type": "code",
   "execution_count": 100,
   "id": "6c09ea5b-de0d-4082-98a3-069a5b315d7c",
   "metadata": {
    "tags": []
   },
   "outputs": [
    {
     "name": "stdout",
     "output_type": "stream",
     "text": [
      "{'_id': 3, 'name': 'Amy', 'address': 'Close st 652'}\n",
      "{'_id': 5, 'name': 'Michael', 'address': 'Canyon 123'}\n"
     ]
    }
   ],
   "source": [
    "# Run before Update many\n",
    "myquery = {\"address\" : {\"$regex\" : \"^C\"}}\n",
    "mydoc = employee.find(myquery)\n",
    "\n",
    "for x in mydoc:\n",
    "    print(x)"
   ]
  },
  {
   "cell_type": "code",
   "execution_count": 101,
   "id": "6e78e928-5d1e-4db9-8c32-b450bd510513",
   "metadata": {
    "tags": []
   },
   "outputs": [
    {
     "name": "stdout",
     "output_type": "stream",
     "text": [
      "2  documents upadated.\n"
     ]
    }
   ],
   "source": [
    "# Updating many accounts\n",
    "\n",
    "myquery = {\"address\" : {\"$regex\" : \"^C\"}}\n",
    "newvalues = {\"$set\" : {\"name\" : \"Minnie\"}}\n",
    "\n",
    "x = employee.update_many(myquery, newvalues)\n",
    "\n",
    "print(x.modified_count, \" documents upadated.\")"
   ]
  },
  {
   "cell_type": "code",
   "execution_count": 103,
   "id": "26e9e2e7-869b-448a-b2ff-8bbef53f2371",
   "metadata": {
    "tags": []
   },
   "outputs": [
    {
     "name": "stdout",
     "output_type": "stream",
     "text": [
      "{'_id': 3, 'name': 'Minnie', 'address': 'Close st 652'}\n",
      "{'_id': 5, 'name': 'Minnie', 'address': 'Canyon 123'}\n"
     ]
    }
   ],
   "source": [
    "# Run after Update many\n",
    "myquery = {\"name\" : \"Minnie\"}\n",
    "mydoc = employee.find(myquery)\n",
    "\n",
    "for x in mydoc:\n",
    "    print(x)"
   ]
  },
  {
   "cell_type": "code",
   "execution_count": 107,
   "id": "1565018a-4a61-437c-9bd3-dfcc4412e5aa",
   "metadata": {
    "tags": []
   },
   "outputs": [
    {
     "data": {
      "text/plain": [
       "UpdateResult({'n': 11, 'nModified': 9, 'ok': 1.0, 'updatedExisting': True}, acknowledged=True)"
      ]
     },
     "execution_count": 107,
     "metadata": {},
     "output_type": "execute_result"
    }
   ],
   "source": [
    "# Update Field Name\n",
    "employee.update_many({ },{\"$rename\": { \"address\": \"home_address\" }})"
   ]
  },
  {
   "cell_type": "code",
   "execution_count": 108,
   "id": "4be39644-93ac-41d3-8ed9-ee2963df7f13",
   "metadata": {
    "tags": []
   },
   "outputs": [
    {
     "name": "stdout",
     "output_type": "stream",
     "text": [
      "{'_id': ObjectId('65b0599d21071fe1a1f0ee2e'), 'Name': 'Raj Kumar', 'Address': 'Sears Steer, NZ', 'Age': '42'}\n",
      "{'_id': ObjectId('65b059e2a5a468808bb0032b'), 'Name': 'Raj Kumar', 'Address': 'Sears Steer, NZ', 'Age': '42'}\n",
      "{'_id': 1, 'name': 'John', 'home_address': 'Highway 37'}\n",
      "{'_id': 2, 'name': 'Peter', 'home_address': 'Lowstreet 27'}\n",
      "{'_id': 3, 'name': 'Minnie', 'home_address': 'Close st 652'}\n",
      "{'_id': 4, 'name': 'Hannah', 'home_address': 'Mountain 21'}\n",
      "{'_id': 5, 'name': 'Minnie', 'home_address': 'Canyon 123'}\n",
      "{'_id': 6, 'name': 'Vicky', 'home_address': 'Yellow Garden 124'}\n",
      "{'_id': 7, 'name': 'Nicky', 'home_address': 'Yellow Garden 23'}\n",
      "{'_id': 8, 'name': 'Nancy', 'home_address': 'Younge Ave. 123'}\n",
      "{'_id': 9, 'name': 'Viola', 'home_address': 'Sideway Ave'}\n"
     ]
    }
   ],
   "source": [
    "mydoc = employee.find()\n",
    "\n",
    "for x in mydoc:\n",
    "    print(x)"
   ]
  },
  {
   "cell_type": "code",
   "execution_count": 110,
   "id": "2100f365-fffa-48b2-8b03-23eff7423078",
   "metadata": {
    "tags": []
   },
   "outputs": [],
   "source": [
    "# Make a duplicate copy of the collection and assign your name to it\n",
    "db.rajat = db.employee"
   ]
  },
  {
   "cell_type": "code",
   "execution_count": 113,
   "id": "af9c4875-642d-4a1b-9215-1b70f0e35050",
   "metadata": {
    "tags": []
   },
   "outputs": [],
   "source": [
    "rajat = db.rajat"
   ]
  },
  {
   "cell_type": "code",
   "execution_count": 114,
   "id": "68d6e14e-e794-45e1-8584-6c15e886f49a",
   "metadata": {
    "tags": []
   },
   "outputs": [
    {
     "name": "stdout",
     "output_type": "stream",
     "text": [
      "['employee']\n"
     ]
    }
   ],
   "source": [
    "print(db.list_collection_names())"
   ]
  },
  {
   "cell_type": "code",
   "execution_count": 115,
   "id": "e581cca7-f9d6-40b6-8597-f0bc8767d879",
   "metadata": {
    "tags": []
   },
   "outputs": [
    {
     "name": "stdout",
     "output_type": "stream",
     "text": [
      "{'_id': ObjectId('65b0599d21071fe1a1f0ee2e'), 'Name': 'Raj Kumar', 'Address': 'Sears Steer, NZ', 'Age': '42'}\n",
      "{'_id': ObjectId('65b059e2a5a468808bb0032b'), 'Name': 'Raj Kumar', 'Address': 'Sears Steer, NZ', 'Age': '42'}\n",
      "{'_id': 1, 'name': 'John', 'home_address': 'Highway 37'}\n",
      "{'_id': 2, 'name': 'Peter', 'home_address': 'Lowstreet 27'}\n",
      "{'_id': 3, 'name': 'Minnie', 'home_address': 'Close st 652'}\n",
      "{'_id': 4, 'name': 'Hannah', 'home_address': 'Mountain 21'}\n",
      "{'_id': 5, 'name': 'Minnie', 'home_address': 'Canyon 123'}\n",
      "{'_id': 6, 'name': 'Vicky', 'home_address': 'Yellow Garden 124'}\n",
      "{'_id': 7, 'name': 'Nicky', 'home_address': 'Yellow Garden 23'}\n",
      "{'_id': 8, 'name': 'Nancy', 'home_address': 'Younge Ave. 123'}\n",
      "{'_id': 9, 'name': 'Viola', 'home_address': 'Sideway Ave'}\n"
     ]
    }
   ],
   "source": [
    "mydoc = rajat.find()\n",
    "\n",
    "for x in mydoc:\n",
    "    print(x)"
   ]
  },
  {
   "cell_type": "code",
   "execution_count": 116,
   "id": "20abfe80-b339-404c-83e9-808e1dc336a4",
   "metadata": {
    "tags": []
   },
   "outputs": [
    {
     "name": "stdout",
     "output_type": "stream",
     "text": [
      "['employee']\n"
     ]
    }
   ],
   "source": [
    "print(db.list_collection_names())"
   ]
  },
  {
   "cell_type": "code",
   "execution_count": null,
   "id": "2700958e-80cc-4b75-99ce-d8c7fe36b75d",
   "metadata": {},
   "outputs": [],
   "source": [
    "{\"Age\": '35'}"
   ]
  },
  {
   "cell_type": "code",
   "execution_count": 120,
   "id": "6e78e059-51da-4dd6-8297-fad5d0a53cb4",
   "metadata": {
    "tags": []
   },
   "outputs": [
    {
     "name": "stdout",
     "output_type": "stream",
     "text": [
      "{'_id': ObjectId('65b0599d21071fe1a1f0ee2e'), 'Name': 'Raj Kumar', 'Address': 'Sears Steer, NZ', 'Age': '42'}\n",
      "{'_id': ObjectId('65b059e2a5a468808bb0032b'), 'Name': 'Raj Kumar', 'Address': 'Sears Steer, NZ', 'Age': '42'}\n"
     ]
    }
   ],
   "source": [
    "# Before deletion\n",
    "myquery = {\"Age\": '42'}\n",
    "mydoc = employee.find(myquery)\n",
    "\n",
    "for x in mydoc:\n",
    "    print(x)"
   ]
  },
  {
   "cell_type": "code",
   "execution_count": 121,
   "id": "d86b0bf2-ed5d-4481-8834-061248049f05",
   "metadata": {
    "tags": []
   },
   "outputs": [
    {
     "data": {
      "text/plain": [
       "DeleteResult({'n': 1, 'ok': 1.0}, acknowledged=True)"
      ]
     },
     "execution_count": 121,
     "metadata": {},
     "output_type": "execute_result"
    }
   ],
   "source": [
    "# Delete one\n",
    "db.employee.delete_one({\"Age\": '42'})"
   ]
  },
  {
   "cell_type": "code",
   "execution_count": 123,
   "id": "3735a5c1-b78b-40ef-9020-ae75b89f8a3d",
   "metadata": {
    "tags": []
   },
   "outputs": [
    {
     "name": "stdout",
     "output_type": "stream",
     "text": [
      "{'_id': ObjectId('65b059e2a5a468808bb0032b'), 'Name': 'Raj Kumar', 'Address': 'Sears Steer, NZ', 'Age': '42'}\n"
     ]
    }
   ],
   "source": [
    "# After deletion of one\n",
    "myquery = {\"Age\": '42'}\n",
    "mydoc = employee.find(myquery)\n",
    "\n",
    "for x in mydoc:\n",
    "    print(x)"
   ]
  },
  {
   "cell_type": "code",
   "execution_count": 132,
   "id": "cf4b91e7-ee3e-47f2-a8a2-aa0bd6a2da65",
   "metadata": {
    "tags": []
   },
   "outputs": [
    {
     "name": "stdout",
     "output_type": "stream",
     "text": [
      "{'_id': ObjectId('65b059e2a5a468808bb0032b'), 'Name': 'Raj Kumar', 'Address': 'Sears Steer, NZ', 'Age': '42'}\n",
      "{'_id': 1, 'name': 'John', 'home_address': 'Highway 37'}\n",
      "{'_id': 2, 'name': 'Peter', 'home_address': 'Lowstreet 27'}\n",
      "{'_id': 3, 'name': 'Minnie', 'home_address': 'Close st 652'}\n",
      "{'_id': 4, 'name': 'Hannah', 'home_address': 'Mountain 21'}\n",
      "{'_id': 5, 'name': 'Minnie', 'home_address': 'Canyon 123'}\n",
      "{'_id': 6, 'name': 'Vicky', 'home_address': 'Yellow Garden 124'}\n",
      "{'_id': 7, 'name': 'Nicky', 'home_address': 'Yellow Garden 23'}\n",
      "{'_id': 8, 'name': 'Nancy', 'home_address': 'Younge Ave. 123'}\n",
      "{'_id': 9, 'name': 'Viola', 'home_address': 'Sideway Ave'}\n"
     ]
    }
   ],
   "source": [
    "# Before delete many\n",
    "#myquery = {\"address\" : {\"$regex\" : \"^Y\"}}\n",
    "mydoc = employee.find()\n",
    "\n",
    "for x in mydoc:\n",
    "    print(x)"
   ]
  },
  {
   "cell_type": "code",
   "execution_count": 135,
   "id": "3d6e8ac5-3737-4e99-a09b-a1d5d8a33849",
   "metadata": {
    "tags": []
   },
   "outputs": [],
   "source": [
    "myquery = {\"address\" : {\"$regex\" : \"^Y\"}}\n",
    "x = employee.delete_many(myquery)"
   ]
  },
  {
   "cell_type": "code",
   "execution_count": 136,
   "id": "822ae349-0df3-4741-a9fd-4892411c2a81",
   "metadata": {
    "tags": []
   },
   "outputs": [
    {
     "name": "stdout",
     "output_type": "stream",
     "text": [
      "0  documents deleted!\n"
     ]
    }
   ],
   "source": [
    "print(x.deleted_count, \" documents deleted!\")"
   ]
  },
  {
   "cell_type": "code",
   "execution_count": 137,
   "id": "267d4da5-36d5-4786-ba30-3727e2b90486",
   "metadata": {
    "tags": []
   },
   "outputs": [
    {
     "name": "stdout",
     "output_type": "stream",
     "text": [
      "{'_id': ObjectId('65b059e2a5a468808bb0032b'), 'Name': 'Raj Kumar', 'Address': 'Sears Steer, NZ', 'Age': '42'}\n",
      "{'_id': 1, 'name': 'John', 'home_address': 'Highway 37'}\n",
      "{'_id': 2, 'name': 'Peter', 'home_address': 'Lowstreet 27'}\n",
      "{'_id': 3, 'name': 'Minnie', 'home_address': 'Close st 652'}\n",
      "{'_id': 4, 'name': 'Hannah', 'home_address': 'Mountain 21'}\n",
      "{'_id': 5, 'name': 'Minnie', 'home_address': 'Canyon 123'}\n",
      "{'_id': 6, 'name': 'Vicky', 'home_address': 'Yellow Garden 124'}\n",
      "{'_id': 7, 'name': 'Nicky', 'home_address': 'Yellow Garden 23'}\n",
      "{'_id': 8, 'name': 'Nancy', 'home_address': 'Younge Ave. 123'}\n",
      "{'_id': 9, 'name': 'Viola', 'home_address': 'Sideway Ave'}\n"
     ]
    }
   ],
   "source": [
    "mydoc = employee.find()\n",
    "\n",
    "for x in mydoc:\n",
    "    print(x)"
   ]
  },
  {
   "cell_type": "code",
   "execution_count": 140,
   "id": "ab3b65b2-9baf-4c32-9e92-593022d165ee",
   "metadata": {
    "tags": []
   },
   "outputs": [
    {
     "data": {
      "text/plain": [
       "UpdateResult({'n': 10, 'nModified': 9, 'ok': 1.0, 'updatedExisting': True}, acknowledged=True)"
      ]
     },
     "execution_count": 140,
     "metadata": {},
     "output_type": "execute_result"
    }
   ],
   "source": [
    "# Delete Field Name\n",
    "employee.update_many({}, { \"$unset\": { \"home_address\": \"\" } })"
   ]
  },
  {
   "cell_type": "code",
   "execution_count": 141,
   "id": "0700c40f-c0e1-4fbb-ae1e-ae8bddd4e084",
   "metadata": {
    "tags": []
   },
   "outputs": [
    {
     "name": "stdout",
     "output_type": "stream",
     "text": [
      "{'_id': ObjectId('65b059e2a5a468808bb0032b'), 'Name': 'Raj Kumar', 'Address': 'Sears Steer, NZ', 'Age': '42'}\n",
      "{'_id': 1, 'name': 'John'}\n",
      "{'_id': 2, 'name': 'Peter'}\n",
      "{'_id': 3, 'name': 'Minnie'}\n",
      "{'_id': 4, 'name': 'Hannah'}\n",
      "{'_id': 5, 'name': 'Minnie'}\n",
      "{'_id': 6, 'name': 'Vicky'}\n",
      "{'_id': 7, 'name': 'Nicky'}\n",
      "{'_id': 8, 'name': 'Nancy'}\n",
      "{'_id': 9, 'name': 'Viola'}\n"
     ]
    }
   ],
   "source": [
    "mydoc = employee.find()\n",
    "\n",
    "for x in mydoc:\n",
    "    print(x)"
   ]
  },
  {
   "cell_type": "code",
   "execution_count": 142,
   "id": "363f7c5c-2113-413e-9b3d-0588babdad14",
   "metadata": {
    "tags": []
   },
   "outputs": [
    {
     "name": "stdout",
     "output_type": "stream",
     "text": [
      "0  documetms deleted!\n"
     ]
    }
   ],
   "source": [
    "# Delete Many Queries\n",
    "myquery = {\"address\" : {\"$regex\" : \"^Y\"}}\n",
    "\n",
    "x = employee.delete_many(myquery)\n",
    "\n",
    "print(x.deleted_count, \" documetms deleted!\")"
   ]
  },
  {
   "cell_type": "code",
   "execution_count": 143,
   "id": "d68f2b6c-a262-4d3f-b008-ae8378a222fa",
   "metadata": {
    "tags": []
   },
   "outputs": [
    {
     "name": "stdout",
     "output_type": "stream",
     "text": [
      "10  documents deleted\n"
     ]
    }
   ],
   "source": [
    "x = employee.delete_many({})\n",
    "\n",
    "print(x.deleted_count, \" documents deleted\")"
   ]
  },
  {
   "cell_type": "code",
   "execution_count": 144,
   "id": "e9e86a8e-2a93-4ee7-903e-48cb3e68c392",
   "metadata": {
    "tags": []
   },
   "outputs": [],
   "source": [
    "mydoc = employee.find()\n",
    "\n",
    "for x in mydoc:\n",
    "    print(x)"
   ]
  },
  {
   "cell_type": "code",
   "execution_count": 145,
   "id": "aa3c83ce-0c97-467e-ab59-210cba7bc125",
   "metadata": {
    "tags": []
   },
   "outputs": [],
   "source": [
    "employee.drop()"
   ]
  },
  {
   "cell_type": "code",
   "execution_count": 146,
   "id": "943e18d5-665c-4271-a253-f1511086e6cf",
   "metadata": {
    "tags": []
   },
   "outputs": [
    {
     "name": "stdout",
     "output_type": "stream",
     "text": [
      "[]\n"
     ]
    }
   ],
   "source": [
    "print(db.list_collection_names())"
   ]
  },
  {
   "cell_type": "code",
   "execution_count": null,
   "id": "9b454729-fe94-485e-8cb6-c287dc5b4590",
   "metadata": {},
   "outputs": [],
   "source": []
  }
 ],
 "metadata": {
  "kernelspec": {
   "display_name": "Python 3 (ipykernel)",
   "language": "python",
   "name": "python3"
  },
  "language_info": {
   "codemirror_mode": {
    "name": "ipython",
    "version": 3
   },
   "file_extension": ".py",
   "mimetype": "text/x-python",
   "name": "python",
   "nbconvert_exporter": "python",
   "pygments_lexer": "ipython3",
   "version": "3.11.4"
  }
 },
 "nbformat": 4,
 "nbformat_minor": 5
}
