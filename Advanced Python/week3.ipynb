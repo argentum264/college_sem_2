{
 "cells": [
  {
   "cell_type": "markdown",
   "id": "8b712f90-c86c-4193-9d5b-e1a31459793e",
   "metadata": {},
   "source": [
    "# <center> Rajat Kumar | C0912858 | Week 3"
   ]
  },
  {
   "cell_type": "markdown",
   "id": "1619c9e7-bd60-4ce1-b61e-8131087e4ada",
   "metadata": {},
   "source": [
    "# Answer 1"
   ]
  },
  {
   "cell_type": "code",
   "execution_count": 19,
   "id": "4b5f71ef-1f65-4821-af0e-1d90c50965b3",
   "metadata": {},
   "outputs": [],
   "source": [
    "# 1-Write a Python program to find 4 numbers from an array such that the sum of 4 numbers equal to a given number.\n",
    "# Input : [1, 0, -1, 0, -2, 2,10,11], 0)\n",
    "# Output : [[-2, -1, 1, 2], [-2, 0, 0, 2], [-1, 0, 0, 1]]"
   ]
  },
  {
   "cell_type": "code",
   "execution_count": 23,
   "id": "b373ce6c-8264-4131-bf7b-6c83d53f28f6",
   "metadata": {
    "tags": []
   },
   "outputs": [
    {
     "name": "stdout",
     "output_type": "stream",
     "text": [
      "[[1, 0, -1, 0], [1, -1, -2, 2], [0, 0, -2, 2]]\n"
     ]
    }
   ],
   "source": [
    "def num_4(arr, sum_val):\n",
    "    n = len(arr)\n",
    "    final_list = []\n",
    "    for i in range(n - 3):\n",
    "        for j in range(i + 1, n - 2):\n",
    "            for k in range(j + 1, n - 1):\n",
    "                for l in range(k + 1, n):\n",
    "                    current_sum = arr[i] + arr[j] + arr[k] + arr[l]\n",
    "                    if current_sum == sum_val:\n",
    "                        final_list.append([arr[i], arr[j], arr[k], arr[l]])\n",
    "\n",
    "    return final_list\n",
    "\n",
    "numbers = [1, 0, -1, 0, -2, 2,10,11]\n",
    "sum_val = 0\n",
    "\n",
    "result = num_4(numbers, sum_val)\n",
    "print(result)"
   ]
  },
  {
   "cell_type": "markdown",
   "id": "a460a980-cfef-4044-b40b-214844c0dd35",
   "metadata": {},
   "source": [
    "# Answer 2"
   ]
  },
  {
   "cell_type": "code",
   "execution_count": 1,
   "id": "85e188a8-0260-4ea9-9f9e-c53883177fda",
   "metadata": {
    "tags": []
   },
   "outputs": [],
   "source": [
    "# 2-Write a Python program to find the single element appears once in a list where every element appears multiple times except for one. \n",
    "# Input : [1, 1, 1, 2, 2, 2, 3]\n",
    "# Output : 3"
   ]
  },
  {
   "cell_type": "code",
   "execution_count": 5,
   "id": "470fad28-061d-42a1-86a8-f526173c9f53",
   "metadata": {
    "tags": []
   },
   "outputs": [
    {
     "name": "stdout",
     "output_type": "stream",
     "text": [
      "3 occurred just once in the given list\n"
     ]
    }
   ],
   "source": [
    "def if_one(li):\n",
    "    for i in li:\n",
    "        if li.count(i) == 1:\n",
    "            print(f'{i} occurred just once in the given list')\n",
    "        \n",
    "number = if_one([1, 1, 1, 2, 2, 2, 3])"
   ]
  },
  {
   "cell_type": "markdown",
   "id": "8515ad0d-6447-4ebd-8107-b2a7f77548df",
   "metadata": {},
   "source": [
    "# Answer 3"
   ]
  },
  {
   "cell_type": "code",
   "execution_count": 6,
   "id": "86ceec9e-3f1d-4ce3-b525-dd16bfb1b26b",
   "metadata": {
    "tags": []
   },
   "outputs": [],
   "source": [
    "# 3-Write a Python program to add the digits of a positive integer repeatedly until the result has a single digit. \n",
    "# Input : 48\n",
    "# Output : 3\n",
    "# For example given number is 59, the result will be 5.\n",
    "# Step 1: 5 + 9 = 14\n",
    "# Step 1: 1 + 4 = 5"
   ]
  },
  {
   "cell_type": "code",
   "execution_count": 18,
   "id": "f8a93d4e-451a-4d6f-8490-0446e58a75c2",
   "metadata": {},
   "outputs": [
    {
     "name": "stdout",
     "output_type": "stream",
     "text": [
      "9\n"
     ]
    }
   ],
   "source": [
    "# Using Recursion\n",
    "def sum_till_one(num):\n",
    "    if int(num/10) == 0:\n",
    "        return num\n",
    "    sum_val = 0\n",
    "    while num != 0:\n",
    "        sum_val += int(num%10)\n",
    "        num /= 10\n",
    "    return sum_till_one(sum_val)\n",
    "    \n",
    "number = sum_till_one(555555555)\n",
    "print(number)"
   ]
  },
  {
   "cell_type": "code",
   "execution_count": null,
   "id": "fc532373-3522-402d-ba89-358fa6d8383c",
   "metadata": {},
   "outputs": [],
   "source": []
  }
 ],
 "metadata": {
  "kernelspec": {
   "display_name": "Python 3 (ipykernel)",
   "language": "python",
   "name": "python3"
  },
  "language_info": {
   "codemirror_mode": {
    "name": "ipython",
    "version": 3
   },
   "file_extension": ".py",
   "mimetype": "text/x-python",
   "name": "python",
   "nbconvert_exporter": "python",
   "pygments_lexer": "ipython3",
   "version": "3.11.4"
  }
 },
 "nbformat": 4,
 "nbformat_minor": 5
}
