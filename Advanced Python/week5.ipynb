{
 "cells": [
  {
   "cell_type": "markdown",
   "id": "1c5101d2-b340-4212-8728-453941d4bb5e",
   "metadata": {},
   "source": [
    "# <center> Rajat Kumar | C0912858 | Week 5"
   ]
  },
  {
   "cell_type": "markdown",
   "id": "b73048ca-8507-4488-97e9-42a635dfb60a",
   "metadata": {},
   "source": [
    "You are given a 0-indexed binary string s having an even length.\n",
    "\n",
    "A string is beautiful if it's possible to partition it into one or more substrings such that:\n",
    "\n",
    "Each substring has an even length.\n",
    "Each substring contains only 1's or only 0's.\n",
    "You can change any character in s to 0 or 1.\n",
    "\n",
    "Return the minimum number of changes required to make the string s beautiful."
   ]
  },
  {
   "cell_type": "code",
   "execution_count": 1,
   "id": "aa8c5cbc-e225-412c-9fd8-58b3ee4fddcf",
   "metadata": {
    "tags": []
   },
   "outputs": [],
   "source": [
    "# Answer 1"
   ]
  },
  {
   "cell_type": "code",
   "execution_count": 4,
   "id": "19139205-2a39-4809-93b8-fae1deba2591",
   "metadata": {
    "tags": []
   },
   "outputs": [
    {
     "name": "stdout",
     "output_type": "stream",
     "text": [
      "2\n",
      "1\n",
      "0\n"
     ]
    }
   ],
   "source": [
    "def beautiful(string):\n",
    "    count_1 = 0\n",
    "    count_0 = 0\n",
    "    for i in range(len(string)):\n",
    "        if string[i] == '1':\n",
    "            count_1 += 1\n",
    "        else:\n",
    "            count_0 += 1\n",
    "    \n",
    "    return min(count_1, count_0)\n",
    "\n",
    "print(beautiful(\"1001\"))\n",
    "print(beautiful(\"10\"))\n",
    "print(beautiful(\"0000\"))"
   ]
  },
  {
   "cell_type": "markdown",
   "id": "68fccb44-6012-48cf-b618-242941ea97a3",
   "metadata": {},
   "source": [
    "Write a Python program to find all the numbers from 0-9 from a string:\n",
    "\n",
    "input: '89ADFRE41'\n",
    "\n",
    "Output :[8941]"
   ]
  },
  {
   "cell_type": "code",
   "execution_count": 9,
   "id": "9191119f-e25c-4e15-884b-b52aecdb570f",
   "metadata": {
    "tags": []
   },
   "outputs": [],
   "source": [
    "# Answer 2"
   ]
  },
  {
   "cell_type": "code",
   "execution_count": 13,
   "id": "dfa085d5-f3b0-47ce-a5c0-b18d4c2f5f40",
   "metadata": {
    "tags": []
   },
   "outputs": [
    {
     "name": "stdout",
     "output_type": "stream",
     "text": [
      "8941\n"
     ]
    }
   ],
   "source": [
    "def numbers(string):\n",
    "    numeric = ''\n",
    "    for i in string:\n",
    "        if i.isnumeric():\n",
    "            numeric += i\n",
    "    \n",
    "    return numeric\n",
    "\n",
    "print(numbers(\"89ADFRE41\"))"
   ]
  },
  {
   "cell_type": "markdown",
   "id": "426f6264-666f-44d3-8fad-5d426a14f2b1",
   "metadata": {},
   "source": [
    "Write a Python program to find two elements once in a list where every element appears exactly n times in the list. \n",
    "Input : [1, 2, 1, 3, 2, 5], 2    (n=2)\n",
    "Output :[5, 3]"
   ]
  },
  {
   "cell_type": "code",
   "execution_count": 30,
   "id": "5e5ac33b-708c-4e8a-bb27-89165f565253",
   "metadata": {
    "tags": []
   },
   "outputs": [],
   "source": [
    "# Answer 3"
   ]
  },
  {
   "cell_type": "code",
   "execution_count": 16,
   "id": "09f84f27-f31b-4954-9549-6fb2591a06ae",
   "metadata": {
    "tags": []
   },
   "outputs": [
    {
     "name": "stdout",
     "output_type": "stream",
     "text": [
      "[3, 5]\n"
     ]
    }
   ],
   "source": [
    "def different(li, freq):\n",
    "    output = []\n",
    "    for i in li:\n",
    "        if li.count(i) != freq:\n",
    "            output.append(i)\n",
    "    \n",
    "    return output\n",
    "\n",
    "print(different([1, 2, 1, 3, 2, 5], 2))"
   ]
  },
  {
   "cell_type": "markdown",
   "id": "8b4c1985-9ea1-48ad-9ae4-636e3a181045",
   "metadata": {},
   "source": [
    "Write a Python program to reverse the digits of an integer. \n",
    "* Input : 234\n",
    "* Input : -234\n",
    "* Output: 432\n",
    "* Output : -432"
   ]
  },
  {
   "cell_type": "code",
   "execution_count": 31,
   "id": "499a73cc-eb82-46e0-9d89-68cf1a79459a",
   "metadata": {
    "tags": []
   },
   "outputs": [],
   "source": [
    "# Answer 4"
   ]
  },
  {
   "cell_type": "code",
   "execution_count": 29,
   "id": "85e3f1fc-c153-4724-8348-e9dd5663bea8",
   "metadata": {
    "tags": []
   },
   "outputs": [
    {
     "name": "stdout",
     "output_type": "stream",
     "text": [
      "432\n",
      "-432\n"
     ]
    }
   ],
   "source": [
    "def reverse(num):\n",
    "    result = 0\n",
    "    temp = num\n",
    "    num = abs(num)\n",
    "    while int(num) != 0:\n",
    "        result = (result * 10) + (int(num % 10))\n",
    "        num /= 10\n",
    "    \n",
    "    if temp < 0:\n",
    "        return -result\n",
    "    return result\n",
    "\n",
    "print(reverse(234))\n",
    "print(reverse(-234))"
   ]
  },
  {
   "cell_type": "markdown",
   "id": "25a32840-0373-45ed-9581-cf8f5a6a26bd",
   "metadata": {},
   "source": [
    "You are given three integers start, finish, and limit. You are also given a 0-indexed string s representing a positive integer.\n",
    "\n",
    "A positive integer x is called powerful if it ends with s (in other words, s is a suffix of x) and each digit in x is at most limit.\n",
    "\n",
    "Return the total number of powerful integers in the range [start..finish].\n",
    "\n",
    "A string x is a suffix of a string y if and only if x is a substring of y that starts from some index (including 0) in y and extends to the index y.length - 1. For example, 25 is a suffix of 5125 whereas 512 is not."
   ]
  },
  {
   "cell_type": "code",
   "execution_count": 32,
   "id": "4a84dcde-99af-4542-956d-f291957a57c0",
   "metadata": {
    "tags": []
   },
   "outputs": [],
   "source": [
    "# Answer 5"
   ]
  },
  {
   "cell_type": "code",
   "execution_count": 38,
   "id": "ab6ada2a-6194-4165-8f6c-4e73a945526d",
   "metadata": {
    "tags": []
   },
   "outputs": [
    {
     "name": "stdout",
     "output_type": "stream",
     "text": [
      "[124, 1124, 2124, 3124]\n",
      "[110, 210]\n"
     ]
    }
   ],
   "source": [
    "def suffix(start, finish, limit, s):\n",
    "    result = []\n",
    "    for i in range(start, finish):\n",
    "        if len(s) <= len(str(i)):\n",
    "            if str(i)[-len(s):] == s:\n",
    "                num = i\n",
    "                limit_flag = 0\n",
    "                while int(num) != 0:\n",
    "                    if num % 10 > limit:\n",
    "                        limit_flag = 1\n",
    "                    num /= 10\n",
    "                if limit_flag == 0:\n",
    "                    result.append(i)\n",
    "    \n",
    "    return result\n",
    "\n",
    "print(suffix(start = 1, finish = 6000, limit = 4, s = \"124\"))\n",
    "print(suffix(start = 15, finish = 215, limit = 6, s = \"10\"))"
   ]
  },
  {
   "cell_type": "code",
   "execution_count": null,
   "id": "b4b3a383-0022-45ae-b1e0-f5df6bed6855",
   "metadata": {},
   "outputs": [],
   "source": []
  }
 ],
 "metadata": {
  "kernelspec": {
   "display_name": "Python 3 (ipykernel)",
   "language": "python",
   "name": "python3"
  },
  "language_info": {
   "codemirror_mode": {
    "name": "ipython",
    "version": 3
   },
   "file_extension": ".py",
   "mimetype": "text/x-python",
   "name": "python",
   "nbconvert_exporter": "python",
   "pygments_lexer": "ipython3",
   "version": "3.11.4"
  }
 },
 "nbformat": 4,
 "nbformat_minor": 5
}
