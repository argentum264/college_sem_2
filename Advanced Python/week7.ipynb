{
 "cells": [
  {
   "cell_type": "markdown",
   "id": "7d434688-78dd-47de-8cd9-6af7edb12d60",
   "metadata": {},
   "source": [
    "# <center> Rajat Kumar | C0912858 | Week 7"
   ]
  },
  {
   "cell_type": "markdown",
   "id": "565a8d20-f43d-4d2e-8323-59fe02182042",
   "metadata": {},
   "source": [
    "Q1 )\n",
    "\n",
    "Given an integer x, return true if x is palindrome integer.\n",
    "\n",
    "An integer is a palindrome when it reads the same backward as forward.\n",
    "\n",
    "For example, 121 is a palindrome while 123 is not."
   ]
  },
  {
   "cell_type": "code",
   "execution_count": 5,
   "id": "8bd934a8-90ef-4aa3-bcf0-d5593a29659c",
   "metadata": {
    "tags": []
   },
   "outputs": [
    {
     "name": "stdout",
     "output_type": "stream",
     "text": [
      "121 is a palindrome number.\n",
      "123 is not a palindrome number.\n"
     ]
    }
   ],
   "source": [
    "# Answer 1\n",
    "\n",
    "def palindrome(num):\n",
    "    number = num\n",
    "    reverse = 0\n",
    "    while int(num) != 0:\n",
    "        reverse = (reverse * 10) + int(num % 10)\n",
    "        num = int(num / 10)\n",
    "    \n",
    "    if number == reverse:\n",
    "        print(f'{number} is a palindrome number.')\n",
    "    else:\n",
    "        print(f'{number} is not a palindrome number.')\n",
    "        \n",
    "palindrome(121)\n",
    "palindrome(123)"
   ]
  },
  {
   "cell_type": "markdown",
   "id": "460992b2-8dd2-4090-86ff-3685f2affddb",
   "metadata": {},
   "source": [
    "Q2)\n",
    "\n",
    "Roman numerals are represented by seven different symbols: I, V, X, L, C, D and M.\n",
    "\n",
    "Symbol       Value\n",
    "\n",
    "I             1\n",
    "\n",
    "V             5\n",
    "\n",
    "X             10\n",
    "\n",
    "L             50\n",
    "\n",
    "C             100\n",
    "\n",
    "D             500\n",
    "\n",
    "M             1000\n",
    "\n",
    "For example, 2 is written as II in Roman numeral, just two ones added together. 12 is written as XII, which is simply X + II. The number 27 is written as XXVII, which is XX + V + II.\n",
    "\n",
    "Roman numerals are usually written largest to smallest from left to right. However, the numeral for four is not IIII. Instead, the number four is written as IV. Because the one is before the five we subtract it making four. The same principle applies to the number nine, which is written as IX. There are six instances where subtraction is used:\n",
    "\n",
    "I can be placed before V (5) and X (10) to make 4 and 9. \n",
    "X can be placed before L (50) and C (100) to make 40 and 90. \n",
    "C can be placed before D (500) and M (1000) to make 400 and 900.\n",
    "Given a roman numeral, convert it to an integer.\n",
    "\n",
    " \n",
    "\n",
    "Example 1:\n",
    "\n",
    "Input: s = \"III\"\n",
    "\n",
    "Output: 3\n",
    "\n",
    "Explanation: III = 3.\n",
    "\n",
    " \n",
    "\n",
    "Input: s = \"LVIII\"\n",
    "\n",
    "Output: 58\n",
    "\n",
    "Explanation: L = 50, V= 5, III = 3."
   ]
  },
  {
   "cell_type": "code",
   "execution_count": 17,
   "id": "0355d7f4-d74b-40a9-a796-2e2a0ba2696c",
   "metadata": {
    "tags": []
   },
   "outputs": [
    {
     "name": "stdout",
     "output_type": "stream",
     "text": [
      "The numeric value of III is: 3\n",
      "The numeric value of LVIII is: 58\n",
      "The numeric value of MMMDXLVI is: 3546\n"
     ]
    }
   ],
   "source": [
    "# Answer 2\n",
    "def to_number(roman):\n",
    "    roman_mapping = {\n",
    "        'I': 1,\n",
    "        'V': 5,\n",
    "        'X': 10,\n",
    "        'L': 50,\n",
    "        'C': 100,\n",
    "        'D': 500,\n",
    "        'M': 1000\n",
    "    }\n",
    "    \n",
    "    total = 0\n",
    "    prev_value = 0\n",
    "    for char in reversed(roman):\n",
    "        value = roman_mapping[char]\n",
    "        #print(f'value = {value}\\npre_value = {prev_value}\\ntotal = {total}')\n",
    "        if value < prev_value:\n",
    "            total -= value\n",
    "        else:\n",
    "            total += value\n",
    "        prev_value = value\n",
    "        #print(f'final_total = {total}')\n",
    "    \n",
    "    print(f\"The numeric value of {roman} is: {total}\")\n",
    "\n",
    "to_number(\"III\")\n",
    "to_number(\"LVIII\")\n",
    "to_number(\"MMMDXLVI\")"
   ]
  },
  {
   "cell_type": "code",
   "execution_count": 7,
   "id": "e62538c9-1889-4728-9d58-c2b5312b8834",
   "metadata": {
    "tags": []
   },
   "outputs": [
    {
     "data": {
      "text/plain": [
       "'def roman(num):\\n    roman_map = [\\n        (1000, \\'M\\'),\\n        (900, \\'CM\\'),\\n        (500, \\'D\\'),\\n        (400, \\'CD\\'),\\n        (100, \\'C\\'),\\n        (90, \\'XC\\'),\\n        (50, \\'L\\'),\\n        (40, \\'XL\\'),\\n        (10, \\'X\\'),\\n        (9, \\'IX\\'),\\n        (5, \\'V\\'),\\n        (4, \\'IV\\'),\\n        (1, \\'I\\')\\n    ]\\n    \\n    roman_numeral = \\'\\'\\n    for value, numeral in roman_map:\\n        while num >= value:\\n            roman_numeral += numeral\\n            num -= value\\n    \\n    return roman_numeral\\n\\nroman = roman(3546)\\nprint(f\"The Roman numeral representation of {number} is: {roman}\")\\n'"
      ]
     },
     "execution_count": 7,
     "metadata": {},
     "output_type": "execute_result"
    }
   ],
   "source": [
    "\"\"\"def roman(num):\n",
    "    roman_map = [\n",
    "        (1000, 'M'),\n",
    "        (900, 'CM'),\n",
    "        (500, 'D'),\n",
    "        (400, 'CD'),\n",
    "        (100, 'C'),\n",
    "        (90, 'XC'),\n",
    "        (50, 'L'),\n",
    "        (40, 'XL'),\n",
    "        (10, 'X'),\n",
    "        (9, 'IX'),\n",
    "        (5, 'V'),\n",
    "        (4, 'IV'),\n",
    "        (1, 'I')\n",
    "    ]\n",
    "    \n",
    "    roman_numeral = ''\n",
    "    for value, numeral in roman_map:\n",
    "        while num >= value:\n",
    "            roman_numeral += numeral\n",
    "            num -= value\n",
    "    \n",
    "    return roman_numeral\n",
    "\n",
    "roman = roman(3546)\n",
    "print(f\"The Roman numeral representation of {number} is: {roman}\")\n",
    "\"\"\""
   ]
  },
  {
   "cell_type": "markdown",
   "id": "31e2490b-b426-49aa-8de6-e13554694367",
   "metadata": {},
   "source": [
    "Q3\n",
    "You are given an array of k linked-lists lists, each linked-list is sorted in ascending order.\n",
    "\n",
    "Merge all the linked-lists into one sorted linked-list and return it.\n",
    "\n",
    " \n",
    "\n",
    "Example 1:\n",
    "\n",
    "Input: lists = [[1,4,5],[1,3,4],[2,6]]\n",
    "Output: [1,1,2,3,4,4,5,6]\n",
    "Explanation: The linked-lists are:\n",
    "[\n",
    "  1->4->5,\n",
    "  1->3->4,\n",
    "  2->6\n",
    "]\n",
    "merging them into one sorted list:\n",
    "1->1->2->3->4->4->5->6\n",
    "Example 2:\n",
    "\n",
    "Input: lists = []\n",
    "Output: []\n",
    "Example 3:\n",
    "\n",
    "Input: lists = [[]]\n",
    "Output: []"
   ]
  },
  {
   "cell_type": "code",
   "execution_count": 25,
   "id": "e695fc3d-bcfe-4ce7-ad9b-328df5b0516c",
   "metadata": {
    "tags": []
   },
   "outputs": [
    {
     "name": "stdout",
     "output_type": "stream",
     "text": [
      "[1->1->2->3->4->4->5->6]\n",
      "[]\n",
      "[]\n"
     ]
    }
   ],
   "source": [
    "# Answer 3\n",
    "def list_to_ascending(input_string):\n",
    "    \n",
    "    elements = input_string.replace(\"[\", \"\").replace(\"]\", \"\").split(\", \")\n",
    "    if len(elements) == 1 and len(elements[0]) == 0:\n",
    "        print('[]')\n",
    "    else:\n",
    "        flattened_elements = [item for sublist in elements for item in sublist.split(\"->\")]\n",
    "\n",
    "        sorted_elements = sorted(map(int, flattened_elements))\n",
    "\n",
    "        output_string = \"[\" + \"->\".join(map(str, sorted_elements)) + \"]\"\n",
    "\n",
    "        print(output_string)\n",
    "    \n",
    "list_to_ascending(\"[ 1->4->5, 1->3->4, 2->6 ]\")\n",
    "list_to_ascending(\"[]\")\n",
    "list_to_ascending(\"[[]]\")"
   ]
  },
  {
   "cell_type": "markdown",
   "id": "39228300-34a7-447f-bdaf-a87f6334fd6a",
   "metadata": {},
   "source": [
    "Q4\n",
    "Given an integer array nums and an integer k, return the number of good subarrays of nums.\n",
    "\n",
    "A good array is an array where the number of different integers in that array is exactly k.\n",
    "\n",
    "For example, [1,2,3,1,2] has 3 different integers: 1, 2, and 3.\n",
    "A subarray is a contiguous part of an array.\n",
    "\n",
    " \n",
    "\n",
    "Example 1:\n",
    "\n",
    "Input: nums = [1,2,1,2,3], k = 2\n",
    "Output: 7\n",
    "Explanation: Subarrays formed with exactly 2 different integers: [1,2], [2,1], [1,2], [2,3], [1,2,1], [2,1,2], [1,2,1,2]\n",
    "Example 2:\n",
    "\n",
    "Input: nums = [1,2,1,3,4], k = 3\n",
    "Output: 3\n",
    "Explanation: Subarrays formed with exactly 3 different integers: [1,2,1,3], [2,1,3], [1,3,4]."
   ]
  },
  {
   "cell_type": "code",
   "execution_count": 16,
   "id": "7808c1da-f2ee-418b-abab-3d3c11157a4b",
   "metadata": {
    "tags": []
   },
   "outputs": [
    {
     "name": "stdout",
     "output_type": "stream",
     "text": [
      "Output for Example 1: 7\n",
      "Output for Example 2: 3\n"
     ]
    }
   ],
   "source": [
    "def good_subarray(nums, k):\n",
    "    def atMostK(nums, k):\n",
    "        count = 0\n",
    "        left = 0\n",
    "        freq = {}\n",
    "        for right in range(len(nums)):\n",
    "            freq[nums[right]] = freq.get(nums[right], 0) + 1\n",
    "            while len(freq) > k:\n",
    "                freq[nums[left]] -= 1\n",
    "                if freq[nums[left]] == 0:\n",
    "                    del freq[nums[left]]\n",
    "                left += 1\n",
    "            count += right - left + 1\n",
    "        return count\n",
    "\n",
    "    return atMostK(nums, k) - atMostK(nums, k - 1)\n",
    "\n",
    "nums1 = [1,2,1,2,3]\n",
    "k1 = 2\n",
    "print(\"Output for Example 1:\", good_subarray(nums1, k1))\n",
    "\n",
    "nums2 = [1,2,1,3,4]\n",
    "k2 = 3\n",
    "print(\"Output for Example 2:\", good_subarray(nums2, k2))"
   ]
  },
  {
   "cell_type": "code",
   "execution_count": null,
   "id": "2190e9d6-5504-4158-9697-c6ec37725a18",
   "metadata": {},
   "outputs": [],
   "source": []
  },
  {
   "cell_type": "code",
   "execution_count": null,
   "id": "76aca4a5-cfa5-4b3e-aa0b-652950c5af24",
   "metadata": {},
   "outputs": [],
   "source": []
  }
 ],
 "metadata": {
  "kernelspec": {
   "display_name": "Python 3 (ipykernel)",
   "language": "python",
   "name": "python3"
  },
  "language_info": {
   "codemirror_mode": {
    "name": "ipython",
    "version": 3
   },
   "file_extension": ".py",
   "mimetype": "text/x-python",
   "name": "python",
   "nbconvert_exporter": "python",
   "pygments_lexer": "ipython3",
   "version": "3.11.4"
  }
 },
 "nbformat": 4,
 "nbformat_minor": 5
}
