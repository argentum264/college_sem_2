{
 "cells": [
  {
   "cell_type": "markdown",
   "id": "b9831e3b-16a7-4407-90e2-259645c54bd0",
   "metadata": {},
   "source": [
    "# <center> Rajat Kumar (C0912858) | Assignment 1"
   ]
  },
  {
   "cell_type": "code",
   "execution_count": 1,
   "id": "417d9cd5-69a3-4b0b-9518-edc448f89682",
   "metadata": {
    "tags": []
   },
   "outputs": [
    {
     "name": "stdout",
     "output_type": "stream",
     "text": [
      "Requirement already satisfied: newsapi in c:\\users\\rajat\\anaconda3\\lib\\site-packages (0.1.1)\n",
      "Requirement already satisfied: requests in c:\\users\\rajat\\anaconda3\\lib\\site-packages (from newsapi) (2.31.0)\n",
      "Requirement already satisfied: charset-normalizer<4,>=2 in c:\\users\\rajat\\anaconda3\\lib\\site-packages (from requests->newsapi) (2.0.4)\n",
      "Requirement already satisfied: idna<4,>=2.5 in c:\\users\\rajat\\anaconda3\\lib\\site-packages (from requests->newsapi) (3.4)\n",
      "Requirement already satisfied: urllib3<3,>=1.21.1 in c:\\users\\rajat\\anaconda3\\lib\\site-packages (from requests->newsapi) (1.26.16)\n",
      "Requirement already satisfied: certifi>=2017.4.17 in c:\\users\\rajat\\anaconda3\\lib\\site-packages (from requests->newsapi) (2023.7.22)\n"
     ]
    },
    {
     "name": "stderr",
     "output_type": "stream",
     "text": [
      "\n",
      "[notice] A new release of pip is available: 23.3.2 -> 24.0\n",
      "[notice] To update, run: python.exe -m pip install --upgrade pip\n"
     ]
    }
   ],
   "source": [
    "!pip install newsapi"
   ]
  },
  {
   "cell_type": "code",
   "execution_count": 2,
   "id": "1a6ceca2-3bb3-48b5-9207-686e0dfc8956",
   "metadata": {
    "tags": []
   },
   "outputs": [
    {
     "name": "stdout",
     "output_type": "stream",
     "text": [
      "Requirement already satisfied: yfinance in c:\\users\\rajat\\anaconda3\\lib\\site-packages (0.2.36)\n",
      "Requirement already satisfied: pandas>=1.3.0 in c:\\users\\rajat\\anaconda3\\lib\\site-packages (from yfinance) (1.5.3)\n",
      "Requirement already satisfied: numpy>=1.16.5 in c:\\users\\rajat\\anaconda3\\lib\\site-packages (from yfinance) (1.24.3)\n",
      "Requirement already satisfied: requests>=2.31 in c:\\users\\rajat\\anaconda3\\lib\\site-packages (from yfinance) (2.31.0)\n",
      "Requirement already satisfied: multitasking>=0.0.7 in c:\\users\\rajat\\anaconda3\\lib\\site-packages (from yfinance) (0.0.11)\n",
      "Requirement already satisfied: lxml>=4.9.1 in c:\\users\\rajat\\anaconda3\\lib\\site-packages (from yfinance) (4.9.2)\n",
      "Requirement already satisfied: appdirs>=1.4.4 in c:\\users\\rajat\\anaconda3\\lib\\site-packages (from yfinance) (1.4.4)\n",
      "Requirement already satisfied: pytz>=2022.5 in c:\\users\\rajat\\anaconda3\\lib\\site-packages (from yfinance) (2022.7)\n",
      "Requirement already satisfied: frozendict>=2.3.4 in c:\\users\\rajat\\anaconda3\\lib\\site-packages (from yfinance) (2.4.0)\n",
      "Requirement already satisfied: peewee>=3.16.2 in c:\\users\\rajat\\anaconda3\\lib\\site-packages (from yfinance) (3.17.0)\n",
      "Requirement already satisfied: beautifulsoup4>=4.11.1 in c:\\users\\rajat\\anaconda3\\lib\\site-packages (from yfinance) (4.12.2)\n",
      "Requirement already satisfied: html5lib>=1.1 in c:\\users\\rajat\\anaconda3\\lib\\site-packages (from yfinance) (1.1)\n",
      "Requirement already satisfied: soupsieve>1.2 in c:\\users\\rajat\\anaconda3\\lib\\site-packages (from beautifulsoup4>=4.11.1->yfinance) (2.4)\n",
      "Requirement already satisfied: six>=1.9 in c:\\users\\rajat\\anaconda3\\lib\\site-packages (from html5lib>=1.1->yfinance) (1.16.0)\n",
      "Requirement already satisfied: webencodings in c:\\users\\rajat\\anaconda3\\lib\\site-packages (from html5lib>=1.1->yfinance) (0.5.1)\n",
      "Requirement already satisfied: python-dateutil>=2.8.1 in c:\\users\\rajat\\anaconda3\\lib\\site-packages (from pandas>=1.3.0->yfinance) (2.8.2)\n",
      "Requirement already satisfied: charset-normalizer<4,>=2 in c:\\users\\rajat\\anaconda3\\lib\\site-packages (from requests>=2.31->yfinance) (2.0.4)\n",
      "Requirement already satisfied: idna<4,>=2.5 in c:\\users\\rajat\\anaconda3\\lib\\site-packages (from requests>=2.31->yfinance) (3.4)\n",
      "Requirement already satisfied: urllib3<3,>=1.21.1 in c:\\users\\rajat\\anaconda3\\lib\\site-packages (from requests>=2.31->yfinance) (1.26.16)\n",
      "Requirement already satisfied: certifi>=2017.4.17 in c:\\users\\rajat\\anaconda3\\lib\\site-packages (from requests>=2.31->yfinance) (2023.7.22)\n"
     ]
    },
    {
     "name": "stderr",
     "output_type": "stream",
     "text": [
      "\n",
      "[notice] A new release of pip is available: 23.3.2 -> 24.0\n",
      "[notice] To update, run: python.exe -m pip install --upgrade pip\n"
     ]
    }
   ],
   "source": [
    "!pip install yfinance"
   ]
  },
  {
   "cell_type": "code",
   "execution_count": 3,
   "id": "87d0f2c2-615f-462b-84da-0658f3f63afe",
   "metadata": {
    "tags": []
   },
   "outputs": [
    {
     "name": "stdout",
     "output_type": "stream",
     "text": [
      "Requirement already satisfied: yahoo_fin in c:\\users\\rajat\\anaconda3\\lib\\site-packages (0.8.9.1)\n",
      "Requirement already satisfied: requests-html in c:\\users\\rajat\\anaconda3\\lib\\site-packages (from yahoo_fin) (0.10.0)\n",
      "Requirement already satisfied: feedparser in c:\\users\\rajat\\anaconda3\\lib\\site-packages (from yahoo_fin) (6.0.11)\n",
      "Requirement already satisfied: requests in c:\\users\\rajat\\anaconda3\\lib\\site-packages (from yahoo_fin) (2.31.0)\n",
      "Requirement already satisfied: pandas in c:\\users\\rajat\\anaconda3\\lib\\site-packages (from yahoo_fin) (1.5.3)\n",
      "Requirement already satisfied: sgmllib3k in c:\\users\\rajat\\anaconda3\\lib\\site-packages (from feedparser->yahoo_fin) (1.0.0)\n",
      "Requirement already satisfied: python-dateutil>=2.8.1 in c:\\users\\rajat\\anaconda3\\lib\\site-packages (from pandas->yahoo_fin) (2.8.2)\n",
      "Requirement already satisfied: pytz>=2020.1 in c:\\users\\rajat\\anaconda3\\lib\\site-packages (from pandas->yahoo_fin) (2022.7)\n",
      "Requirement already satisfied: numpy>=1.21.0 in c:\\users\\rajat\\anaconda3\\lib\\site-packages (from pandas->yahoo_fin) (1.24.3)\n",
      "Requirement already satisfied: charset-normalizer<4,>=2 in c:\\users\\rajat\\anaconda3\\lib\\site-packages (from requests->yahoo_fin) (2.0.4)\n",
      "Requirement already satisfied: idna<4,>=2.5 in c:\\users\\rajat\\anaconda3\\lib\\site-packages (from requests->yahoo_fin) (3.4)\n",
      "Requirement already satisfied: urllib3<3,>=1.21.1 in c:\\users\\rajat\\anaconda3\\lib\\site-packages (from requests->yahoo_fin) (1.26.16)\n",
      "Requirement already satisfied: certifi>=2017.4.17 in c:\\users\\rajat\\anaconda3\\lib\\site-packages (from requests->yahoo_fin) (2023.7.22)\n",
      "Requirement already satisfied: pyquery in c:\\users\\rajat\\anaconda3\\lib\\site-packages (from requests-html->yahoo_fin) (2.0.0)\n",
      "Requirement already satisfied: fake-useragent in c:\\users\\rajat\\anaconda3\\lib\\site-packages (from requests-html->yahoo_fin) (1.4.0)\n",
      "Requirement already satisfied: parse in c:\\users\\rajat\\anaconda3\\lib\\site-packages (from requests-html->yahoo_fin) (1.20.1)\n",
      "Requirement already satisfied: bs4 in c:\\users\\rajat\\anaconda3\\lib\\site-packages (from requests-html->yahoo_fin) (0.0.2)\n",
      "Requirement already satisfied: w3lib in c:\\users\\rajat\\anaconda3\\lib\\site-packages (from requests-html->yahoo_fin) (1.21.0)\n",
      "Requirement already satisfied: pyppeteer>=0.0.14 in c:\\users\\rajat\\anaconda3\\lib\\site-packages (from requests-html->yahoo_fin) (1.0.2)\n",
      "Requirement already satisfied: appdirs<2.0.0,>=1.4.3 in c:\\users\\rajat\\anaconda3\\lib\\site-packages (from pyppeteer>=0.0.14->requests-html->yahoo_fin) (1.4.4)\n",
      "Requirement already satisfied: importlib-metadata>=1.4 in c:\\users\\rajat\\anaconda3\\lib\\site-packages (from pyppeteer>=0.0.14->requests-html->yahoo_fin) (6.0.0)\n",
      "Requirement already satisfied: pyee<9.0.0,>=8.1.0 in c:\\users\\rajat\\anaconda3\\lib\\site-packages (from pyppeteer>=0.0.14->requests-html->yahoo_fin) (8.2.2)\n",
      "Requirement already satisfied: tqdm<5.0.0,>=4.42.1 in c:\\users\\rajat\\anaconda3\\lib\\site-packages (from pyppeteer>=0.0.14->requests-html->yahoo_fin) (4.65.0)\n",
      "Requirement already satisfied: websockets<11.0,>=10.0 in c:\\users\\rajat\\anaconda3\\lib\\site-packages (from pyppeteer>=0.0.14->requests-html->yahoo_fin) (10.4)\n",
      "Requirement already satisfied: six>=1.5 in c:\\users\\rajat\\anaconda3\\lib\\site-packages (from python-dateutil>=2.8.1->pandas->yahoo_fin) (1.16.0)\n",
      "Requirement already satisfied: beautifulsoup4 in c:\\users\\rajat\\anaconda3\\lib\\site-packages (from bs4->requests-html->yahoo_fin) (4.12.2)\n",
      "Requirement already satisfied: lxml>=2.1 in c:\\users\\rajat\\anaconda3\\lib\\site-packages (from pyquery->requests-html->yahoo_fin) (4.9.2)\n",
      "Requirement already satisfied: cssselect>=1.2.0 in c:\\users\\rajat\\anaconda3\\lib\\site-packages (from pyquery->requests-html->yahoo_fin) (1.2.0)\n",
      "Requirement already satisfied: zipp>=0.5 in c:\\users\\rajat\\anaconda3\\lib\\site-packages (from importlib-metadata>=1.4->pyppeteer>=0.0.14->requests-html->yahoo_fin) (3.11.0)\n",
      "Requirement already satisfied: colorama in c:\\users\\rajat\\anaconda3\\lib\\site-packages (from tqdm<5.0.0,>=4.42.1->pyppeteer>=0.0.14->requests-html->yahoo_fin) (0.4.6)\n",
      "Requirement already satisfied: soupsieve>1.2 in c:\\users\\rajat\\anaconda3\\lib\\site-packages (from beautifulsoup4->bs4->requests-html->yahoo_fin) (2.4)\n"
     ]
    },
    {
     "name": "stderr",
     "output_type": "stream",
     "text": [
      "\n",
      "[notice] A new release of pip is available: 23.3.2 -> 24.0\n",
      "[notice] To update, run: python.exe -m pip install --upgrade pip\n"
     ]
    }
   ],
   "source": [
    "!pip install yahoo_fin"
   ]
  },
  {
   "cell_type": "code",
   "execution_count": 4,
   "id": "e004fd96-c8bd-43b9-8efc-f68550a87695",
   "metadata": {
    "tags": []
   },
   "outputs": [
    {
     "name": "stdout",
     "output_type": "stream",
     "text": [
      "Requirement already satisfied: GoogleNews in c:\\users\\rajat\\anaconda3\\lib\\site-packages (1.6.13)\n",
      "Requirement already satisfied: beautifulsoup4 in c:\\users\\rajat\\anaconda3\\lib\\site-packages (from GoogleNews) (4.12.2)\n",
      "Requirement already satisfied: dateparser in c:\\users\\rajat\\anaconda3\\lib\\site-packages (from GoogleNews) (1.2.0)\n",
      "Requirement already satisfied: python-dateutil in c:\\users\\rajat\\anaconda3\\lib\\site-packages (from GoogleNews) (2.8.2)\n",
      "Requirement already satisfied: soupsieve>1.2 in c:\\users\\rajat\\anaconda3\\lib\\site-packages (from beautifulsoup4->GoogleNews) (2.4)\n",
      "Requirement already satisfied: pytz in c:\\users\\rajat\\anaconda3\\lib\\site-packages (from dateparser->GoogleNews) (2022.7)\n",
      "Requirement already satisfied: regex!=2019.02.19,!=2021.8.27 in c:\\users\\rajat\\anaconda3\\lib\\site-packages (from dateparser->GoogleNews) (2022.7.9)\n",
      "Requirement already satisfied: tzlocal in c:\\users\\rajat\\anaconda3\\lib\\site-packages (from dateparser->GoogleNews) (5.2)\n",
      "Requirement already satisfied: six>=1.5 in c:\\users\\rajat\\anaconda3\\lib\\site-packages (from python-dateutil->GoogleNews) (1.16.0)\n",
      "Requirement already satisfied: tzdata in c:\\users\\rajat\\anaconda3\\lib\\site-packages (from tzlocal->dateparser->GoogleNews) (2024.1)\n"
     ]
    },
    {
     "name": "stderr",
     "output_type": "stream",
     "text": [
      "\n",
      "[notice] A new release of pip is available: 23.3.2 -> 24.0\n",
      "[notice] To update, run: python.exe -m pip install --upgrade pip\n"
     ]
    }
   ],
   "source": [
    "!pip install GoogleNews"
   ]
  },
  {
   "cell_type": "code",
   "execution_count": 5,
   "id": "ca4bdc0e-2e35-4797-98af-44a426a0ee51",
   "metadata": {
    "tags": []
   },
   "outputs": [
    {
     "name": "stderr",
     "output_type": "stream",
     "text": [
      "C:\\Users\\rajat\\anaconda3\\Lib\\site-packages\\yfinance\\base.py:48: FutureWarning: The default dtype for empty Series will be 'object' instead of 'float64' in a future version. Specify a dtype explicitly to silence this warning.\n",
      "  _empty_series = pd.Series()\n"
     ]
    }
   ],
   "source": [
    "# Importing all the required libraries\n",
    "import pandas as pd\n",
    "import nltk\n",
    "from nltk.sentiment.vader import SentimentIntensityAnalyzer\n",
    "from nltk.corpus import stopwords\n",
    "from nltk.tokenize import word_tokenize\n",
    "from nltk.stem import WordNetLemmatizer\n",
    "from yahoo_fin.stock_info import get_data\n",
    "import matplotlib.pyplot as plt\n",
    "import yfinance as yf\n",
    "from yahoo_fin import news\n",
    "import matplotlib.pyplot as plt\n",
    "from GoogleNews import GoogleNews\n",
    "import newspaper\n",
    "import requests\n",
    "\n",
    "import warnings\n",
    "# Hide the display of warnings\n",
    "warnings.filterwarnings(\"ignore\")"
   ]
  },
  {
   "cell_type": "code",
   "execution_count": 6,
   "id": "2fa5777b-a0be-49e3-a905-f254de9c36cf",
   "metadata": {
    "collapsed": true,
    "jupyter": {
     "outputs_hidden": true
    },
    "tags": []
   },
   "outputs": [
    {
     "name": "stderr",
     "output_type": "stream",
     "text": [
      "[nltk_data] Downloading collection 'all'\n",
      "[nltk_data]    | \n",
      "[nltk_data]    | Downloading package abc to\n",
      "[nltk_data]    |     C:\\Users\\rajat\\AppData\\Roaming\\nltk_data...\n",
      "[nltk_data]    |   Package abc is already up-to-date!\n",
      "[nltk_data]    | Downloading package alpino to\n",
      "[nltk_data]    |     C:\\Users\\rajat\\AppData\\Roaming\\nltk_data...\n",
      "[nltk_data]    |   Package alpino is already up-to-date!\n",
      "[nltk_data]    | Downloading package averaged_perceptron_tagger to\n",
      "[nltk_data]    |     C:\\Users\\rajat\\AppData\\Roaming\\nltk_data...\n",
      "[nltk_data]    |   Package averaged_perceptron_tagger is already up-\n",
      "[nltk_data]    |       to-date!\n",
      "[nltk_data]    | Downloading package averaged_perceptron_tagger_ru to\n",
      "[nltk_data]    |     C:\\Users\\rajat\\AppData\\Roaming\\nltk_data...\n",
      "[nltk_data]    |   Package averaged_perceptron_tagger_ru is already\n",
      "[nltk_data]    |       up-to-date!\n",
      "[nltk_data]    | Downloading package basque_grammars to\n",
      "[nltk_data]    |     C:\\Users\\rajat\\AppData\\Roaming\\nltk_data...\n",
      "[nltk_data]    |   Package basque_grammars is already up-to-date!\n",
      "[nltk_data]    | Downloading package bcp47 to\n",
      "[nltk_data]    |     C:\\Users\\rajat\\AppData\\Roaming\\nltk_data...\n",
      "[nltk_data]    |   Package bcp47 is already up-to-date!\n",
      "[nltk_data]    | Downloading package biocreative_ppi to\n",
      "[nltk_data]    |     C:\\Users\\rajat\\AppData\\Roaming\\nltk_data...\n",
      "[nltk_data]    |   Package biocreative_ppi is already up-to-date!\n",
      "[nltk_data]    | Downloading package bllip_wsj_no_aux to\n",
      "[nltk_data]    |     C:\\Users\\rajat\\AppData\\Roaming\\nltk_data...\n",
      "[nltk_data]    |   Package bllip_wsj_no_aux is already up-to-date!\n",
      "[nltk_data]    | Downloading package book_grammars to\n",
      "[nltk_data]    |     C:\\Users\\rajat\\AppData\\Roaming\\nltk_data...\n",
      "[nltk_data]    |   Package book_grammars is already up-to-date!\n",
      "[nltk_data]    | Downloading package brown to\n",
      "[nltk_data]    |     C:\\Users\\rajat\\AppData\\Roaming\\nltk_data...\n",
      "[nltk_data]    |   Package brown is already up-to-date!\n",
      "[nltk_data]    | Downloading package brown_tei to\n",
      "[nltk_data]    |     C:\\Users\\rajat\\AppData\\Roaming\\nltk_data...\n",
      "[nltk_data]    |   Package brown_tei is already up-to-date!\n",
      "[nltk_data]    | Downloading package cess_cat to\n",
      "[nltk_data]    |     C:\\Users\\rajat\\AppData\\Roaming\\nltk_data...\n",
      "[nltk_data]    |   Package cess_cat is already up-to-date!\n",
      "[nltk_data]    | Downloading package cess_esp to\n",
      "[nltk_data]    |     C:\\Users\\rajat\\AppData\\Roaming\\nltk_data...\n",
      "[nltk_data]    |   Package cess_esp is already up-to-date!\n",
      "[nltk_data]    | Downloading package chat80 to\n",
      "[nltk_data]    |     C:\\Users\\rajat\\AppData\\Roaming\\nltk_data...\n",
      "[nltk_data]    |   Package chat80 is already up-to-date!\n",
      "[nltk_data]    | Downloading package city_database to\n",
      "[nltk_data]    |     C:\\Users\\rajat\\AppData\\Roaming\\nltk_data...\n",
      "[nltk_data]    |   Package city_database is already up-to-date!\n",
      "[nltk_data]    | Downloading package cmudict to\n",
      "[nltk_data]    |     C:\\Users\\rajat\\AppData\\Roaming\\nltk_data...\n",
      "[nltk_data]    |   Package cmudict is already up-to-date!\n",
      "[nltk_data]    | Downloading package comparative_sentences to\n",
      "[nltk_data]    |     C:\\Users\\rajat\\AppData\\Roaming\\nltk_data...\n",
      "[nltk_data]    |   Package comparative_sentences is already up-to-\n",
      "[nltk_data]    |       date!\n",
      "[nltk_data]    | Downloading package comtrans to\n",
      "[nltk_data]    |     C:\\Users\\rajat\\AppData\\Roaming\\nltk_data...\n",
      "[nltk_data]    |   Package comtrans is already up-to-date!\n",
      "[nltk_data]    | Downloading package conll2000 to\n",
      "[nltk_data]    |     C:\\Users\\rajat\\AppData\\Roaming\\nltk_data...\n",
      "[nltk_data]    |   Package conll2000 is already up-to-date!\n",
      "[nltk_data]    | Downloading package conll2002 to\n",
      "[nltk_data]    |     C:\\Users\\rajat\\AppData\\Roaming\\nltk_data...\n",
      "[nltk_data]    |   Package conll2002 is already up-to-date!\n",
      "[nltk_data]    | Downloading package conll2007 to\n",
      "[nltk_data]    |     C:\\Users\\rajat\\AppData\\Roaming\\nltk_data...\n",
      "[nltk_data]    |   Package conll2007 is already up-to-date!\n",
      "[nltk_data]    | Downloading package crubadan to\n",
      "[nltk_data]    |     C:\\Users\\rajat\\AppData\\Roaming\\nltk_data...\n",
      "[nltk_data]    |   Package crubadan is already up-to-date!\n",
      "[nltk_data]    | Downloading package dependency_treebank to\n",
      "[nltk_data]    |     C:\\Users\\rajat\\AppData\\Roaming\\nltk_data...\n",
      "[nltk_data]    |   Package dependency_treebank is already up-to-date!\n",
      "[nltk_data]    | Downloading package dolch to\n",
      "[nltk_data]    |     C:\\Users\\rajat\\AppData\\Roaming\\nltk_data...\n",
      "[nltk_data]    |   Package dolch is already up-to-date!\n",
      "[nltk_data]    | Downloading package europarl_raw to\n",
      "[nltk_data]    |     C:\\Users\\rajat\\AppData\\Roaming\\nltk_data...\n",
      "[nltk_data]    |   Package europarl_raw is already up-to-date!\n",
      "[nltk_data]    | Downloading package extended_omw to\n",
      "[nltk_data]    |     C:\\Users\\rajat\\AppData\\Roaming\\nltk_data...\n",
      "[nltk_data]    |   Package extended_omw is already up-to-date!\n",
      "[nltk_data]    | Downloading package floresta to\n",
      "[nltk_data]    |     C:\\Users\\rajat\\AppData\\Roaming\\nltk_data...\n",
      "[nltk_data]    |   Package floresta is already up-to-date!\n",
      "[nltk_data]    | Downloading package framenet_v15 to\n",
      "[nltk_data]    |     C:\\Users\\rajat\\AppData\\Roaming\\nltk_data...\n",
      "[nltk_data]    |   Package framenet_v15 is already up-to-date!\n",
      "[nltk_data]    | Downloading package framenet_v17 to\n",
      "[nltk_data]    |     C:\\Users\\rajat\\AppData\\Roaming\\nltk_data...\n",
      "[nltk_data]    |   Package framenet_v17 is already up-to-date!\n",
      "[nltk_data]    | Downloading package gazetteers to\n",
      "[nltk_data]    |     C:\\Users\\rajat\\AppData\\Roaming\\nltk_data...\n",
      "[nltk_data]    |   Package gazetteers is already up-to-date!\n",
      "[nltk_data]    | Downloading package genesis to\n",
      "[nltk_data]    |     C:\\Users\\rajat\\AppData\\Roaming\\nltk_data...\n",
      "[nltk_data]    |   Package genesis is already up-to-date!\n",
      "[nltk_data]    | Downloading package gutenberg to\n",
      "[nltk_data]    |     C:\\Users\\rajat\\AppData\\Roaming\\nltk_data...\n",
      "[nltk_data]    |   Package gutenberg is already up-to-date!\n",
      "[nltk_data]    | Downloading package ieer to\n",
      "[nltk_data]    |     C:\\Users\\rajat\\AppData\\Roaming\\nltk_data...\n",
      "[nltk_data]    |   Package ieer is already up-to-date!\n",
      "[nltk_data]    | Downloading package inaugural to\n",
      "[nltk_data]    |     C:\\Users\\rajat\\AppData\\Roaming\\nltk_data...\n",
      "[nltk_data]    |   Package inaugural is already up-to-date!\n",
      "[nltk_data]    | Downloading package indian to\n",
      "[nltk_data]    |     C:\\Users\\rajat\\AppData\\Roaming\\nltk_data...\n",
      "[nltk_data]    |   Package indian is already up-to-date!\n",
      "[nltk_data]    | Downloading package jeita to\n",
      "[nltk_data]    |     C:\\Users\\rajat\\AppData\\Roaming\\nltk_data...\n",
      "[nltk_data]    |   Package jeita is already up-to-date!\n",
      "[nltk_data]    | Downloading package kimmo to\n",
      "[nltk_data]    |     C:\\Users\\rajat\\AppData\\Roaming\\nltk_data...\n",
      "[nltk_data]    |   Package kimmo is already up-to-date!\n",
      "[nltk_data]    | Downloading package knbc to\n",
      "[nltk_data]    |     C:\\Users\\rajat\\AppData\\Roaming\\nltk_data...\n",
      "[nltk_data]    |   Package knbc is already up-to-date!\n",
      "[nltk_data]    | Downloading package large_grammars to\n",
      "[nltk_data]    |     C:\\Users\\rajat\\AppData\\Roaming\\nltk_data...\n",
      "[nltk_data]    |   Package large_grammars is already up-to-date!\n",
      "[nltk_data]    | Downloading package lin_thesaurus to\n",
      "[nltk_data]    |     C:\\Users\\rajat\\AppData\\Roaming\\nltk_data...\n",
      "[nltk_data]    |   Package lin_thesaurus is already up-to-date!\n",
      "[nltk_data]    | Downloading package mac_morpho to\n",
      "[nltk_data]    |     C:\\Users\\rajat\\AppData\\Roaming\\nltk_data...\n",
      "[nltk_data]    |   Package mac_morpho is already up-to-date!\n",
      "[nltk_data]    | Downloading package machado to\n",
      "[nltk_data]    |     C:\\Users\\rajat\\AppData\\Roaming\\nltk_data...\n",
      "[nltk_data]    |   Package machado is already up-to-date!\n",
      "[nltk_data]    | Downloading package masc_tagged to\n",
      "[nltk_data]    |     C:\\Users\\rajat\\AppData\\Roaming\\nltk_data...\n",
      "[nltk_data]    |   Package masc_tagged is already up-to-date!\n",
      "[nltk_data]    | Downloading package maxent_ne_chunker to\n",
      "[nltk_data]    |     C:\\Users\\rajat\\AppData\\Roaming\\nltk_data...\n",
      "[nltk_data]    |   Package maxent_ne_chunker is already up-to-date!\n",
      "[nltk_data]    | Downloading package maxent_treebank_pos_tagger to\n",
      "[nltk_data]    |     C:\\Users\\rajat\\AppData\\Roaming\\nltk_data...\n",
      "[nltk_data]    |   Package maxent_treebank_pos_tagger is already up-\n",
      "[nltk_data]    |       to-date!\n",
      "[nltk_data]    | Downloading package moses_sample to\n",
      "[nltk_data]    |     C:\\Users\\rajat\\AppData\\Roaming\\nltk_data...\n",
      "[nltk_data]    |   Package moses_sample is already up-to-date!\n",
      "[nltk_data]    | Downloading package movie_reviews to\n",
      "[nltk_data]    |     C:\\Users\\rajat\\AppData\\Roaming\\nltk_data...\n",
      "[nltk_data]    |   Package movie_reviews is already up-to-date!\n",
      "[nltk_data]    | Downloading package mte_teip5 to\n",
      "[nltk_data]    |     C:\\Users\\rajat\\AppData\\Roaming\\nltk_data...\n",
      "[nltk_data]    |   Package mte_teip5 is already up-to-date!\n",
      "[nltk_data]    | Downloading package mwa_ppdb to\n",
      "[nltk_data]    |     C:\\Users\\rajat\\AppData\\Roaming\\nltk_data...\n",
      "[nltk_data]    |   Package mwa_ppdb is already up-to-date!\n",
      "[nltk_data]    | Downloading package names to\n",
      "[nltk_data]    |     C:\\Users\\rajat\\AppData\\Roaming\\nltk_data...\n",
      "[nltk_data]    |   Package names is already up-to-date!\n",
      "[nltk_data]    | Downloading package nombank.1.0 to\n",
      "[nltk_data]    |     C:\\Users\\rajat\\AppData\\Roaming\\nltk_data...\n",
      "[nltk_data]    |   Package nombank.1.0 is already up-to-date!\n",
      "[nltk_data]    | Downloading package nonbreaking_prefixes to\n",
      "[nltk_data]    |     C:\\Users\\rajat\\AppData\\Roaming\\nltk_data...\n",
      "[nltk_data]    |   Package nonbreaking_prefixes is already up-to-date!\n",
      "[nltk_data]    | Downloading package nps_chat to\n",
      "[nltk_data]    |     C:\\Users\\rajat\\AppData\\Roaming\\nltk_data...\n",
      "[nltk_data]    |   Package nps_chat is already up-to-date!\n",
      "[nltk_data]    | Downloading package omw to\n",
      "[nltk_data]    |     C:\\Users\\rajat\\AppData\\Roaming\\nltk_data...\n",
      "[nltk_data]    |   Package omw is already up-to-date!\n",
      "[nltk_data]    | Downloading package omw-1.4 to\n",
      "[nltk_data]    |     C:\\Users\\rajat\\AppData\\Roaming\\nltk_data...\n",
      "[nltk_data]    |   Package omw-1.4 is already up-to-date!\n",
      "[nltk_data]    | Downloading package opinion_lexicon to\n",
      "[nltk_data]    |     C:\\Users\\rajat\\AppData\\Roaming\\nltk_data...\n",
      "[nltk_data]    |   Package opinion_lexicon is already up-to-date!\n",
      "[nltk_data]    | Downloading package panlex_swadesh to\n",
      "[nltk_data]    |     C:\\Users\\rajat\\AppData\\Roaming\\nltk_data...\n",
      "[nltk_data]    |   Package panlex_swadesh is already up-to-date!\n",
      "[nltk_data]    | Downloading package paradigms to\n",
      "[nltk_data]    |     C:\\Users\\rajat\\AppData\\Roaming\\nltk_data...\n",
      "[nltk_data]    |   Package paradigms is already up-to-date!\n",
      "[nltk_data]    | Downloading package pe08 to\n",
      "[nltk_data]    |     C:\\Users\\rajat\\AppData\\Roaming\\nltk_data...\n",
      "[nltk_data]    |   Package pe08 is already up-to-date!\n",
      "[nltk_data]    | Downloading package perluniprops to\n",
      "[nltk_data]    |     C:\\Users\\rajat\\AppData\\Roaming\\nltk_data...\n",
      "[nltk_data]    |   Package perluniprops is already up-to-date!\n",
      "[nltk_data]    | Downloading package pil to\n",
      "[nltk_data]    |     C:\\Users\\rajat\\AppData\\Roaming\\nltk_data...\n",
      "[nltk_data]    |   Package pil is already up-to-date!\n",
      "[nltk_data]    | Downloading package pl196x to\n",
      "[nltk_data]    |     C:\\Users\\rajat\\AppData\\Roaming\\nltk_data...\n",
      "[nltk_data]    |   Package pl196x is already up-to-date!\n",
      "[nltk_data]    | Downloading package porter_test to\n",
      "[nltk_data]    |     C:\\Users\\rajat\\AppData\\Roaming\\nltk_data...\n",
      "[nltk_data]    |   Package porter_test is already up-to-date!\n",
      "[nltk_data]    | Downloading package ppattach to\n",
      "[nltk_data]    |     C:\\Users\\rajat\\AppData\\Roaming\\nltk_data...\n",
      "[nltk_data]    |   Package ppattach is already up-to-date!\n",
      "[nltk_data]    | Downloading package problem_reports to\n",
      "[nltk_data]    |     C:\\Users\\rajat\\AppData\\Roaming\\nltk_data...\n",
      "[nltk_data]    |   Package problem_reports is already up-to-date!\n",
      "[nltk_data]    | Downloading package product_reviews_1 to\n",
      "[nltk_data]    |     C:\\Users\\rajat\\AppData\\Roaming\\nltk_data...\n",
      "[nltk_data]    |   Package product_reviews_1 is already up-to-date!\n",
      "[nltk_data]    | Downloading package product_reviews_2 to\n",
      "[nltk_data]    |     C:\\Users\\rajat\\AppData\\Roaming\\nltk_data...\n",
      "[nltk_data]    |   Package product_reviews_2 is already up-to-date!\n",
      "[nltk_data]    | Downloading package propbank to\n",
      "[nltk_data]    |     C:\\Users\\rajat\\AppData\\Roaming\\nltk_data...\n",
      "[nltk_data]    |   Package propbank is already up-to-date!\n",
      "[nltk_data]    | Downloading package pros_cons to\n",
      "[nltk_data]    |     C:\\Users\\rajat\\AppData\\Roaming\\nltk_data...\n",
      "[nltk_data]    |   Package pros_cons is already up-to-date!\n",
      "[nltk_data]    | Downloading package ptb to\n",
      "[nltk_data]    |     C:\\Users\\rajat\\AppData\\Roaming\\nltk_data...\n",
      "[nltk_data]    |   Package ptb is already up-to-date!\n",
      "[nltk_data]    | Downloading package punkt to\n",
      "[nltk_data]    |     C:\\Users\\rajat\\AppData\\Roaming\\nltk_data...\n",
      "[nltk_data]    |   Package punkt is already up-to-date!\n",
      "[nltk_data]    | Downloading package qc to\n",
      "[nltk_data]    |     C:\\Users\\rajat\\AppData\\Roaming\\nltk_data...\n",
      "[nltk_data]    |   Package qc is already up-to-date!\n",
      "[nltk_data]    | Downloading package reuters to\n",
      "[nltk_data]    |     C:\\Users\\rajat\\AppData\\Roaming\\nltk_data...\n",
      "[nltk_data]    |   Package reuters is already up-to-date!\n",
      "[nltk_data]    | Downloading package rslp to\n",
      "[nltk_data]    |     C:\\Users\\rajat\\AppData\\Roaming\\nltk_data...\n",
      "[nltk_data]    |   Package rslp is already up-to-date!\n",
      "[nltk_data]    | Downloading package rte to\n",
      "[nltk_data]    |     C:\\Users\\rajat\\AppData\\Roaming\\nltk_data...\n",
      "[nltk_data]    |   Package rte is already up-to-date!\n",
      "[nltk_data]    | Downloading package sample_grammars to\n",
      "[nltk_data]    |     C:\\Users\\rajat\\AppData\\Roaming\\nltk_data...\n",
      "[nltk_data]    |   Package sample_grammars is already up-to-date!\n",
      "[nltk_data]    | Downloading package semcor to\n",
      "[nltk_data]    |     C:\\Users\\rajat\\AppData\\Roaming\\nltk_data...\n",
      "[nltk_data]    |   Package semcor is already up-to-date!\n",
      "[nltk_data]    | Downloading package senseval to\n",
      "[nltk_data]    |     C:\\Users\\rajat\\AppData\\Roaming\\nltk_data...\n",
      "[nltk_data]    |   Package senseval is already up-to-date!\n",
      "[nltk_data]    | Downloading package sentence_polarity to\n",
      "[nltk_data]    |     C:\\Users\\rajat\\AppData\\Roaming\\nltk_data...\n",
      "[nltk_data]    |   Package sentence_polarity is already up-to-date!\n",
      "[nltk_data]    | Downloading package sentiwordnet to\n",
      "[nltk_data]    |     C:\\Users\\rajat\\AppData\\Roaming\\nltk_data...\n",
      "[nltk_data]    |   Package sentiwordnet is already up-to-date!\n",
      "[nltk_data]    | Downloading package shakespeare to\n",
      "[nltk_data]    |     C:\\Users\\rajat\\AppData\\Roaming\\nltk_data...\n",
      "[nltk_data]    |   Package shakespeare is already up-to-date!\n",
      "[nltk_data]    | Downloading package sinica_treebank to\n",
      "[nltk_data]    |     C:\\Users\\rajat\\AppData\\Roaming\\nltk_data...\n",
      "[nltk_data]    |   Package sinica_treebank is already up-to-date!\n",
      "[nltk_data]    | Downloading package smultron to\n",
      "[nltk_data]    |     C:\\Users\\rajat\\AppData\\Roaming\\nltk_data...\n",
      "[nltk_data]    |   Package smultron is already up-to-date!\n",
      "[nltk_data]    | Downloading package snowball_data to\n",
      "[nltk_data]    |     C:\\Users\\rajat\\AppData\\Roaming\\nltk_data...\n",
      "[nltk_data]    |   Package snowball_data is already up-to-date!\n",
      "[nltk_data]    | Downloading package spanish_grammars to\n",
      "[nltk_data]    |     C:\\Users\\rajat\\AppData\\Roaming\\nltk_data...\n",
      "[nltk_data]    |   Package spanish_grammars is already up-to-date!\n",
      "[nltk_data]    | Downloading package state_union to\n",
      "[nltk_data]    |     C:\\Users\\rajat\\AppData\\Roaming\\nltk_data...\n",
      "[nltk_data]    |   Package state_union is already up-to-date!\n",
      "[nltk_data]    | Downloading package stopwords to\n",
      "[nltk_data]    |     C:\\Users\\rajat\\AppData\\Roaming\\nltk_data...\n",
      "[nltk_data]    |   Package stopwords is already up-to-date!\n",
      "[nltk_data]    | Downloading package subjectivity to\n",
      "[nltk_data]    |     C:\\Users\\rajat\\AppData\\Roaming\\nltk_data...\n",
      "[nltk_data]    |   Package subjectivity is already up-to-date!\n",
      "[nltk_data]    | Downloading package swadesh to\n",
      "[nltk_data]    |     C:\\Users\\rajat\\AppData\\Roaming\\nltk_data...\n",
      "[nltk_data]    |   Package swadesh is already up-to-date!\n",
      "[nltk_data]    | Downloading package switchboard to\n",
      "[nltk_data]    |     C:\\Users\\rajat\\AppData\\Roaming\\nltk_data...\n",
      "[nltk_data]    |   Package switchboard is already up-to-date!\n",
      "[nltk_data]    | Downloading package tagsets to\n",
      "[nltk_data]    |     C:\\Users\\rajat\\AppData\\Roaming\\nltk_data...\n",
      "[nltk_data]    |   Package tagsets is already up-to-date!\n",
      "[nltk_data]    | Downloading package timit to\n",
      "[nltk_data]    |     C:\\Users\\rajat\\AppData\\Roaming\\nltk_data...\n",
      "[nltk_data]    |   Package timit is already up-to-date!\n",
      "[nltk_data]    | Downloading package toolbox to\n",
      "[nltk_data]    |     C:\\Users\\rajat\\AppData\\Roaming\\nltk_data...\n",
      "[nltk_data]    |   Package toolbox is already up-to-date!\n",
      "[nltk_data]    | Downloading package treebank to\n",
      "[nltk_data]    |     C:\\Users\\rajat\\AppData\\Roaming\\nltk_data...\n",
      "[nltk_data]    |   Package treebank is already up-to-date!\n",
      "[nltk_data]    | Downloading package twitter_samples to\n",
      "[nltk_data]    |     C:\\Users\\rajat\\AppData\\Roaming\\nltk_data...\n",
      "[nltk_data]    |   Package twitter_samples is already up-to-date!\n",
      "[nltk_data]    | Downloading package udhr to\n",
      "[nltk_data]    |     C:\\Users\\rajat\\AppData\\Roaming\\nltk_data...\n",
      "[nltk_data]    |   Package udhr is already up-to-date!\n",
      "[nltk_data]    | Downloading package udhr2 to\n",
      "[nltk_data]    |     C:\\Users\\rajat\\AppData\\Roaming\\nltk_data...\n",
      "[nltk_data]    |   Package udhr2 is already up-to-date!\n",
      "[nltk_data]    | Downloading package unicode_samples to\n",
      "[nltk_data]    |     C:\\Users\\rajat\\AppData\\Roaming\\nltk_data...\n",
      "[nltk_data]    |   Package unicode_samples is already up-to-date!\n",
      "[nltk_data]    | Downloading package universal_tagset to\n",
      "[nltk_data]    |     C:\\Users\\rajat\\AppData\\Roaming\\nltk_data...\n",
      "[nltk_data]    |   Package universal_tagset is already up-to-date!\n",
      "[nltk_data]    | Downloading package universal_treebanks_v20 to\n",
      "[nltk_data]    |     C:\\Users\\rajat\\AppData\\Roaming\\nltk_data...\n",
      "[nltk_data]    |   Package universal_treebanks_v20 is already up-to-\n",
      "[nltk_data]    |       date!\n",
      "[nltk_data]    | Downloading package vader_lexicon to\n",
      "[nltk_data]    |     C:\\Users\\rajat\\AppData\\Roaming\\nltk_data...\n",
      "[nltk_data]    |   Package vader_lexicon is already up-to-date!\n",
      "[nltk_data]    | Downloading package verbnet to\n",
      "[nltk_data]    |     C:\\Users\\rajat\\AppData\\Roaming\\nltk_data...\n",
      "[nltk_data]    |   Package verbnet is already up-to-date!\n",
      "[nltk_data]    | Downloading package verbnet3 to\n",
      "[nltk_data]    |     C:\\Users\\rajat\\AppData\\Roaming\\nltk_data...\n",
      "[nltk_data]    |   Package verbnet3 is already up-to-date!\n",
      "[nltk_data]    | Downloading package webtext to\n",
      "[nltk_data]    |     C:\\Users\\rajat\\AppData\\Roaming\\nltk_data...\n",
      "[nltk_data]    |   Package webtext is already up-to-date!\n",
      "[nltk_data]    | Downloading package wmt15_eval to\n",
      "[nltk_data]    |     C:\\Users\\rajat\\AppData\\Roaming\\nltk_data...\n",
      "[nltk_data]    |   Package wmt15_eval is already up-to-date!\n",
      "[nltk_data]    | Downloading package word2vec_sample to\n",
      "[nltk_data]    |     C:\\Users\\rajat\\AppData\\Roaming\\nltk_data...\n",
      "[nltk_data]    |   Package word2vec_sample is already up-to-date!\n",
      "[nltk_data]    | Downloading package wordnet to\n",
      "[nltk_data]    |     C:\\Users\\rajat\\AppData\\Roaming\\nltk_data...\n",
      "[nltk_data]    |   Package wordnet is already up-to-date!\n",
      "[nltk_data]    | Downloading package wordnet2021 to\n",
      "[nltk_data]    |     C:\\Users\\rajat\\AppData\\Roaming\\nltk_data...\n",
      "[nltk_data]    |   Package wordnet2021 is already up-to-date!\n",
      "[nltk_data]    | Downloading package wordnet2022 to\n",
      "[nltk_data]    |     C:\\Users\\rajat\\AppData\\Roaming\\nltk_data...\n",
      "[nltk_data]    |   Package wordnet2022 is already up-to-date!\n",
      "[nltk_data]    | Downloading package wordnet31 to\n",
      "[nltk_data]    |     C:\\Users\\rajat\\AppData\\Roaming\\nltk_data...\n",
      "[nltk_data]    |   Package wordnet31 is already up-to-date!\n",
      "[nltk_data]    | Downloading package wordnet_ic to\n",
      "[nltk_data]    |     C:\\Users\\rajat\\AppData\\Roaming\\nltk_data...\n",
      "[nltk_data]    |   Package wordnet_ic is already up-to-date!\n",
      "[nltk_data]    | Downloading package words to\n",
      "[nltk_data]    |     C:\\Users\\rajat\\AppData\\Roaming\\nltk_data...\n",
      "[nltk_data]    |   Package words is already up-to-date!\n",
      "[nltk_data]    | Downloading package ycoe to\n",
      "[nltk_data]    |     C:\\Users\\rajat\\AppData\\Roaming\\nltk_data...\n",
      "[nltk_data]    |   Package ycoe is already up-to-date!\n",
      "[nltk_data]    | \n",
      "[nltk_data]  Done downloading collection all\n"
     ]
    },
    {
     "data": {
      "text/plain": [
       "True"
      ]
     },
     "execution_count": 6,
     "metadata": {},
     "output_type": "execute_result"
    }
   ],
   "source": [
    "nltk.download('all')"
   ]
  },
  {
   "cell_type": "markdown",
   "id": "cb684b9b-04e8-4b2d-8a5f-5bd8f65e1723",
   "metadata": {
    "tags": []
   },
   "source": [
    "### <center> Creating classes and functions to avoid code redundancy"
   ]
  },
  {
   "cell_type": "code",
   "execution_count": 7,
   "id": "8082e013-da99-4336-9f01-e071c792a243",
   "metadata": {
    "tags": []
   },
   "outputs": [],
   "source": [
    "# Creating a class to encapsulate all the necessary functions for this project\n",
    "class nlp_on_news():\n",
    "    \n",
    "    # Creating the class constructor so the object of the class can be initiated\n",
    "    def __init__(self):\n",
    "        pass\n",
    "    \n",
    "    # Creating a function to clean the text, remove stopwords, lemmatize the tokens and create a string with the filtered words remaining\n",
    "    # INPUT <- Text to be filtered before sentiment analysis\n",
    "    # OUTPUT -> Filtered Text\n",
    "    def cleaning_text(self, text):\n",
    "        # Splitting the text\n",
    "        split_text = word_tokenize(text.lower())\n",
    "        # Removing the stop words\n",
    "        filtered_words = [token for token in split_text if token not in stopwords.words('english')]\n",
    "        # Lemmatizing the tokens\n",
    "        lemmatizer = WordNetLemmatizer()\n",
    "        words_lemmatized = [lemmatizer.lemmatize(token) for token in filtered_words]\n",
    "        # Joining the tokens back into a string\n",
    "        result = ' '.join(words_lemmatized)\n",
    "        return result\n",
    "    \n",
    "    # Creating function to return whether the given sentence has a positive tone or negative\n",
    "    # INPUT <- Sentencce text\n",
    "    # Output -> Tone of the sentence (positive or negative)\n",
    "    def sentiment_score_calculation(self, text):\n",
    "        score_calculation = SentimentIntensityAnalyzer()\n",
    "        scores = score_calculation.polarity_scores(text)\n",
    "        return 1 if scores['pos'] > 0 else 0\n",
    "    \n",
    "    # Creating the function to scrape the new article data of 50 companies from Yahoo Finanace and generate a DataFrame with the company details and news\n",
    "    # INPUT <- List of company abbreviation as per market listing\n",
    "    # OUTPUT -> DataFrame with the columns: ['company_name', 'article_date', 'news_title', 'news_summary', 'nlp_score']\n",
    "    def dataframe_generation(self, company_names_mexico):\n",
    "        \n",
    "        # API Key and URL to access the news from the API\n",
    "        api_key = \"3e298c349769484284ed687241c841dd\"\n",
    "        base_url = 'https://newsapi.org/v2/everything'    \n",
    "\n",
    "        news_list = []\n",
    "        # Iterate through all companies\n",
    "        for company in company_names_mexico:\n",
    "            parameters = {'q': company,\n",
    "                          'apiKey': api_key,\n",
    "                          'sortBy': 'relevancy',\n",
    "                          'language': 'en',}\n",
    "\n",
    "            # Extracting articles for each company\n",
    "            response = requests.get(base_url, parameters)\n",
    "            data = response.json()\n",
    "            news_list.append(data)\n",
    "        \n",
    "        # Creating a DataFrame with the desired schema\n",
    "        df = pd.DataFrame(columns=['company_name', 'article_date', 'news_title', 'news_summary', 'nlp_score'])\n",
    "        not_available_set = set()\n",
    "\n",
    "        loc = 0\n",
    "        # Iterating through all the 50 companies articles\n",
    "        for i in news_list:\n",
    "            if i['status'] == 'ok':\n",
    "                # Scraping 5 news articles from Yahoo Finance\n",
    "                for j in i['articles'][:5]:\n",
    "                    # Adding the company related data to the DataFrame rows\n",
    "                    df = df.append({'company_name' : company_names_mexico[loc],\n",
    "                                    'article_date' : j['publishedAt'],\n",
    "                                    'news_title' : j['title'],\n",
    "                                    'news_summary' : j['description'],\n",
    "                                    'nlp_score' : nlp_obj.sentiment_score_calculation(nlp_obj.cleaning_text(j['title']))},\n",
    "                                    ignore_index=True)\n",
    "            # Location variable to remeber the Company Name\n",
    "            loc += 1\n",
    "\n",
    "        return df\n"
   ]
  },
  {
   "cell_type": "markdown",
   "id": "dc12a460-abfb-45a4-ba9b-a89d7312e555",
   "metadata": {},
   "source": [
    "# Yahoo Finance API Testing (Might take huge time to run)"
   ]
  },
  {
   "cell_type": "code",
   "execution_count": 8,
   "id": "819c1b03-7dc2-4065-8c8e-9d45912b88b3",
   "metadata": {
    "tags": []
   },
   "outputs": [
    {
     "name": "stdout",
     "output_type": "stream",
     "text": [
      "The Number of companies available on Yahoo Finance News API for Mexico out of 72 companies are: 11\n"
     ]
    }
   ],
   "source": [
    "# Creating a list of 72 Public Companies in Mexico\n",
    "mexico_72_public_companies = ['AC.MX', 'ALFAA.MX', 'ALSEA.MX', 'ASURB.MX', 'BIMBOA.MX', 'GCC.MX', 'KOFUBL.MX', 'LABB.MX', 'ORBIA.MX', 'WALMEX.MX', 'GAPB.MX',\n",
    "                               'LABB.MX', 'ALSEA.MX', 'ALFAA.MX', 'ALSEA.MX', 'ASURB.MX', 'BIMBOA.MX', 'GCC.MX', 'KOFUBL.MX', 'LABB.MX', 'ORBIA.MX', 'WALMEX.MX',\n",
    "                               'GAPB.MX', 'LABB.MX', 'ALSEA.MX', 'ALFAA.MX', 'ALSEA.MX', 'ASURB.MX', 'BIMBOA.MX', 'GCC.MX', 'KOFUBL.MX', 'LABB.MX', 'ORBIA.MX',\n",
    "                               'WALMEX.MX', 'GAPB.MX', 'LABB.MX', 'ALSEA.MX', 'ALFAA.MX', 'ALSEA.MX', 'ASURB.MX', 'BIMBOA.MX', 'GCC.MX', 'KOFUBL.MX', 'LABB.MX',\n",
    "                               'ORBIA.MX', 'WALMEX.MX', 'GAPB.MX', 'LABB.MX', 'ALSEA.MX', 'ALFAA.MX', 'ALSEA.MX', 'ASURB.MX', 'BIMBOA.MX', 'GCC.MX', 'KOFUBL.MX',\n",
    "                               'LABB.MX', 'ORBIA.MX', 'WALMEX.MX', 'GAPB.MX', 'LABB.MX', 'ALSEA.MX', 'ALFAA.MX', 'ALSEA.MX', 'ASURB.MX', 'BIMBOA.MX', 'GCC.MX',\n",
    "                               'KOFUBL.MX', 'LABB.MX', 'ORBIA.MX', 'WALMEX.MX', 'GAPB.MX', 'LABB.MX']\n",
    "\n",
    "# Passing the list in a function to pull the financial news article for each company and create a DataFrame out of it\n",
    "df = pd.DataFrame(columns=['company_name', 'company_abbreviation', 'news_title', 'news_summary', 'nlp_tone'])\n",
    "not_available_set = set()\n",
    "\n",
    "for i in mexico_72_public_companies:\n",
    "    try:\n",
    "        news_info = news.get_yf_rss(i)[:5]\n",
    "        for j in range(5):\n",
    "            df = df.append({'company_name' : yf.Ticker(i).info['longName'],\n",
    "                            'company_abbreviation' : i,\n",
    "                            'news_title' : news_info[j]['title'],\n",
    "                            'news_summary' : news_info[j]['summary']},\n",
    "                            ignore_index=True)\n",
    "\n",
    "    except:\n",
    "        not_available_set.add(i)\n",
    "\n",
    "print(f'The Number of companies available on Yahoo Finance News API for Mexico out of 72 companies are: {len(df[\"company_name\"].unique())}')"
   ]
  },
  {
   "cell_type": "markdown",
   "id": "250c9571-38f8-4af9-8ba8-d78d5e42106b",
   "metadata": {
    "tags": []
   },
   "source": [
    "# Google News API Testing (Commented out this code as it takes huge load of time to run. Output snippet mentioned in report)"
   ]
  },
  {
   "cell_type": "code",
   "execution_count": 9,
   "id": "2c3a51f1-42f7-43d6-8570-194b2a75f7fd",
   "metadata": {},
   "outputs": [
    {
     "data": {
      "text/plain": [
       "\"\\n# Extracting Articles from Google News API\\ncompanies_72 = ['AC.MX', 'ALFAA.MX', 'ALSEA.MX', 'ASURB.MX', 'BIMBOA.MX', 'GCC.MX', 'KOFUBL.MX', 'LABB.MX', 'ORBIA.MX', 'WALMEX.MX', 'GAPB.MX',\\n               'LABB.MX', 'ALSEA.MX', 'ALFAA.MX', 'ALSEA.MX', 'ASURB.MX', 'BIMBOA.MX', 'GCC.MX', 'KOFUBL.MX', 'LABB.MX', 'ORBIA.MX', 'WALMEX.MX',\\n               'GAPB.MX', 'LABB.MX', 'ALSEA.MX', 'ALFAA.MX', 'ALSEA.MX', 'ASURB.MX', 'BIMBOA.MX', 'GCC.MX', 'KOFUBL.MX', 'LABB.MX', 'ORBIA.MX',\\n               'WALMEX.MX', 'GAPB.MX', 'LABB.MX', 'ALSEA.MX', 'ALFAA.MX', 'ALSEA.MX', 'ASURB.MX', 'BIMBOA.MX', 'GCC.MX', 'KOFUBL.MX', 'LABB.MX',\\n               'ORBIA.MX', 'WALMEX.MX', 'GAPB.MX', 'LABB.MX', 'ALSEA.MX', 'ALFAA.MX', 'ALSEA.MX', 'ASURB.MX', 'BIMBOA.MX', 'GCC.MX', 'KOFUBL.MX',\\n               'LABB.MX', 'ORBIA.MX', 'WALMEX.MX', 'GAPB.MX', 'LABB.MX', 'ALSEA.MX', 'ALFAA.MX', 'ALSEA.MX', 'ASURB.MX', 'BIMBOA.MX', 'GCC.MX',\\n               'KOFUBL.MX', 'LABB.MX', 'ORBIA.MX', 'WALMEX.MX', 'GAPB.MX', 'LABB.MX']\\nnews_list = []\\nfor i in companies_72:\\n    # Creating Object\\n    googlenews = GoogleNews()\\n\\n    # Extracting News\\n    googlenews.search(i)\\n\\n    # Fetch news article for page 1\\n    googlenews.get_page(1)\\n\\n    # Fetching news result\\n    news_results = googlenews.results()\\n\\n    # Get the titles and links of 5 news articles for each company\\n    for news in news_results[:5]:\\n        news_list.append(news)\\n\\n# Printing \\nprint(f'Number of companies extracted from Google News API out of 72: {len(news_list)/5}')\\n\""
      ]
     },
     "execution_count": 9,
     "metadata": {},
     "output_type": "execute_result"
    }
   ],
   "source": [
    "\"\"\"\n",
    "# Extracting Articles from Google News API\n",
    "companies_72 = ['AC.MX', 'ALFAA.MX', 'ALSEA.MX', 'ASURB.MX', 'BIMBOA.MX', 'GCC.MX', 'KOFUBL.MX', 'LABB.MX', 'ORBIA.MX', 'WALMEX.MX', 'GAPB.MX',\n",
    "               'LABB.MX', 'ALSEA.MX', 'ALFAA.MX', 'ALSEA.MX', 'ASURB.MX', 'BIMBOA.MX', 'GCC.MX', 'KOFUBL.MX', 'LABB.MX', 'ORBIA.MX', 'WALMEX.MX',\n",
    "               'GAPB.MX', 'LABB.MX', 'ALSEA.MX', 'ALFAA.MX', 'ALSEA.MX', 'ASURB.MX', 'BIMBOA.MX', 'GCC.MX', 'KOFUBL.MX', 'LABB.MX', 'ORBIA.MX',\n",
    "               'WALMEX.MX', 'GAPB.MX', 'LABB.MX', 'ALSEA.MX', 'ALFAA.MX', 'ALSEA.MX', 'ASURB.MX', 'BIMBOA.MX', 'GCC.MX', 'KOFUBL.MX', 'LABB.MX',\n",
    "               'ORBIA.MX', 'WALMEX.MX', 'GAPB.MX', 'LABB.MX', 'ALSEA.MX', 'ALFAA.MX', 'ALSEA.MX', 'ASURB.MX', 'BIMBOA.MX', 'GCC.MX', 'KOFUBL.MX',\n",
    "               'LABB.MX', 'ORBIA.MX', 'WALMEX.MX', 'GAPB.MX', 'LABB.MX', 'ALSEA.MX', 'ALFAA.MX', 'ALSEA.MX', 'ASURB.MX', 'BIMBOA.MX', 'GCC.MX',\n",
    "               'KOFUBL.MX', 'LABB.MX', 'ORBIA.MX', 'WALMEX.MX', 'GAPB.MX', 'LABB.MX']\n",
    "news_list = []\n",
    "for i in companies_72:\n",
    "    # Creating Object\n",
    "    googlenews = GoogleNews()\n",
    "\n",
    "    # Extracting News\n",
    "    googlenews.search(i)\n",
    "\n",
    "    # Fetch news article for page 1\n",
    "    googlenews.get_page(1)\n",
    "\n",
    "    # Fetching news result\n",
    "    news_results = googlenews.results()\n",
    "\n",
    "    # Get the titles and links of 5 news articles for each company\n",
    "    for news in news_results[:5]:\n",
    "        news_list.append(news)\n",
    "\n",
    "# Printing \n",
    "print(f'Number of companies extracted from Google News API out of 72: {len(news_list)/5}')\n",
    "\"\"\""
   ]
  },
  {
   "cell_type": "markdown",
   "id": "35b99303-bba4-438a-9a04-e0223716b9a6",
   "metadata": {},
   "source": [
    "# News API (26 Companies)"
   ]
  },
  {
   "cell_type": "code",
   "execution_count": 10,
   "id": "e8e72479-c1a1-43bc-8d13-3138dd7f22b7",
   "metadata": {
    "tags": []
   },
   "outputs": [],
   "source": [
    "# Creating a list of 132 Public Companies in Mexico\n",
    "company_names_mexico = [\"Grupo Bimbo\", \"Grupo Elektra\", \"Grupo Financiero Banorte\", \"América Móvil\", \"Grupo Aeroportuario del Sureste\", \"Grupo México\", \"Cemex\",\n",
    "                        \"Grupo Televisa\", \"Grupo Carso\", \"Grupo Sanborns\", \"Grupo Alfa\", \"Grupo Lala\", \"Grupo Herdez\", \"Grupo Gigante\", \"Grupo Lamosa\", \"Grupo Bafar\",\n",
    "                        \"Grupo Gentera\", \"Grupo Modelo\", \"Grupo Simec\", \"Grupo Industrial Saltillo\", \"Grupo Kuo\", \"Grupo Rotoplas\",\n",
    "                        \"Grupo Aeroportuario del Pacífico\", \"Grupo Financiero Inbursa\", \"Grupo Gondi\", \"Grupo Aeroportuario del Norte\",\n",
    "                        \"Grupo Aeroportuario del Centro Norte\", \"Grupo Financiero Interacciones\", \"Grupo Elektra\", \"Grupo Aeroportuario del Sur\", \"Grupo Carso\",\n",
    "                        \"Grupo Grupo México\", \"Grupo Sanborns\", \"Grupo Gigante\", \"Grupo Alfa\", \"Grupo Herdez\", \"Grupo Bimbo\", \"Grupo Financiero Inbursa\", \"Grupo Kuo\",\n",
    "                        \"Grupo Sanborns\", \"Grupo Modelo\", \"Grupo Simec\", \"Grupo Industrial Saltillo\", \"Grupo Aeroportuario del Sureste\", \"Grupo Simec\", \"Grupo Carso\",\n",
    "                        \"Grupo Elektra\", \"Grupo Rotoplas\", \"Grupo Bafar\", \"Grupo Aeroportuario del Pacífico\", \"Grupo Gentera\", \"Grupo Kuo\",\n",
    "                        \"Grupo Financiero Interacciones\", \"Grupo Elektra\", \"Grupo Aeroportuario del Norte\", \"Grupo Kuo\", \"Grupo Rotoplas\", \"Grupo Carso\",\n",
    "                        \"Grupo México\", \"Grupo Lala\", \"Grupo Gigante\", \"Grupo Alfa\", \"Grupo Herdez\", \"Grupo Bimbo\", \"Grupo Financiero Inbursa\", \"Grupo Kuo\",\n",
    "                        \"Grupo Sanborns\", \"Grupo Modelo\", \"Grupo Simec\", \"Grupo Industrial Saltillo\", \"Grupo Aeroportuario del Sureste\", \"Grupo Simec\", \"Grupo Carso\",\n",
    "                        \"Grupo Elektra\", \"Grupo Rotoplas\", \"Grupo Bafar\", \"Grupo Aeroportuario del Pacífico\", \"Grupo Gentera\", \"Grupo Kuo\",\n",
    "                        \"Grupo Financiero Interacciones\", \"Grupo Elektra\", \"Grupo Aeroportuario del Norte\", \"Grupo Kuo\", \"Grupo Rotoplas\", \"Grupo Carso\",\n",
    "                        \"Grupo México\", \"Grupo Lala\", \"Grupo Gigante\", \"Grupo Alfa\", \"Grupo Herdez\", \"Grupo Bimbo\", \"Grupo Financiero Inbursa\", \"Grupo Kuo\", \"Grupo Sanborns\", \"Grupo Modelo\", \"Grupo Simec\", \"Grupo Industrial Saltillo\", \"Grupo Aeroportuario del Sureste\", \"Grupo Simec\", \"Grupo Carso\", \"Grupo Elektra\", \"Grupo Rotoplas\", \"Grupo Bafar\", \"Grupo Aeroportuario del Pacífico\", \"Grupo Gentera\", \"Grupo Kuo\", \"Grupo Financiero Interacciones\", \"Grupo Elektra\", \"Grupo Aeroportuario del Norte\", \"Grupo Kuo\", \"Grupo Rotoplas\", 'Grupo Elektra',\n",
    "                        'Grupo Gentera', 'Grupo Gondi', 'Grupo Financiero Interacciones', 'Grupo Sanborns', 'Grupo Herdez', 'Grupo Kuo', 'Grupo Grupo México',\n",
    "                        'Grupo Gigante', 'Grupo Alfa', 'Grupo Financiero Inbursa', 'Grupo Modelo', 'Grupo Simec', 'Grupo Industrial Saltillo',\n",
    "                        'Grupo Aeroportuario del Sureste', 'Grupo Carso', 'Grupo Bafar', 'Grupo Aeroportuario del Pacífico', 'Grupo Aeroportuario del Norte',\n",
    "                        'Grupo Lala', 'Grupo Rotoplas', 'Grupo Mexico', 'Grupo Salinas', 'Grupo Industrial Maseca', 'Grupo Lamosa', 'Grupo Bimbo', 'Grupo TMM',\n",
    "                        'Grupo Tampico', 'Grupo Posadas', 'Grupo OMA', 'Grupo Senda', 'Grupo Vitro', 'Grupo Sare', 'Grupo Simec', 'Grupo Bimbo', 'Grupo Gepp',\n",
    "                        'Grupo Cementos Chihuahua', 'Grupo Comercial Chedraui', 'Grupo Famsa', 'Grupo Lamosa', 'Grupo Mexico', 'Grupo Bafar', 'Grupo Herdez',\n",
    "                        'Grupo Cemex', 'Grupo Xcaret', 'Grupo Fertinal', 'Grupo Bimbo', 'Grupo México']\n",
    "\n",
    "# creating an object for the class to call the function\n",
    "nlp_obj = nlp_on_news()\n",
    "\n",
    "# Passing the list in a function to pull the financial news article for each company and create a DataFrame out of it\n",
    "result_df = nlp_obj.dataframe_generation(company_names_mexico)"
   ]
  },
  {
   "cell_type": "code",
   "execution_count": 11,
   "id": "41d33e36-2694-40e1-9f1a-b2fa9740d484",
   "metadata": {
    "tags": []
   },
   "outputs": [
    {
     "data": {
      "text/plain": [
       "26"
      ]
     },
     "execution_count": 11,
     "metadata": {},
     "output_type": "execute_result"
    }
   ],
   "source": [
    "# Number of unique companies available through APIs\n",
    "len(result_df['company_name'].unique())"
   ]
  },
  {
   "cell_type": "code",
   "execution_count": 12,
   "id": "3cd7e6e7-623e-4773-b779-15738d04b107",
   "metadata": {
    "tags": []
   },
   "outputs": [
    {
     "data": {
      "text/plain": [
       "383"
      ]
     },
     "execution_count": 12,
     "metadata": {},
     "output_type": "execute_result"
    }
   ],
   "source": [
    "# Count of number of rows where each row represents a news article\n",
    "result_df.count()[0]"
   ]
  },
  {
   "cell_type": "code",
   "execution_count": 13,
   "id": "5da46a61-235d-4728-a62d-4ab418b5f958",
   "metadata": {
    "tags": []
   },
   "outputs": [],
   "source": [
    "# Adding column nlp_tone(positive, negative) as per nlp_score (0, 1)\n",
    "result_df.loc[result_df['nlp_score'] == 1, 'nlp_tone'] = 'positive'\n",
    "result_df.loc[result_df['nlp_score'] == 0, 'nlp_tone'] = 'negative'"
   ]
  },
  {
   "cell_type": "code",
   "execution_count": 14,
   "id": "d0ce7aaf-243d-409f-896d-5c0c73befe43",
   "metadata": {
    "tags": []
   },
   "outputs": [
    {
     "data": {
      "text/html": [
       "<div>\n",
       "<style scoped>\n",
       "    .dataframe tbody tr th:only-of-type {\n",
       "        vertical-align: middle;\n",
       "    }\n",
       "\n",
       "    .dataframe tbody tr th {\n",
       "        vertical-align: top;\n",
       "    }\n",
       "\n",
       "    .dataframe thead th {\n",
       "        text-align: right;\n",
       "    }\n",
       "</style>\n",
       "<table border=\"1\" class=\"dataframe\">\n",
       "  <thead>\n",
       "    <tr style=\"text-align: right;\">\n",
       "      <th></th>\n",
       "      <th>company_name</th>\n",
       "      <th>article_date</th>\n",
       "      <th>news_title</th>\n",
       "      <th>news_summary</th>\n",
       "      <th>nlp_score</th>\n",
       "      <th>nlp_tone</th>\n",
       "    </tr>\n",
       "  </thead>\n",
       "  <tbody>\n",
       "    <tr>\n",
       "      <th>0</th>\n",
       "      <td>Grupo Bimbo</td>\n",
       "      <td>2024-02-01T19:45:34Z</td>\n",
       "      <td>Who Owns Takis? – Takis Company History</td>\n",
       "      <td>Takis, the popular rolled corn tortilla chip s...</td>\n",
       "      <td>0</td>\n",
       "      <td>negative</td>\n",
       "    </tr>\n",
       "    <tr>\n",
       "      <th>1</th>\n",
       "      <td>Grupo Bimbo</td>\n",
       "      <td>2024-01-28T10:10:42Z</td>\n",
       "      <td>Grupo Bimbo, S.A.B. de C.V. (OTCMKTS:GRBMF) Sh...</td>\n",
       "      <td>Grupo Bimbo, S.A.B. de C.V. (OTCMKTS:GRBMF – G...</td>\n",
       "      <td>1</td>\n",
       "      <td>positive</td>\n",
       "    </tr>\n",
       "    <tr>\n",
       "      <th>2</th>\n",
       "      <td>Grupo Bimbo</td>\n",
       "      <td>2024-01-26T17:08:54Z</td>\n",
       "      <td>Grupo Bimbo, S.A.B. de C.V. (OTCMKTS:BMBOY) Sh...</td>\n",
       "      <td>Grupo Bimbo, S.A.B. de C.V. (OTCMKTS:BMBOY – G...</td>\n",
       "      <td>1</td>\n",
       "      <td>positive</td>\n",
       "    </tr>\n",
       "    <tr>\n",
       "      <th>3</th>\n",
       "      <td>Grupo Bimbo</td>\n",
       "      <td>2024-01-26T06:56:46Z</td>\n",
       "      <td>Utz Brands (NYSE:UTZ) and Grupo Bimbo (OTCMKTS...</td>\n",
       "      <td>Utz Brands (NYSE:UTZ – Get Free Report) and Gr...</td>\n",
       "      <td>0</td>\n",
       "      <td>negative</td>\n",
       "    </tr>\n",
       "    <tr>\n",
       "      <th>4</th>\n",
       "      <td>Grupo Bimbo</td>\n",
       "      <td>2024-01-31T15:13:25Z</td>\n",
       "      <td>PHD retains HP’s global media account</td>\n",
       "      <td>The retention continues a relationship that be...</td>\n",
       "      <td>0</td>\n",
       "      <td>negative</td>\n",
       "    </tr>\n",
       "    <tr>\n",
       "      <th>5</th>\n",
       "      <td>Grupo Financiero Banorte</td>\n",
       "      <td>2024-02-02T15:15:00Z</td>\n",
       "      <td>Finovate Global Mexico: Banorte’s Digital Bank...</td>\n",
       "      <td>This week in Finovate Global we take a look at...</td>\n",
       "      <td>1</td>\n",
       "      <td>positive</td>\n",
       "    </tr>\n",
       "    <tr>\n",
       "      <th>6</th>\n",
       "      <td>Grupo Financiero Banorte</td>\n",
       "      <td>2024-01-31T10:16:42Z</td>\n",
       "      <td>Short Interest in Grupo Financiero Banorte, S....</td>\n",
       "      <td>Grupo Financiero Banorte, S.A.B. de C.V. (OTCM...</td>\n",
       "      <td>1</td>\n",
       "      <td>positive</td>\n",
       "    </tr>\n",
       "    <tr>\n",
       "      <th>7</th>\n",
       "      <td>Grupo Financiero Banorte</td>\n",
       "      <td>2024-01-17T21:30:39Z</td>\n",
       "      <td>Mexico's Banorte posts 13% profit jump in Q4 p...</td>\n",
       "      <td>(marketscreener.com) Mexico's Grupo\\nFinancier...</td>\n",
       "      <td>1</td>\n",
       "      <td>positive</td>\n",
       "    </tr>\n",
       "    <tr>\n",
       "      <th>8</th>\n",
       "      <td>Grupo Financiero Banorte</td>\n",
       "      <td>2024-01-17T21:12:00Z</td>\n",
       "      <td>Mexico's Banorte posts 13% profit jump in Q4</td>\n",
       "      <td>(marketscreener.com) Mexico's Grupo\\nFinancier...</td>\n",
       "      <td>1</td>\n",
       "      <td>positive</td>\n",
       "    </tr>\n",
       "    <tr>\n",
       "      <th>9</th>\n",
       "      <td>Grupo Financiero Banorte</td>\n",
       "      <td>2024-01-29T20:46:50Z</td>\n",
       "      <td>Mexico's Banorte launches digital bank bineo</td>\n",
       "      <td>(marketscreener.com) Grupo Financiero Banorte,...</td>\n",
       "      <td>0</td>\n",
       "      <td>negative</td>\n",
       "    </tr>\n",
       "    <tr>\n",
       "      <th>10</th>\n",
       "      <td>América Móvil</td>\n",
       "      <td>2024-02-01T17:17:59Z</td>\n",
       "      <td>Who Owns Straight Talk? – Straight Talk Compan...</td>\n",
       "      <td>Straight Talk Wireless, a popular name in the ...</td>\n",
       "      <td>1</td>\n",
       "      <td>positive</td>\n",
       "    </tr>\n",
       "    <tr>\n",
       "      <th>11</th>\n",
       "      <td>América Móvil</td>\n",
       "      <td>2024-01-19T10:16:45Z</td>\n",
       "      <td>América Móvil (NYSE:AMX) Downgraded by StockNe...</td>\n",
       "      <td>StockNews.com downgraded shares of América Móv...</td>\n",
       "      <td>0</td>\n",
       "      <td>negative</td>\n",
       "    </tr>\n",
       "    <tr>\n",
       "      <th>12</th>\n",
       "      <td>América Móvil</td>\n",
       "      <td>2024-02-06T09:52:41Z</td>\n",
       "      <td>América Móvil (AMX) Scheduled to Post Quarterl...</td>\n",
       "      <td>América Móvil (NYSE:AMX – Get Free Report) wil...</td>\n",
       "      <td>0</td>\n",
       "      <td>negative</td>\n",
       "    </tr>\n",
       "    <tr>\n",
       "      <th>13</th>\n",
       "      <td>América Móvil</td>\n",
       "      <td>2024-01-19T08:16:43Z</td>\n",
       "      <td>UBS Group Boosts América Móvil (NYSE:AMX) Pric...</td>\n",
       "      <td>América Móvil (NYSE:AMX – Free Report) had its...</td>\n",
       "      <td>1</td>\n",
       "      <td>positive</td>\n",
       "    </tr>\n",
       "    <tr>\n",
       "      <th>14</th>\n",
       "      <td>América Móvil</td>\n",
       "      <td>2024-01-20T11:04:41Z</td>\n",
       "      <td>SG Americas Securities LLC Sells 1,385 Shares ...</td>\n",
       "      <td>SG Americas Securities LLC reduced its stake i...</td>\n",
       "      <td>1</td>\n",
       "      <td>positive</td>\n",
       "    </tr>\n",
       "  </tbody>\n",
       "</table>\n",
       "</div>"
      ],
      "text/plain": [
       "                company_name          article_date  \\\n",
       "0                Grupo Bimbo  2024-02-01T19:45:34Z   \n",
       "1                Grupo Bimbo  2024-01-28T10:10:42Z   \n",
       "2                Grupo Bimbo  2024-01-26T17:08:54Z   \n",
       "3                Grupo Bimbo  2024-01-26T06:56:46Z   \n",
       "4                Grupo Bimbo  2024-01-31T15:13:25Z   \n",
       "5   Grupo Financiero Banorte  2024-02-02T15:15:00Z   \n",
       "6   Grupo Financiero Banorte  2024-01-31T10:16:42Z   \n",
       "7   Grupo Financiero Banorte  2024-01-17T21:30:39Z   \n",
       "8   Grupo Financiero Banorte  2024-01-17T21:12:00Z   \n",
       "9   Grupo Financiero Banorte  2024-01-29T20:46:50Z   \n",
       "10             América Móvil  2024-02-01T17:17:59Z   \n",
       "11             América Móvil  2024-01-19T10:16:45Z   \n",
       "12             América Móvil  2024-02-06T09:52:41Z   \n",
       "13             América Móvil  2024-01-19T08:16:43Z   \n",
       "14             América Móvil  2024-01-20T11:04:41Z   \n",
       "\n",
       "                                           news_title  \\\n",
       "0             Who Owns Takis? – Takis Company History   \n",
       "1   Grupo Bimbo, S.A.B. de C.V. (OTCMKTS:GRBMF) Sh...   \n",
       "2   Grupo Bimbo, S.A.B. de C.V. (OTCMKTS:BMBOY) Sh...   \n",
       "3   Utz Brands (NYSE:UTZ) and Grupo Bimbo (OTCMKTS...   \n",
       "4               PHD retains HP’s global media account   \n",
       "5   Finovate Global Mexico: Banorte’s Digital Bank...   \n",
       "6   Short Interest in Grupo Financiero Banorte, S....   \n",
       "7   Mexico's Banorte posts 13% profit jump in Q4 p...   \n",
       "8        Mexico's Banorte posts 13% profit jump in Q4   \n",
       "9        Mexico's Banorte launches digital bank bineo   \n",
       "10  Who Owns Straight Talk? – Straight Talk Compan...   \n",
       "11  América Móvil (NYSE:AMX) Downgraded by StockNe...   \n",
       "12  América Móvil (AMX) Scheduled to Post Quarterl...   \n",
       "13  UBS Group Boosts América Móvil (NYSE:AMX) Pric...   \n",
       "14  SG Americas Securities LLC Sells 1,385 Shares ...   \n",
       "\n",
       "                                         news_summary nlp_score  nlp_tone  \n",
       "0   Takis, the popular rolled corn tortilla chip s...         0  negative  \n",
       "1   Grupo Bimbo, S.A.B. de C.V. (OTCMKTS:GRBMF – G...         1  positive  \n",
       "2   Grupo Bimbo, S.A.B. de C.V. (OTCMKTS:BMBOY – G...         1  positive  \n",
       "3   Utz Brands (NYSE:UTZ – Get Free Report) and Gr...         0  negative  \n",
       "4   The retention continues a relationship that be...         0  negative  \n",
       "5   This week in Finovate Global we take a look at...         1  positive  \n",
       "6   Grupo Financiero Banorte, S.A.B. de C.V. (OTCM...         1  positive  \n",
       "7   (marketscreener.com) Mexico's Grupo\\nFinancier...         1  positive  \n",
       "8   (marketscreener.com) Mexico's Grupo\\nFinancier...         1  positive  \n",
       "9   (marketscreener.com) Grupo Financiero Banorte,...         0  negative  \n",
       "10  Straight Talk Wireless, a popular name in the ...         1  positive  \n",
       "11  StockNews.com downgraded shares of América Móv...         0  negative  \n",
       "12  América Móvil (NYSE:AMX – Get Free Report) wil...         0  negative  \n",
       "13  América Móvil (NYSE:AMX – Free Report) had its...         1  positive  \n",
       "14  SG Americas Securities LLC reduced its stake i...         1  positive  "
      ]
     },
     "execution_count": 14,
     "metadata": {},
     "output_type": "execute_result"
    }
   ],
   "source": [
    "# Display top 15 rows of the DataFrame\n",
    "result_df.head(15)"
   ]
  },
  {
   "cell_type": "code",
   "execution_count": 15,
   "id": "1bdb27fe-55f2-44a8-83df-e472db8a2711",
   "metadata": {
    "tags": []
   },
   "outputs": [],
   "source": [
    "# Set display options to show full content of cells so we can view the complete statement and verify\n",
    "pd.set_option('display.max_colwidth', None)"
   ]
  },
  {
   "cell_type": "markdown",
   "id": "43540bf5-1ef6-4fae-a600-77333b76b2d3",
   "metadata": {},
   "source": [
    "# <center> Validation"
   ]
  },
  {
   "cell_type": "markdown",
   "id": "d71764d7-6ea4-4830-89b6-89b518293e36",
   "metadata": {},
   "source": [
    "### <center> Example of positive tone"
   ]
  },
  {
   "cell_type": "code",
   "execution_count": 16,
   "id": "6ea80fa9-dbed-4ad3-af3c-066cc130f0fd",
   "metadata": {
    "tags": []
   },
   "outputs": [
    {
     "name": "stdout",
     "output_type": "stream",
     "text": [
      "               company_name                                    news_title  \\\n",
      "8  Grupo Financiero Banorte  Mexico's Banorte posts 13% profit jump in Q4   \n",
      "\n",
      "                                                                                                                                                                                                                                                                news_summary  \\\n",
      "8  (marketscreener.com) Mexico's Grupo\\nFinanciero Banorte reported on Wednesday a 13%\\nincrease in its fourth-quarter net profit, hitting 13.04 billion\\npesos.\\n Revenue for the group, which owns one of the country's\\nlargest banks and pension funds, totaled 34.89 b…   \n",
      "\n",
      "   nlp_tone  \n",
      "8  positive  \n"
     ]
    }
   ],
   "source": [
    "# Verifying one random Positive news summary\n",
    "print(result_df[result_df['nlp_tone'] == 'positive'][5:6][['company_name', 'news_title', 'news_summary', 'nlp_tone']])"
   ]
  },
  {
   "cell_type": "code",
   "execution_count": 17,
   "id": "87d84aa9-895c-4895-8813-9e6954b87d3c",
   "metadata": {
    "tags": []
   },
   "outputs": [
    {
     "name": "stdout",
     "output_type": "stream",
     "text": [
      "               company_name  \\\n",
      "6  Grupo Financiero Banorte   \n",
      "\n",
      "                                                                                      news_title  \\\n",
      "6  Short Interest in Grupo Financiero Banorte, S.A.B. de C.V. (OTCMKTS:GBOOY) Increases By 15.4%   \n",
      "\n",
      "                                                                                                                                                                                                                                                           news_summary  \\\n",
      "6  Grupo Financiero Banorte, S.A.B. de C.V. (OTCMKTS:GBOOY – Get Free Report) was the recipient of a large increase in short interest in January. As of January 15th, there was short interest totalling 7,500 shares, an increase of 15.4% from the December 31st tot…   \n",
      "\n",
      "   nlp_tone  \n",
      "6  positive  \n"
     ]
    }
   ],
   "source": [
    "# Verifying one random Positive news summary\n",
    "print(result_df[result_df['nlp_tone'] == 'positive'][3:4][['company_name', 'news_title', 'news_summary', 'nlp_tone']])"
   ]
  },
  {
   "cell_type": "markdown",
   "id": "42e8e441-0fc7-4d3e-a4f4-0368098bbaf4",
   "metadata": {},
   "source": [
    "## The above 2 outputs shows that the news is mapped to the right company (Grupo Financiero Banorte) verified from company name and the name present in the News title and summary. Aslo, the nlp_status is positive as the news speaks about the profits"
   ]
  },
  {
   "cell_type": "markdown",
   "id": "79d930d1-b739-4157-a056-3697af2baa46",
   "metadata": {},
   "source": [
    "### <center> Example of a negative tone"
   ]
  },
  {
   "cell_type": "code",
   "execution_count": 18,
   "id": "975bbcb1-89ff-4633-ad36-e72573c164cb",
   "metadata": {
    "tags": []
   },
   "outputs": [
    {
     "name": "stdout",
     "output_type": "stream",
     "text": [
      "      company_name  \\\n",
      "33  Grupo Televisa   \n",
      "\n",
      "                                                                      news_title  \\\n",
      "33  Grupo Televisa, S.A.B. (NYSE:TV) Receives $6.02 Consensus PT from Brokerages   \n",
      "\n",
      "                                                                                                                                                                                                                                                            news_summary  \\\n",
      "33  Shares of Grupo Televisa, S.A.B. (NYSE:TV – Get Free Report) have received an average recommendation of “Moderate Buy” from the seven research firms that are presently covering the company, MarketBeat reports. Three equities research analysts have rated the s…   \n",
      "\n",
      "    nlp_tone  \n",
      "33  negative  \n"
     ]
    }
   ],
   "source": [
    "# Verifying one random Negative news summary\n",
    "print(result_df[result_df['nlp_tone'] == 'negative'][16:17][['company_name', 'news_title', 'news_summary', 'nlp_tone']])"
   ]
  },
  {
   "cell_type": "code",
   "execution_count": 19,
   "id": "2c9d07d0-b4d0-47fc-8db4-c6a34b9f933c",
   "metadata": {
    "tags": []
   },
   "outputs": [
    {
     "name": "stdout",
     "output_type": "stream",
     "text": [
      "                        company_name  \\\n",
      "124  Grupo Aeroportuario del Sureste   \n",
      "\n",
      "                                                                                                               news_title  \\\n",
      "124  Campbell & CO Investment Adviser LLC Takes Position in Grupo Aeroportuario del Sureste, S. A. B. de C. V. (NYSE:ASR)   \n",
      "\n",
      "                                                                                                                                                                                                                                                             news_summary  \\\n",
      "124  Campbell & CO Investment Adviser LLC bought a new stake in shares of Grupo Aeroportuario del Sureste, S. A. B. de C. V. (NYSE:ASR – Free Report) during the 3rd quarter, according to its most recent disclosure with the Securities and Exchange Commission. The i…   \n",
      "\n",
      "     nlp_tone  \n",
      "124  negative  \n"
     ]
    }
   ],
   "source": [
    "# Verifying one random Negative news summary\n",
    "print(result_df[result_df['nlp_tone'] == 'negative'][63:64][['company_name', 'news_title', 'news_summary', 'nlp_tone']])"
   ]
  },
  {
   "cell_type": "markdown",
   "id": "0f95c2d3-f47f-49da-8dbd-ba2e8fd2dc53",
   "metadata": {},
   "source": [
    "## The above 2 outputs shows that the news is mapped to the right companies (Grupo Televisa and Grupo Aeroportuario) as per the company names and the name mentioned in the news title and summary. Aslo, the nlp_status is negative as the news talks about topic which is not in favour of the company and the company receiving average recommendation"
   ]
  },
  {
   "cell_type": "markdown",
   "id": "27055020-f29b-4517-abbc-0498589df1cb",
   "metadata": {},
   "source": [
    "# <center> Data Visualization"
   ]
  },
  {
   "cell_type": "code",
   "execution_count": 20,
   "id": "140396a4-7f6e-4723-b41c-c15e33fdf96a",
   "metadata": {
    "tags": []
   },
   "outputs": [
    {
     "data": {
      "text/plain": [
       "([<matplotlib.patches.Wedge at 0x23d0b07a890>,\n",
       "  <matplotlib.patches.Wedge at 0x23d0af76ed0>],\n",
       " [Text(-0.031575723782550476, 1.0995467128174266, 'negative'),\n",
       "  Text(0.03444635643222858, -1.1995055016666427, 'positive')],\n",
       " [Text(-0.017223122063209348, 0.599752752445869, '50.9%'),\n",
       "  Text(0.020093707918800004, -0.6997115426388748, '49.1%')])"
      ]
     },
     "execution_count": 20,
     "metadata": {},
     "output_type": "execute_result"
    },
    {
     "data": {
      "image/png": "[encoded data removed]",
      "text/plain": [
       "<Figure size 640x480 with 1 Axes>"
      ]
     },
     "metadata": {},
     "output_type": "display_data"
    }
   ],
   "source": [
    "#Creating a pie chart to represent the visualization of the distribution of positive and negative news article summaries\n",
    "plt.pie([result_df['nlp_tone'].value_counts()[0], result_df['nlp_tone'].value_counts()[1]], [0, 0.1],\n",
    "        [result_df['nlp_tone'].unique()[0], result_df['nlp_tone'].unique()[1]], autopct = '%.1f%%')"
   ]
  },
  {
   "cell_type": "markdown",
   "id": "ec92e001-6d16-45bb-ba7c-d010c1905412",
   "metadata": {},
   "source": [
    "### As we can clearly view in the above Pie Chart that the tone of 49.2% of the news articles are Positive and 50.8% have negative tone"
   ]
  },
  {
   "cell_type": "code",
   "execution_count": 21,
   "id": "2fcb3bc0-9353-4b1d-b3ba-4796251650d5",
   "metadata": {
    "tags": []
   },
   "outputs": [],
   "source": [
    "# Exported the DataFrame as a csv file to analyze it on Power BI\n",
    "result_df.to_csv('data_mining_assignment_1.csv')"
   ]
  }
 ],
 "metadata": {
  "kernelspec": {
   "display_name": "Python 3 (ipykernel)",
   "language": "python",
   "name": "python3"
  },
  "language_info": {
   "codemirror_mode": {
    "name": "ipython",
    "version": 3
   },
   "file_extension": ".py",
   "mimetype": "text/x-python",
   "name": "python",
   "nbconvert_exporter": "python",
   "pygments_lexer": "ipython3",
   "version": "3.11.4"
  }
 },
 "nbformat": 4,
 "nbformat_minor": 5
}
